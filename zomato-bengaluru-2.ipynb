{
 "cells": [
  {
   "cell_type": "code",
   "execution_count": 1,
   "id": "e2245c74",
   "metadata": {
    "execution": {
     "iopub.execute_input": "2022-11-05T10:15:36.276374Z",
     "iopub.status.busy": "2022-11-05T10:15:36.275684Z",
     "iopub.status.idle": "2022-11-05T10:15:39.309098Z",
     "shell.execute_reply": "2022-11-05T10:15:39.307591Z"
    },
    "papermill": {
     "duration": 3.052142,
     "end_time": "2022-11-05T10:15:39.311999",
     "exception": false,
     "start_time": "2022-11-05T10:15:36.259857",
     "status": "completed"
    },
    "tags": []
   },
   "outputs": [
    {
     "name": "stdout",
     "output_type": "stream",
     "text": [
      "/kaggle/input/zomato/zomato.csv\n"
     ]
    }
   ],
   "source": [
    "#IMPORT THE NECESSARY LIBRARIES\n",
    "\n",
    "import pandas as pd\n",
    "import numpy as np\n",
    "import matplotlib.pyplot as plt\n",
    "import plotly.graph_objs as go\n",
    "import plotly.offline as py\n",
    "import plotly.express as px\n",
    "import seaborn as sns\n",
    "\n",
    "import matplotlib.ticker as mtick\n",
    "plt.style.use('fivethirtyeight')\n",
    "from sklearn.linear_model import LogisticRegression\n",
    "from sklearn.linear_model import LinearRegression\n",
    "from sklearn.ensemble import  ExtraTreesRegressor\n",
    "from sklearn.model_selection import train_test_split\n",
    "\n",
    "import warnings\n",
    "warnings.filterwarnings('ignore')\n",
    "%matplotlib inline\n",
    "\n",
    "import os\n",
    "for dirname, _, filenames in os.walk('/kaggle/input'):\n",
    "    for filename in filenames:\n",
    "        print(os.path.join(dirname, filename))"
   ]
  },
  {
   "cell_type": "code",
   "execution_count": 2,
   "id": "24a8ecdb",
   "metadata": {
    "execution": {
     "iopub.execute_input": "2022-11-05T10:15:39.357736Z",
     "iopub.status.busy": "2022-11-05T10:15:39.357265Z",
     "iopub.status.idle": "2022-11-05T10:15:49.703394Z",
     "shell.execute_reply": "2022-11-05T10:15:49.702384Z"
    },
    "papermill": {
     "duration": 10.370953,
     "end_time": "2022-11-05T10:15:49.706033",
     "exception": false,
     "start_time": "2022-11-05T10:15:39.335080",
     "status": "completed"
    },
    "tags": []
   },
   "outputs": [],
   "source": [
    "data= pd.read_csv('../input/zomato/zomato.csv')"
   ]
  },
  {
   "cell_type": "code",
   "execution_count": 3,
   "id": "4fbe453d",
   "metadata": {
    "execution": {
     "iopub.execute_input": "2022-11-05T10:15:49.735736Z",
     "iopub.status.busy": "2022-11-05T10:15:49.734054Z",
     "iopub.status.idle": "2022-11-05T10:15:49.758952Z",
     "shell.execute_reply": "2022-11-05T10:15:49.757919Z"
    },
    "papermill": {
     "duration": 0.042106,
     "end_time": "2022-11-05T10:15:49.761745",
     "exception": false,
     "start_time": "2022-11-05T10:15:49.719639",
     "status": "completed"
    },
    "tags": []
   },
   "outputs": [
    {
     "data": {
      "text/html": [
       "<div>\n",
       "<style scoped>\n",
       "    .dataframe tbody tr th:only-of-type {\n",
       "        vertical-align: middle;\n",
       "    }\n",
       "\n",
       "    .dataframe tbody tr th {\n",
       "        vertical-align: top;\n",
       "    }\n",
       "\n",
       "    .dataframe thead th {\n",
       "        text-align: right;\n",
       "    }\n",
       "</style>\n",
       "<table border=\"1\" class=\"dataframe\">\n",
       "  <thead>\n",
       "    <tr style=\"text-align: right;\">\n",
       "      <th></th>\n",
       "      <th>url</th>\n",
       "      <th>address</th>\n",
       "      <th>name</th>\n",
       "      <th>online_order</th>\n",
       "      <th>book_table</th>\n",
       "      <th>rate</th>\n",
       "      <th>votes</th>\n",
       "      <th>phone</th>\n",
       "      <th>location</th>\n",
       "      <th>rest_type</th>\n",
       "      <th>dish_liked</th>\n",
       "      <th>cuisines</th>\n",
       "      <th>approx_cost(for two people)</th>\n",
       "      <th>reviews_list</th>\n",
       "      <th>menu_item</th>\n",
       "      <th>listed_in(type)</th>\n",
       "      <th>listed_in(city)</th>\n",
       "    </tr>\n",
       "  </thead>\n",
       "  <tbody>\n",
       "    <tr>\n",
       "      <th>0</th>\n",
       "      <td>https://www.zomato.com/bangalore/jalsa-banasha...</td>\n",
       "      <td>942, 21st Main Road, 2nd Stage, Banashankari, ...</td>\n",
       "      <td>Jalsa</td>\n",
       "      <td>Yes</td>\n",
       "      <td>Yes</td>\n",
       "      <td>4.1/5</td>\n",
       "      <td>775</td>\n",
       "      <td>080 42297555\\r\\n+91 9743772233</td>\n",
       "      <td>Banashankari</td>\n",
       "      <td>Casual Dining</td>\n",
       "      <td>Pasta, Lunch Buffet, Masala Papad, Paneer Laja...</td>\n",
       "      <td>North Indian, Mughlai, Chinese</td>\n",
       "      <td>800</td>\n",
       "      <td>[('Rated 4.0', 'RATED\\n  A beautiful place to ...</td>\n",
       "      <td>[]</td>\n",
       "      <td>Buffet</td>\n",
       "      <td>Banashankari</td>\n",
       "    </tr>\n",
       "    <tr>\n",
       "      <th>1</th>\n",
       "      <td>https://www.zomato.com/bangalore/spice-elephan...</td>\n",
       "      <td>2nd Floor, 80 Feet Road, Near Big Bazaar, 6th ...</td>\n",
       "      <td>Spice Elephant</td>\n",
       "      <td>Yes</td>\n",
       "      <td>No</td>\n",
       "      <td>4.1/5</td>\n",
       "      <td>787</td>\n",
       "      <td>080 41714161</td>\n",
       "      <td>Banashankari</td>\n",
       "      <td>Casual Dining</td>\n",
       "      <td>Momos, Lunch Buffet, Chocolate Nirvana, Thai G...</td>\n",
       "      <td>Chinese, North Indian, Thai</td>\n",
       "      <td>800</td>\n",
       "      <td>[('Rated 4.0', 'RATED\\n  Had been here for din...</td>\n",
       "      <td>[]</td>\n",
       "      <td>Buffet</td>\n",
       "      <td>Banashankari</td>\n",
       "    </tr>\n",
       "    <tr>\n",
       "      <th>2</th>\n",
       "      <td>https://www.zomato.com/SanchurroBangalore?cont...</td>\n",
       "      <td>1112, Next to KIMS Medical College, 17th Cross...</td>\n",
       "      <td>San Churro Cafe</td>\n",
       "      <td>Yes</td>\n",
       "      <td>No</td>\n",
       "      <td>3.8/5</td>\n",
       "      <td>918</td>\n",
       "      <td>+91 9663487993</td>\n",
       "      <td>Banashankari</td>\n",
       "      <td>Cafe, Casual Dining</td>\n",
       "      <td>Churros, Cannelloni, Minestrone Soup, Hot Choc...</td>\n",
       "      <td>Cafe, Mexican, Italian</td>\n",
       "      <td>800</td>\n",
       "      <td>[('Rated 3.0', \"RATED\\n  Ambience is not that ...</td>\n",
       "      <td>[]</td>\n",
       "      <td>Buffet</td>\n",
       "      <td>Banashankari</td>\n",
       "    </tr>\n",
       "    <tr>\n",
       "      <th>3</th>\n",
       "      <td>https://www.zomato.com/bangalore/addhuri-udupi...</td>\n",
       "      <td>1st Floor, Annakuteera, 3rd Stage, Banashankar...</td>\n",
       "      <td>Addhuri Udupi Bhojana</td>\n",
       "      <td>No</td>\n",
       "      <td>No</td>\n",
       "      <td>3.7/5</td>\n",
       "      <td>88</td>\n",
       "      <td>+91 9620009302</td>\n",
       "      <td>Banashankari</td>\n",
       "      <td>Quick Bites</td>\n",
       "      <td>Masala Dosa</td>\n",
       "      <td>South Indian, North Indian</td>\n",
       "      <td>300</td>\n",
       "      <td>[('Rated 4.0', \"RATED\\n  Great food and proper...</td>\n",
       "      <td>[]</td>\n",
       "      <td>Buffet</td>\n",
       "      <td>Banashankari</td>\n",
       "    </tr>\n",
       "    <tr>\n",
       "      <th>4</th>\n",
       "      <td>https://www.zomato.com/bangalore/grand-village...</td>\n",
       "      <td>10, 3rd Floor, Lakshmi Associates, Gandhi Baza...</td>\n",
       "      <td>Grand Village</td>\n",
       "      <td>No</td>\n",
       "      <td>No</td>\n",
       "      <td>3.8/5</td>\n",
       "      <td>166</td>\n",
       "      <td>+91 8026612447\\r\\n+91 9901210005</td>\n",
       "      <td>Basavanagudi</td>\n",
       "      <td>Casual Dining</td>\n",
       "      <td>Panipuri, Gol Gappe</td>\n",
       "      <td>North Indian, Rajasthani</td>\n",
       "      <td>600</td>\n",
       "      <td>[('Rated 4.0', 'RATED\\n  Very good restaurant ...</td>\n",
       "      <td>[]</td>\n",
       "      <td>Buffet</td>\n",
       "      <td>Banashankari</td>\n",
       "    </tr>\n",
       "  </tbody>\n",
       "</table>\n",
       "</div>"
      ],
      "text/plain": [
       "                                                 url  \\\n",
       "0  https://www.zomato.com/bangalore/jalsa-banasha...   \n",
       "1  https://www.zomato.com/bangalore/spice-elephan...   \n",
       "2  https://www.zomato.com/SanchurroBangalore?cont...   \n",
       "3  https://www.zomato.com/bangalore/addhuri-udupi...   \n",
       "4  https://www.zomato.com/bangalore/grand-village...   \n",
       "\n",
       "                                             address                   name  \\\n",
       "0  942, 21st Main Road, 2nd Stage, Banashankari, ...                  Jalsa   \n",
       "1  2nd Floor, 80 Feet Road, Near Big Bazaar, 6th ...         Spice Elephant   \n",
       "2  1112, Next to KIMS Medical College, 17th Cross...        San Churro Cafe   \n",
       "3  1st Floor, Annakuteera, 3rd Stage, Banashankar...  Addhuri Udupi Bhojana   \n",
       "4  10, 3rd Floor, Lakshmi Associates, Gandhi Baza...          Grand Village   \n",
       "\n",
       "  online_order book_table   rate  votes                             phone  \\\n",
       "0          Yes        Yes  4.1/5    775    080 42297555\\r\\n+91 9743772233   \n",
       "1          Yes         No  4.1/5    787                      080 41714161   \n",
       "2          Yes         No  3.8/5    918                    +91 9663487993   \n",
       "3           No         No  3.7/5     88                    +91 9620009302   \n",
       "4           No         No  3.8/5    166  +91 8026612447\\r\\n+91 9901210005   \n",
       "\n",
       "       location            rest_type  \\\n",
       "0  Banashankari        Casual Dining   \n",
       "1  Banashankari        Casual Dining   \n",
       "2  Banashankari  Cafe, Casual Dining   \n",
       "3  Banashankari          Quick Bites   \n",
       "4  Basavanagudi        Casual Dining   \n",
       "\n",
       "                                          dish_liked  \\\n",
       "0  Pasta, Lunch Buffet, Masala Papad, Paneer Laja...   \n",
       "1  Momos, Lunch Buffet, Chocolate Nirvana, Thai G...   \n",
       "2  Churros, Cannelloni, Minestrone Soup, Hot Choc...   \n",
       "3                                        Masala Dosa   \n",
       "4                                Panipuri, Gol Gappe   \n",
       "\n",
       "                         cuisines approx_cost(for two people)  \\\n",
       "0  North Indian, Mughlai, Chinese                         800   \n",
       "1     Chinese, North Indian, Thai                         800   \n",
       "2          Cafe, Mexican, Italian                         800   \n",
       "3      South Indian, North Indian                         300   \n",
       "4        North Indian, Rajasthani                         600   \n",
       "\n",
       "                                        reviews_list menu_item  \\\n",
       "0  [('Rated 4.0', 'RATED\\n  A beautiful place to ...        []   \n",
       "1  [('Rated 4.0', 'RATED\\n  Had been here for din...        []   \n",
       "2  [('Rated 3.0', \"RATED\\n  Ambience is not that ...        []   \n",
       "3  [('Rated 4.0', \"RATED\\n  Great food and proper...        []   \n",
       "4  [('Rated 4.0', 'RATED\\n  Very good restaurant ...        []   \n",
       "\n",
       "  listed_in(type) listed_in(city)  \n",
       "0          Buffet    Banashankari  \n",
       "1          Buffet    Banashankari  \n",
       "2          Buffet    Banashankari  \n",
       "3          Buffet    Banashankari  \n",
       "4          Buffet    Banashankari  "
      ]
     },
     "execution_count": 3,
     "metadata": {},
     "output_type": "execute_result"
    }
   ],
   "source": [
    "data.head()"
   ]
  },
  {
   "cell_type": "code",
   "execution_count": 4,
   "id": "d5152cf2",
   "metadata": {
    "execution": {
     "iopub.execute_input": "2022-11-05T10:15:49.789982Z",
     "iopub.status.busy": "2022-11-05T10:15:49.789711Z",
     "iopub.status.idle": "2022-11-05T10:15:49.807426Z",
     "shell.execute_reply": "2022-11-05T10:15:49.806573Z"
    },
    "papermill": {
     "duration": 0.034145,
     "end_time": "2022-11-05T10:15:49.809432",
     "exception": false,
     "start_time": "2022-11-05T10:15:49.775287",
     "status": "completed"
    },
    "tags": []
   },
   "outputs": [
    {
     "data": {
      "text/html": [
       "<div>\n",
       "<style scoped>\n",
       "    .dataframe tbody tr th:only-of-type {\n",
       "        vertical-align: middle;\n",
       "    }\n",
       "\n",
       "    .dataframe tbody tr th {\n",
       "        vertical-align: top;\n",
       "    }\n",
       "\n",
       "    .dataframe thead th {\n",
       "        text-align: right;\n",
       "    }\n",
       "</style>\n",
       "<table border=\"1\" class=\"dataframe\">\n",
       "  <thead>\n",
       "    <tr style=\"text-align: right;\">\n",
       "      <th></th>\n",
       "      <th>url</th>\n",
       "      <th>address</th>\n",
       "      <th>name</th>\n",
       "      <th>online_order</th>\n",
       "      <th>book_table</th>\n",
       "      <th>rate</th>\n",
       "      <th>votes</th>\n",
       "      <th>phone</th>\n",
       "      <th>location</th>\n",
       "      <th>rest_type</th>\n",
       "      <th>dish_liked</th>\n",
       "      <th>cuisines</th>\n",
       "      <th>approx_cost(for two people)</th>\n",
       "      <th>reviews_list</th>\n",
       "      <th>menu_item</th>\n",
       "      <th>listed_in(type)</th>\n",
       "      <th>listed_in(city)</th>\n",
       "    </tr>\n",
       "  </thead>\n",
       "  <tbody>\n",
       "    <tr>\n",
       "      <th>51712</th>\n",
       "      <td>https://www.zomato.com/bangalore/best-brews-fo...</td>\n",
       "      <td>Four Points by Sheraton Bengaluru, 43/3, White...</td>\n",
       "      <td>Best Brews - Four Points by Sheraton Bengaluru...</td>\n",
       "      <td>No</td>\n",
       "      <td>No</td>\n",
       "      <td>3.6 /5</td>\n",
       "      <td>27</td>\n",
       "      <td>080 40301477</td>\n",
       "      <td>Whitefield</td>\n",
       "      <td>Bar</td>\n",
       "      <td>NaN</td>\n",
       "      <td>Continental</td>\n",
       "      <td>1,500</td>\n",
       "      <td>[('Rated 5.0', \"RATED\\n  Food and service are ...</td>\n",
       "      <td>[]</td>\n",
       "      <td>Pubs and bars</td>\n",
       "      <td>Whitefield</td>\n",
       "    </tr>\n",
       "    <tr>\n",
       "      <th>51713</th>\n",
       "      <td>https://www.zomato.com/bangalore/vinod-bar-and...</td>\n",
       "      <td>Number 10, Garudachar Palya, Mahadevapura, Whi...</td>\n",
       "      <td>Vinod Bar And Restaurant</td>\n",
       "      <td>No</td>\n",
       "      <td>No</td>\n",
       "      <td>NaN</td>\n",
       "      <td>0</td>\n",
       "      <td>+91 8197675843</td>\n",
       "      <td>Whitefield</td>\n",
       "      <td>Bar</td>\n",
       "      <td>NaN</td>\n",
       "      <td>Finger Food</td>\n",
       "      <td>600</td>\n",
       "      <td>[]</td>\n",
       "      <td>[]</td>\n",
       "      <td>Pubs and bars</td>\n",
       "      <td>Whitefield</td>\n",
       "    </tr>\n",
       "    <tr>\n",
       "      <th>51714</th>\n",
       "      <td>https://www.zomato.com/bangalore/plunge-sherat...</td>\n",
       "      <td>Sheraton Grand Bengaluru Whitefield Hotel &amp; Co...</td>\n",
       "      <td>Plunge - Sheraton Grand Bengaluru Whitefield H...</td>\n",
       "      <td>No</td>\n",
       "      <td>No</td>\n",
       "      <td>NaN</td>\n",
       "      <td>0</td>\n",
       "      <td>NaN</td>\n",
       "      <td>Whitefield</td>\n",
       "      <td>Bar</td>\n",
       "      <td>NaN</td>\n",
       "      <td>Finger Food</td>\n",
       "      <td>2,000</td>\n",
       "      <td>[]</td>\n",
       "      <td>[]</td>\n",
       "      <td>Pubs and bars</td>\n",
       "      <td>Whitefield</td>\n",
       "    </tr>\n",
       "    <tr>\n",
       "      <th>51715</th>\n",
       "      <td>https://www.zomato.com/bangalore/chime-sherato...</td>\n",
       "      <td>Sheraton Grand Bengaluru Whitefield Hotel &amp; Co...</td>\n",
       "      <td>Chime - Sheraton Grand Bengaluru Whitefield Ho...</td>\n",
       "      <td>No</td>\n",
       "      <td>Yes</td>\n",
       "      <td>4.3 /5</td>\n",
       "      <td>236</td>\n",
       "      <td>080 49652769</td>\n",
       "      <td>ITPL Main Road, Whitefield</td>\n",
       "      <td>Bar</td>\n",
       "      <td>Cocktails, Pizza, Buttermilk</td>\n",
       "      <td>Finger Food</td>\n",
       "      <td>2,500</td>\n",
       "      <td>[('Rated 4.0', 'RATED\\n  Nice and friendly pla...</td>\n",
       "      <td>[]</td>\n",
       "      <td>Pubs and bars</td>\n",
       "      <td>Whitefield</td>\n",
       "    </tr>\n",
       "    <tr>\n",
       "      <th>51716</th>\n",
       "      <td>https://www.zomato.com/bangalore/the-nest-the-...</td>\n",
       "      <td>ITPL Main Road, KIADB Export Promotion Industr...</td>\n",
       "      <td>The Nest - The Den Bengaluru</td>\n",
       "      <td>No</td>\n",
       "      <td>No</td>\n",
       "      <td>3.4 /5</td>\n",
       "      <td>13</td>\n",
       "      <td>+91 8071117272</td>\n",
       "      <td>ITPL Main Road, Whitefield</td>\n",
       "      <td>Bar, Casual Dining</td>\n",
       "      <td>NaN</td>\n",
       "      <td>Finger Food, North Indian, Continental</td>\n",
       "      <td>1,500</td>\n",
       "      <td>[('Rated 5.0', 'RATED\\n  Great ambience , look...</td>\n",
       "      <td>[]</td>\n",
       "      <td>Pubs and bars</td>\n",
       "      <td>Whitefield</td>\n",
       "    </tr>\n",
       "  </tbody>\n",
       "</table>\n",
       "</div>"
      ],
      "text/plain": [
       "                                                     url  \\\n",
       "51712  https://www.zomato.com/bangalore/best-brews-fo...   \n",
       "51713  https://www.zomato.com/bangalore/vinod-bar-and...   \n",
       "51714  https://www.zomato.com/bangalore/plunge-sherat...   \n",
       "51715  https://www.zomato.com/bangalore/chime-sherato...   \n",
       "51716  https://www.zomato.com/bangalore/the-nest-the-...   \n",
       "\n",
       "                                                 address  \\\n",
       "51712  Four Points by Sheraton Bengaluru, 43/3, White...   \n",
       "51713  Number 10, Garudachar Palya, Mahadevapura, Whi...   \n",
       "51714  Sheraton Grand Bengaluru Whitefield Hotel & Co...   \n",
       "51715  Sheraton Grand Bengaluru Whitefield Hotel & Co...   \n",
       "51716  ITPL Main Road, KIADB Export Promotion Industr...   \n",
       "\n",
       "                                                    name online_order  \\\n",
       "51712  Best Brews - Four Points by Sheraton Bengaluru...           No   \n",
       "51713                           Vinod Bar And Restaurant           No   \n",
       "51714  Plunge - Sheraton Grand Bengaluru Whitefield H...           No   \n",
       "51715  Chime - Sheraton Grand Bengaluru Whitefield Ho...           No   \n",
       "51716                       The Nest - The Den Bengaluru           No   \n",
       "\n",
       "      book_table    rate  votes           phone                    location  \\\n",
       "51712         No  3.6 /5     27    080 40301477                  Whitefield   \n",
       "51713         No     NaN      0  +91 8197675843                  Whitefield   \n",
       "51714         No     NaN      0             NaN                  Whitefield   \n",
       "51715        Yes  4.3 /5    236    080 49652769  ITPL Main Road, Whitefield   \n",
       "51716         No  3.4 /5     13  +91 8071117272  ITPL Main Road, Whitefield   \n",
       "\n",
       "                rest_type                    dish_liked  \\\n",
       "51712                 Bar                           NaN   \n",
       "51713                 Bar                           NaN   \n",
       "51714                 Bar                           NaN   \n",
       "51715                 Bar  Cocktails, Pizza, Buttermilk   \n",
       "51716  Bar, Casual Dining                           NaN   \n",
       "\n",
       "                                     cuisines approx_cost(for two people)  \\\n",
       "51712                             Continental                       1,500   \n",
       "51713                             Finger Food                         600   \n",
       "51714                             Finger Food                       2,000   \n",
       "51715                             Finger Food                       2,500   \n",
       "51716  Finger Food, North Indian, Continental                       1,500   \n",
       "\n",
       "                                            reviews_list menu_item  \\\n",
       "51712  [('Rated 5.0', \"RATED\\n  Food and service are ...        []   \n",
       "51713                                                 []        []   \n",
       "51714                                                 []        []   \n",
       "51715  [('Rated 4.0', 'RATED\\n  Nice and friendly pla...        []   \n",
       "51716  [('Rated 5.0', 'RATED\\n  Great ambience , look...        []   \n",
       "\n",
       "      listed_in(type) listed_in(city)  \n",
       "51712   Pubs and bars      Whitefield  \n",
       "51713   Pubs and bars      Whitefield  \n",
       "51714   Pubs and bars      Whitefield  \n",
       "51715   Pubs and bars      Whitefield  \n",
       "51716   Pubs and bars      Whitefield  "
      ]
     },
     "execution_count": 4,
     "metadata": {},
     "output_type": "execute_result"
    }
   ],
   "source": [
    "data.tail()"
   ]
  },
  {
   "cell_type": "code",
   "execution_count": 5,
   "id": "cc901a29",
   "metadata": {
    "execution": {
     "iopub.execute_input": "2022-11-05T10:15:49.839300Z",
     "iopub.status.busy": "2022-11-05T10:15:49.837731Z",
     "iopub.status.idle": "2022-11-05T10:15:49.844369Z",
     "shell.execute_reply": "2022-11-05T10:15:49.843349Z"
    },
    "papermill": {
     "duration": 0.023498,
     "end_time": "2022-11-05T10:15:49.846534",
     "exception": false,
     "start_time": "2022-11-05T10:15:49.823036",
     "status": "completed"
    },
    "tags": []
   },
   "outputs": [
    {
     "data": {
      "text/plain": [
       "(51717, 17)"
      ]
     },
     "execution_count": 5,
     "metadata": {},
     "output_type": "execute_result"
    }
   ],
   "source": [
    "data.shape"
   ]
  },
  {
   "cell_type": "code",
   "execution_count": 6,
   "id": "e83992a6",
   "metadata": {
    "execution": {
     "iopub.execute_input": "2022-11-05T10:15:49.875136Z",
     "iopub.status.busy": "2022-11-05T10:15:49.874886Z",
     "iopub.status.idle": "2022-11-05T10:15:49.880443Z",
     "shell.execute_reply": "2022-11-05T10:15:49.879587Z"
    },
    "papermill": {
     "duration": 0.022066,
     "end_time": "2022-11-05T10:15:49.882359",
     "exception": false,
     "start_time": "2022-11-05T10:15:49.860293",
     "status": "completed"
    },
    "tags": []
   },
   "outputs": [
    {
     "data": {
      "text/plain": [
       "Index(['url', 'address', 'name', 'online_order', 'book_table', 'rate', 'votes',\n",
       "       'phone', 'location', 'rest_type', 'dish_liked', 'cuisines',\n",
       "       'approx_cost(for two people)', 'reviews_list', 'menu_item',\n",
       "       'listed_in(type)', 'listed_in(city)'],\n",
       "      dtype='object')"
      ]
     },
     "execution_count": 6,
     "metadata": {},
     "output_type": "execute_result"
    }
   ],
   "source": [
    "data.columns"
   ]
  },
  {
   "cell_type": "code",
   "execution_count": 7,
   "id": "b1615ef3",
   "metadata": {
    "execution": {
     "iopub.execute_input": "2022-11-05T10:15:49.910886Z",
     "iopub.status.busy": "2022-11-05T10:15:49.910356Z",
     "iopub.status.idle": "2022-11-05T10:15:51.763466Z",
     "shell.execute_reply": "2022-11-05T10:15:51.762505Z"
    },
    "papermill": {
     "duration": 1.869621,
     "end_time": "2022-11-05T10:15:51.765495",
     "exception": false,
     "start_time": "2022-11-05T10:15:49.895874",
     "status": "completed"
    },
    "tags": []
   },
   "outputs": [
    {
     "data": {
      "text/plain": [
       "0"
      ]
     },
     "execution_count": 7,
     "metadata": {},
     "output_type": "execute_result"
    }
   ],
   "source": [
    "data.duplicated().sum()"
   ]
  },
  {
   "cell_type": "code",
   "execution_count": 8,
   "id": "0fcb30b7",
   "metadata": {
    "execution": {
     "iopub.execute_input": "2022-11-05T10:15:51.795119Z",
     "iopub.status.busy": "2022-11-05T10:15:51.794825Z",
     "iopub.status.idle": "2022-11-05T10:15:51.836329Z",
     "shell.execute_reply": "2022-11-05T10:15:51.835441Z"
    },
    "papermill": {
     "duration": 0.058723,
     "end_time": "2022-11-05T10:15:51.838244",
     "exception": false,
     "start_time": "2022-11-05T10:15:51.779521",
     "status": "completed"
    },
    "tags": []
   },
   "outputs": [
    {
     "data": {
      "text/plain": [
       "url                                0\n",
       "address                            0\n",
       "name                               0\n",
       "online_order                       0\n",
       "book_table                         0\n",
       "rate                            7775\n",
       "votes                              0\n",
       "phone                           1208\n",
       "location                          21\n",
       "rest_type                        227\n",
       "dish_liked                     28078\n",
       "cuisines                          45\n",
       "approx_cost(for two people)      346\n",
       "reviews_list                       0\n",
       "menu_item                          0\n",
       "listed_in(type)                    0\n",
       "listed_in(city)                    0\n",
       "dtype: int64"
      ]
     },
     "execution_count": 8,
     "metadata": {},
     "output_type": "execute_result"
    }
   ],
   "source": [
    "data.isnull().sum()"
   ]
  },
  {
   "cell_type": "code",
   "execution_count": 9,
   "id": "d18f5bdf",
   "metadata": {
    "execution": {
     "iopub.execute_input": "2022-11-05T10:15:51.866874Z",
     "iopub.status.busy": "2022-11-05T10:15:51.866597Z",
     "iopub.status.idle": "2022-11-05T10:15:51.917171Z",
     "shell.execute_reply": "2022-11-05T10:15:51.915551Z"
    },
    "papermill": {
     "duration": 0.067324,
     "end_time": "2022-11-05T10:15:51.919252",
     "exception": false,
     "start_time": "2022-11-05T10:15:51.851928",
     "status": "completed"
    },
    "tags": []
   },
   "outputs": [
    {
     "name": "stdout",
     "output_type": "stream",
     "text": [
      "<class 'pandas.core.frame.DataFrame'>\n",
      "RangeIndex: 51717 entries, 0 to 51716\n",
      "Data columns (total 17 columns):\n",
      " #   Column                       Non-Null Count  Dtype \n",
      "---  ------                       --------------  ----- \n",
      " 0   url                          51717 non-null  object\n",
      " 1   address                      51717 non-null  object\n",
      " 2   name                         51717 non-null  object\n",
      " 3   online_order                 51717 non-null  object\n",
      " 4   book_table                   51717 non-null  object\n",
      " 5   rate                         43942 non-null  object\n",
      " 6   votes                        51717 non-null  int64 \n",
      " 7   phone                        50509 non-null  object\n",
      " 8   location                     51696 non-null  object\n",
      " 9   rest_type                    51490 non-null  object\n",
      " 10  dish_liked                   23639 non-null  object\n",
      " 11  cuisines                     51672 non-null  object\n",
      " 12  approx_cost(for two people)  51371 non-null  object\n",
      " 13  reviews_list                 51717 non-null  object\n",
      " 14  menu_item                    51717 non-null  object\n",
      " 15  listed_in(type)              51717 non-null  object\n",
      " 16  listed_in(city)              51717 non-null  object\n",
      "dtypes: int64(1), object(16)\n",
      "memory usage: 6.7+ MB\n"
     ]
    }
   ],
   "source": [
    "data.info()"
   ]
  },
  {
   "cell_type": "code",
   "execution_count": 10,
   "id": "b79ae8c2",
   "metadata": {
    "execution": {
     "iopub.execute_input": "2022-11-05T10:15:51.948822Z",
     "iopub.status.busy": "2022-11-05T10:15:51.947963Z",
     "iopub.status.idle": "2022-11-05T10:15:51.964351Z",
     "shell.execute_reply": "2022-11-05T10:15:51.963370Z"
    },
    "papermill": {
     "duration": 0.032964,
     "end_time": "2022-11-05T10:15:51.966280",
     "exception": false,
     "start_time": "2022-11-05T10:15:51.933316",
     "status": "completed"
    },
    "tags": []
   },
   "outputs": [
    {
     "data": {
      "text/html": [
       "<div>\n",
       "<style scoped>\n",
       "    .dataframe tbody tr th:only-of-type {\n",
       "        vertical-align: middle;\n",
       "    }\n",
       "\n",
       "    .dataframe tbody tr th {\n",
       "        vertical-align: top;\n",
       "    }\n",
       "\n",
       "    .dataframe thead th {\n",
       "        text-align: right;\n",
       "    }\n",
       "</style>\n",
       "<table border=\"1\" class=\"dataframe\">\n",
       "  <thead>\n",
       "    <tr style=\"text-align: right;\">\n",
       "      <th></th>\n",
       "      <th>votes</th>\n",
       "    </tr>\n",
       "  </thead>\n",
       "  <tbody>\n",
       "    <tr>\n",
       "      <th>count</th>\n",
       "      <td>51717.000000</td>\n",
       "    </tr>\n",
       "    <tr>\n",
       "      <th>mean</th>\n",
       "      <td>283.697527</td>\n",
       "    </tr>\n",
       "    <tr>\n",
       "      <th>std</th>\n",
       "      <td>803.838853</td>\n",
       "    </tr>\n",
       "    <tr>\n",
       "      <th>min</th>\n",
       "      <td>0.000000</td>\n",
       "    </tr>\n",
       "    <tr>\n",
       "      <th>25%</th>\n",
       "      <td>7.000000</td>\n",
       "    </tr>\n",
       "    <tr>\n",
       "      <th>50%</th>\n",
       "      <td>41.000000</td>\n",
       "    </tr>\n",
       "    <tr>\n",
       "      <th>75%</th>\n",
       "      <td>198.000000</td>\n",
       "    </tr>\n",
       "    <tr>\n",
       "      <th>max</th>\n",
       "      <td>16832.000000</td>\n",
       "    </tr>\n",
       "  </tbody>\n",
       "</table>\n",
       "</div>"
      ],
      "text/plain": [
       "              votes\n",
       "count  51717.000000\n",
       "mean     283.697527\n",
       "std      803.838853\n",
       "min        0.000000\n",
       "25%        7.000000\n",
       "50%       41.000000\n",
       "75%      198.000000\n",
       "max    16832.000000"
      ]
     },
     "execution_count": 10,
     "metadata": {},
     "output_type": "execute_result"
    }
   ],
   "source": [
    "data.describe()"
   ]
  },
  {
   "cell_type": "code",
   "execution_count": 11,
   "id": "78bb1d56",
   "metadata": {
    "execution": {
     "iopub.execute_input": "2022-11-05T10:15:51.995726Z",
     "iopub.status.busy": "2022-11-05T10:15:51.995436Z",
     "iopub.status.idle": "2022-11-05T10:15:53.124398Z",
     "shell.execute_reply": "2022-11-05T10:15:53.123504Z"
    },
    "papermill": {
     "duration": 1.146195,
     "end_time": "2022-11-05T10:15:53.126759",
     "exception": false,
     "start_time": "2022-11-05T10:15:51.980564",
     "status": "completed"
    },
    "tags": []
   },
   "outputs": [
    {
     "data": {
      "text/plain": [
       "url                            51717\n",
       "address                        11495\n",
       "name                            8792\n",
       "online_order                       2\n",
       "book_table                         2\n",
       "rate                              64\n",
       "votes                           2328\n",
       "phone                          14926\n",
       "location                          93\n",
       "rest_type                         93\n",
       "dish_liked                      5271\n",
       "cuisines                        2723\n",
       "approx_cost(for two people)       70\n",
       "reviews_list                   22513\n",
       "menu_item                       9098\n",
       "listed_in(type)                    7\n",
       "listed_in(city)                   30\n",
       "dtype: int64"
      ]
     },
     "execution_count": 11,
     "metadata": {},
     "output_type": "execute_result"
    }
   ],
   "source": [
    "data.nunique()"
   ]
  },
  {
   "cell_type": "code",
   "execution_count": 12,
   "id": "bb932ee9",
   "metadata": {
    "execution": {
     "iopub.execute_input": "2022-11-05T10:15:53.156962Z",
     "iopub.status.busy": "2022-11-05T10:15:53.156658Z",
     "iopub.status.idle": "2022-11-05T10:15:53.170822Z",
     "shell.execute_reply": "2022-11-05T10:15:53.169940Z"
    },
    "papermill": {
     "duration": 0.031696,
     "end_time": "2022-11-05T10:15:53.172996",
     "exception": false,
     "start_time": "2022-11-05T10:15:53.141300",
     "status": "completed"
    },
    "tags": []
   },
   "outputs": [],
   "source": [
    "df=data.drop(['url','phone'],axis=1)"
   ]
  },
  {
   "cell_type": "code",
   "execution_count": 13,
   "id": "6a739524",
   "metadata": {
    "execution": {
     "iopub.execute_input": "2022-11-05T10:15:53.203501Z",
     "iopub.status.busy": "2022-11-05T10:15:53.202624Z",
     "iopub.status.idle": "2022-11-05T10:15:54.280391Z",
     "shell.execute_reply": "2022-11-05T10:15:54.279460Z"
    },
    "papermill": {
     "duration": 1.095707,
     "end_time": "2022-11-05T10:15:54.283082",
     "exception": false,
     "start_time": "2022-11-05T10:15:53.187375",
     "status": "completed"
    },
    "tags": []
   },
   "outputs": [
    {
     "data": {
      "text/plain": [
       "43"
      ]
     },
     "execution_count": 13,
     "metadata": {},
     "output_type": "execute_result"
    }
   ],
   "source": [
    "df.duplicated().sum()"
   ]
  },
  {
   "cell_type": "code",
   "execution_count": 14,
   "id": "f832cfaa",
   "metadata": {
    "execution": {
     "iopub.execute_input": "2022-11-05T10:15:54.313891Z",
     "iopub.status.busy": "2022-11-05T10:15:54.313591Z",
     "iopub.status.idle": "2022-11-05T10:15:55.403585Z",
     "shell.execute_reply": "2022-11-05T10:15:55.402487Z"
    },
    "papermill": {
     "duration": 1.108187,
     "end_time": "2022-11-05T10:15:55.406189",
     "exception": false,
     "start_time": "2022-11-05T10:15:54.298002",
     "status": "completed"
    },
    "tags": []
   },
   "outputs": [],
   "source": [
    "df.drop_duplicates(inplace=True)"
   ]
  },
  {
   "cell_type": "code",
   "execution_count": 15,
   "id": "5b206c3b",
   "metadata": {
    "execution": {
     "iopub.execute_input": "2022-11-05T10:15:55.438775Z",
     "iopub.status.busy": "2022-11-05T10:15:55.438425Z",
     "iopub.status.idle": "2022-11-05T10:15:56.514342Z",
     "shell.execute_reply": "2022-11-05T10:15:56.513458Z"
    },
    "papermill": {
     "duration": 1.094328,
     "end_time": "2022-11-05T10:15:56.516647",
     "exception": false,
     "start_time": "2022-11-05T10:15:55.422319",
     "status": "completed"
    },
    "tags": []
   },
   "outputs": [
    {
     "data": {
      "text/plain": [
       "0"
      ]
     },
     "execution_count": 15,
     "metadata": {},
     "output_type": "execute_result"
    }
   ],
   "source": [
    "df.duplicated().sum()"
   ]
  },
  {
   "cell_type": "code",
   "execution_count": 16,
   "id": "86c593a9",
   "metadata": {
    "execution": {
     "iopub.execute_input": "2022-11-05T10:15:56.546940Z",
     "iopub.status.busy": "2022-11-05T10:15:56.546644Z",
     "iopub.status.idle": "2022-11-05T10:15:56.586686Z",
     "shell.execute_reply": "2022-11-05T10:15:56.585821Z"
    },
    "papermill": {
     "duration": 0.057454,
     "end_time": "2022-11-05T10:15:56.588803",
     "exception": false,
     "start_time": "2022-11-05T10:15:56.531349",
     "status": "completed"
    },
    "tags": []
   },
   "outputs": [],
   "source": [
    "df.dropna(how='any',inplace=True)"
   ]
  },
  {
   "cell_type": "code",
   "execution_count": 17,
   "id": "0259b7a6",
   "metadata": {
    "execution": {
     "iopub.execute_input": "2022-11-05T10:15:56.619402Z",
     "iopub.status.busy": "2022-11-05T10:15:56.618642Z",
     "iopub.status.idle": "2022-11-05T10:15:56.637467Z",
     "shell.execute_reply": "2022-11-05T10:15:56.636473Z"
    },
    "papermill": {
     "duration": 0.036277,
     "end_time": "2022-11-05T10:15:56.639585",
     "exception": false,
     "start_time": "2022-11-05T10:15:56.603308",
     "status": "completed"
    },
    "tags": []
   },
   "outputs": [
    {
     "data": {
      "text/plain": [
       "address                        0\n",
       "name                           0\n",
       "online_order                   0\n",
       "book_table                     0\n",
       "rate                           0\n",
       "votes                          0\n",
       "location                       0\n",
       "rest_type                      0\n",
       "dish_liked                     0\n",
       "cuisines                       0\n",
       "approx_cost(for two people)    0\n",
       "reviews_list                   0\n",
       "menu_item                      0\n",
       "listed_in(type)                0\n",
       "listed_in(city)                0\n",
       "dtype: int64"
      ]
     },
     "execution_count": 17,
     "metadata": {},
     "output_type": "execute_result"
    }
   ],
   "source": [
    "df.isnull().sum()"
   ]
  },
  {
   "cell_type": "code",
   "execution_count": 18,
   "id": "f1113299",
   "metadata": {
    "execution": {
     "iopub.execute_input": "2022-11-05T10:15:56.670038Z",
     "iopub.status.busy": "2022-11-05T10:15:56.669286Z",
     "iopub.status.idle": "2022-11-05T10:15:56.675389Z",
     "shell.execute_reply": "2022-11-05T10:15:56.674446Z"
    },
    "papermill": {
     "duration": 0.023241,
     "end_time": "2022-11-05T10:15:56.677323",
     "exception": false,
     "start_time": "2022-11-05T10:15:56.654082",
     "status": "completed"
    },
    "tags": []
   },
   "outputs": [
    {
     "data": {
      "text/plain": [
       "(23395, 15)"
      ]
     },
     "execution_count": 18,
     "metadata": {},
     "output_type": "execute_result"
    }
   ],
   "source": [
    "df.shape"
   ]
  },
  {
   "cell_type": "code",
   "execution_count": 19,
   "id": "c9515959",
   "metadata": {
    "execution": {
     "iopub.execute_input": "2022-11-05T10:15:56.707519Z",
     "iopub.status.busy": "2022-11-05T10:15:56.707058Z",
     "iopub.status.idle": "2022-11-05T10:15:56.712508Z",
     "shell.execute_reply": "2022-11-05T10:15:56.711667Z"
    },
    "papermill": {
     "duration": 0.022621,
     "end_time": "2022-11-05T10:15:56.714310",
     "exception": false,
     "start_time": "2022-11-05T10:15:56.691689",
     "status": "completed"
    },
    "tags": []
   },
   "outputs": [
    {
     "data": {
      "text/plain": [
       "Index(['address', 'name', 'online_order', 'book_table', 'rate', 'votes',\n",
       "       'location', 'rest_type', 'dish_liked', 'cuisines',\n",
       "       'approx_cost(for two people)', 'reviews_list', 'menu_item',\n",
       "       'listed_in(type)', 'listed_in(city)'],\n",
       "      dtype='object')"
      ]
     },
     "execution_count": 19,
     "metadata": {},
     "output_type": "execute_result"
    }
   ],
   "source": [
    "df.columns"
   ]
  },
  {
   "cell_type": "code",
   "execution_count": 20,
   "id": "ac6d8a1f",
   "metadata": {
    "execution": {
     "iopub.execute_input": "2022-11-05T10:15:56.744969Z",
     "iopub.status.busy": "2022-11-05T10:15:56.744128Z",
     "iopub.status.idle": "2022-11-05T10:15:56.752073Z",
     "shell.execute_reply": "2022-11-05T10:15:56.751265Z"
    },
    "papermill": {
     "duration": 0.02518,
     "end_time": "2022-11-05T10:15:56.753947",
     "exception": false,
     "start_time": "2022-11-05T10:15:56.728767",
     "status": "completed"
    },
    "tags": []
   },
   "outputs": [],
   "source": [
    "df = df.rename(columns={'approx_cost(for two people)':'cost','listed_in(type)':'type',\n",
    "                                  'listed_in(city)':'city'})"
   ]
  },
  {
   "cell_type": "code",
   "execution_count": 21,
   "id": "ca03f254",
   "metadata": {
    "execution": {
     "iopub.execute_input": "2022-11-05T10:15:56.784486Z",
     "iopub.status.busy": "2022-11-05T10:15:56.783764Z",
     "iopub.status.idle": "2022-11-05T10:15:56.790099Z",
     "shell.execute_reply": "2022-11-05T10:15:56.789133Z"
    },
    "papermill": {
     "duration": 0.0235,
     "end_time": "2022-11-05T10:15:56.791985",
     "exception": false,
     "start_time": "2022-11-05T10:15:56.768485",
     "status": "completed"
    },
    "tags": []
   },
   "outputs": [
    {
     "data": {
      "text/plain": [
       "Index(['address', 'name', 'online_order', 'book_table', 'rate', 'votes',\n",
       "       'location', 'rest_type', 'dish_liked', 'cuisines', 'cost',\n",
       "       'reviews_list', 'menu_item', 'type', 'city'],\n",
       "      dtype='object')"
      ]
     },
     "execution_count": 21,
     "metadata": {},
     "output_type": "execute_result"
    }
   ],
   "source": [
    "df.columns"
   ]
  },
  {
   "cell_type": "code",
   "execution_count": 22,
   "id": "64ce5e9c",
   "metadata": {
    "execution": {
     "iopub.execute_input": "2022-11-05T10:15:56.822619Z",
     "iopub.status.busy": "2022-11-05T10:15:56.821860Z",
     "iopub.status.idle": "2022-11-05T10:15:56.837337Z",
     "shell.execute_reply": "2022-11-05T10:15:56.836389Z"
    },
    "papermill": {
     "duration": 0.032679,
     "end_time": "2022-11-05T10:15:56.839252",
     "exception": false,
     "start_time": "2022-11-05T10:15:56.806573",
     "status": "completed"
    },
    "tags": []
   },
   "outputs": [
    {
     "data": {
      "text/html": [
       "<div>\n",
       "<style scoped>\n",
       "    .dataframe tbody tr th:only-of-type {\n",
       "        vertical-align: middle;\n",
       "    }\n",
       "\n",
       "    .dataframe tbody tr th {\n",
       "        vertical-align: top;\n",
       "    }\n",
       "\n",
       "    .dataframe thead th {\n",
       "        text-align: right;\n",
       "    }\n",
       "</style>\n",
       "<table border=\"1\" class=\"dataframe\">\n",
       "  <thead>\n",
       "    <tr style=\"text-align: right;\">\n",
       "      <th></th>\n",
       "      <th>address</th>\n",
       "      <th>name</th>\n",
       "      <th>online_order</th>\n",
       "      <th>book_table</th>\n",
       "      <th>rate</th>\n",
       "      <th>votes</th>\n",
       "      <th>location</th>\n",
       "      <th>rest_type</th>\n",
       "      <th>dish_liked</th>\n",
       "      <th>cuisines</th>\n",
       "      <th>cost</th>\n",
       "      <th>reviews_list</th>\n",
       "      <th>menu_item</th>\n",
       "      <th>type</th>\n",
       "      <th>city</th>\n",
       "    </tr>\n",
       "  </thead>\n",
       "  <tbody>\n",
       "    <tr>\n",
       "      <th>0</th>\n",
       "      <td>942, 21st Main Road, 2nd Stage, Banashankari, ...</td>\n",
       "      <td>Jalsa</td>\n",
       "      <td>Yes</td>\n",
       "      <td>Yes</td>\n",
       "      <td>4.1/5</td>\n",
       "      <td>775</td>\n",
       "      <td>Banashankari</td>\n",
       "      <td>Casual Dining</td>\n",
       "      <td>Pasta, Lunch Buffet, Masala Papad, Paneer Laja...</td>\n",
       "      <td>North Indian, Mughlai, Chinese</td>\n",
       "      <td>800</td>\n",
       "      <td>[('Rated 4.0', 'RATED\\n  A beautiful place to ...</td>\n",
       "      <td>[]</td>\n",
       "      <td>Buffet</td>\n",
       "      <td>Banashankari</td>\n",
       "    </tr>\n",
       "    <tr>\n",
       "      <th>1</th>\n",
       "      <td>2nd Floor, 80 Feet Road, Near Big Bazaar, 6th ...</td>\n",
       "      <td>Spice Elephant</td>\n",
       "      <td>Yes</td>\n",
       "      <td>No</td>\n",
       "      <td>4.1/5</td>\n",
       "      <td>787</td>\n",
       "      <td>Banashankari</td>\n",
       "      <td>Casual Dining</td>\n",
       "      <td>Momos, Lunch Buffet, Chocolate Nirvana, Thai G...</td>\n",
       "      <td>Chinese, North Indian, Thai</td>\n",
       "      <td>800</td>\n",
       "      <td>[('Rated 4.0', 'RATED\\n  Had been here for din...</td>\n",
       "      <td>[]</td>\n",
       "      <td>Buffet</td>\n",
       "      <td>Banashankari</td>\n",
       "    </tr>\n",
       "    <tr>\n",
       "      <th>2</th>\n",
       "      <td>1112, Next to KIMS Medical College, 17th Cross...</td>\n",
       "      <td>San Churro Cafe</td>\n",
       "      <td>Yes</td>\n",
       "      <td>No</td>\n",
       "      <td>3.8/5</td>\n",
       "      <td>918</td>\n",
       "      <td>Banashankari</td>\n",
       "      <td>Cafe, Casual Dining</td>\n",
       "      <td>Churros, Cannelloni, Minestrone Soup, Hot Choc...</td>\n",
       "      <td>Cafe, Mexican, Italian</td>\n",
       "      <td>800</td>\n",
       "      <td>[('Rated 3.0', \"RATED\\n  Ambience is not that ...</td>\n",
       "      <td>[]</td>\n",
       "      <td>Buffet</td>\n",
       "      <td>Banashankari</td>\n",
       "    </tr>\n",
       "    <tr>\n",
       "      <th>3</th>\n",
       "      <td>1st Floor, Annakuteera, 3rd Stage, Banashankar...</td>\n",
       "      <td>Addhuri Udupi Bhojana</td>\n",
       "      <td>No</td>\n",
       "      <td>No</td>\n",
       "      <td>3.7/5</td>\n",
       "      <td>88</td>\n",
       "      <td>Banashankari</td>\n",
       "      <td>Quick Bites</td>\n",
       "      <td>Masala Dosa</td>\n",
       "      <td>South Indian, North Indian</td>\n",
       "      <td>300</td>\n",
       "      <td>[('Rated 4.0', \"RATED\\n  Great food and proper...</td>\n",
       "      <td>[]</td>\n",
       "      <td>Buffet</td>\n",
       "      <td>Banashankari</td>\n",
       "    </tr>\n",
       "    <tr>\n",
       "      <th>4</th>\n",
       "      <td>10, 3rd Floor, Lakshmi Associates, Gandhi Baza...</td>\n",
       "      <td>Grand Village</td>\n",
       "      <td>No</td>\n",
       "      <td>No</td>\n",
       "      <td>3.8/5</td>\n",
       "      <td>166</td>\n",
       "      <td>Basavanagudi</td>\n",
       "      <td>Casual Dining</td>\n",
       "      <td>Panipuri, Gol Gappe</td>\n",
       "      <td>North Indian, Rajasthani</td>\n",
       "      <td>600</td>\n",
       "      <td>[('Rated 4.0', 'RATED\\n  Very good restaurant ...</td>\n",
       "      <td>[]</td>\n",
       "      <td>Buffet</td>\n",
       "      <td>Banashankari</td>\n",
       "    </tr>\n",
       "  </tbody>\n",
       "</table>\n",
       "</div>"
      ],
      "text/plain": [
       "                                             address                   name  \\\n",
       "0  942, 21st Main Road, 2nd Stage, Banashankari, ...                  Jalsa   \n",
       "1  2nd Floor, 80 Feet Road, Near Big Bazaar, 6th ...         Spice Elephant   \n",
       "2  1112, Next to KIMS Medical College, 17th Cross...        San Churro Cafe   \n",
       "3  1st Floor, Annakuteera, 3rd Stage, Banashankar...  Addhuri Udupi Bhojana   \n",
       "4  10, 3rd Floor, Lakshmi Associates, Gandhi Baza...          Grand Village   \n",
       "\n",
       "  online_order book_table   rate  votes      location            rest_type  \\\n",
       "0          Yes        Yes  4.1/5    775  Banashankari        Casual Dining   \n",
       "1          Yes         No  4.1/5    787  Banashankari        Casual Dining   \n",
       "2          Yes         No  3.8/5    918  Banashankari  Cafe, Casual Dining   \n",
       "3           No         No  3.7/5     88  Banashankari          Quick Bites   \n",
       "4           No         No  3.8/5    166  Basavanagudi        Casual Dining   \n",
       "\n",
       "                                          dish_liked  \\\n",
       "0  Pasta, Lunch Buffet, Masala Papad, Paneer Laja...   \n",
       "1  Momos, Lunch Buffet, Chocolate Nirvana, Thai G...   \n",
       "2  Churros, Cannelloni, Minestrone Soup, Hot Choc...   \n",
       "3                                        Masala Dosa   \n",
       "4                                Panipuri, Gol Gappe   \n",
       "\n",
       "                         cuisines cost  \\\n",
       "0  North Indian, Mughlai, Chinese  800   \n",
       "1     Chinese, North Indian, Thai  800   \n",
       "2          Cafe, Mexican, Italian  800   \n",
       "3      South Indian, North Indian  300   \n",
       "4        North Indian, Rajasthani  600   \n",
       "\n",
       "                                        reviews_list menu_item    type  \\\n",
       "0  [('Rated 4.0', 'RATED\\n  A beautiful place to ...        []  Buffet   \n",
       "1  [('Rated 4.0', 'RATED\\n  Had been here for din...        []  Buffet   \n",
       "2  [('Rated 3.0', \"RATED\\n  Ambience is not that ...        []  Buffet   \n",
       "3  [('Rated 4.0', \"RATED\\n  Great food and proper...        []  Buffet   \n",
       "4  [('Rated 4.0', 'RATED\\n  Very good restaurant ...        []  Buffet   \n",
       "\n",
       "           city  \n",
       "0  Banashankari  \n",
       "1  Banashankari  \n",
       "2  Banashankari  \n",
       "3  Banashankari  \n",
       "4  Banashankari  "
      ]
     },
     "execution_count": 22,
     "metadata": {},
     "output_type": "execute_result"
    }
   ],
   "source": [
    "df.head()"
   ]
  },
  {
   "cell_type": "code",
   "execution_count": 23,
   "id": "c81ff41a",
   "metadata": {
    "execution": {
     "iopub.execute_input": "2022-11-05T10:15:56.870610Z",
     "iopub.status.busy": "2022-11-05T10:15:56.869847Z",
     "iopub.status.idle": "2022-11-05T10:15:56.877765Z",
     "shell.execute_reply": "2022-11-05T10:15:56.876806Z"
    },
    "papermill": {
     "duration": 0.025371,
     "end_time": "2022-11-05T10:15:56.879598",
     "exception": false,
     "start_time": "2022-11-05T10:15:56.854227",
     "status": "completed"
    },
    "tags": []
   },
   "outputs": [
    {
     "data": {
      "text/plain": [
       "array(['800', '300', '600', '700', '550', '500', '450', '650', '400',\n",
       "       '750', '200', '850', '1,200', '150', '350', '250', '1,500',\n",
       "       '1,300', '1,000', '100', '900', '1,100', '1,600', '950', '230',\n",
       "       '1,700', '1,400', '1,350', '2,200', '2,000', '1,800', '1,900',\n",
       "       '180', '330', '2,500', '2,100', '3,000', '2,800', '3,400', '40',\n",
       "       '1,250', '3,500', '4,000', '2,400', '1,450', '3,200', '6,000',\n",
       "       '1,050', '4,100', '2,300', '120', '2,600', '5,000', '3,700',\n",
       "       '1,650', '2,700', '4,500'], dtype=object)"
      ]
     },
     "execution_count": 23,
     "metadata": {},
     "output_type": "execute_result"
    }
   ],
   "source": [
    "df['cost'].unique()"
   ]
  },
  {
   "cell_type": "code",
   "execution_count": 24,
   "id": "5dba877f",
   "metadata": {
    "execution": {
     "iopub.execute_input": "2022-11-05T10:15:56.910707Z",
     "iopub.status.busy": "2022-11-05T10:15:56.910056Z",
     "iopub.status.idle": "2022-11-05T10:15:56.925031Z",
     "shell.execute_reply": "2022-11-05T10:15:56.924236Z"
    },
    "papermill": {
     "duration": 0.03239,
     "end_time": "2022-11-05T10:15:56.926880",
     "exception": false,
     "start_time": "2022-11-05T10:15:56.894490",
     "status": "completed"
    },
    "tags": []
   },
   "outputs": [],
   "source": [
    "df['cost'] = df['cost'].apply(lambda x: x.replace(',','')) #Using lambda function to replace ',' from cost\n",
    "df['cost'] = df['cost'].astype(float)"
   ]
  },
  {
   "cell_type": "code",
   "execution_count": 25,
   "id": "faf3db62",
   "metadata": {
    "execution": {
     "iopub.execute_input": "2022-11-05T10:15:56.958485Z",
     "iopub.status.busy": "2022-11-05T10:15:56.957773Z",
     "iopub.status.idle": "2022-11-05T10:15:56.967439Z",
     "shell.execute_reply": "2022-11-05T10:15:56.965915Z"
    },
    "papermill": {
     "duration": 0.028013,
     "end_time": "2022-11-05T10:15:56.969849",
     "exception": false,
     "start_time": "2022-11-05T10:15:56.941836",
     "status": "completed"
    },
    "tags": []
   },
   "outputs": [
    {
     "name": "stdout",
     "output_type": "stream",
     "text": [
      "[ 800.  300.  600.  700.  550.  500.  450.  650.  400.  750.  200.  850.\n",
      " 1200.  150.  350.  250. 1500. 1300. 1000.  100.  900. 1100. 1600.  950.\n",
      "  230. 1700. 1400. 1350. 2200. 2000. 1800. 1900.  180.  330. 2500. 2100.\n",
      " 3000. 2800. 3400.   40. 1250. 3500. 4000. 2400. 1450. 3200. 6000. 1050.\n",
      " 4100. 2300.  120. 2600. 5000. 3700. 1650. 2700. 4500.]\n",
      "------------------------------\n"
     ]
    },
    {
     "data": {
      "text/plain": [
       "address          object\n",
       "name             object\n",
       "online_order     object\n",
       "book_table       object\n",
       "rate             object\n",
       "votes             int64\n",
       "location         object\n",
       "rest_type        object\n",
       "dish_liked       object\n",
       "cuisines         object\n",
       "cost            float64\n",
       "reviews_list     object\n",
       "menu_item        object\n",
       "type             object\n",
       "city             object\n",
       "dtype: object"
      ]
     },
     "execution_count": 25,
     "metadata": {},
     "output_type": "execute_result"
    }
   ],
   "source": [
    "print(df['cost'].unique())\n",
    "\n",
    "print('---'*10)\n",
    "\n",
    "df.dtypes"
   ]
  },
  {
   "cell_type": "code",
   "execution_count": 26,
   "id": "cb0cc70d",
   "metadata": {
    "execution": {
     "iopub.execute_input": "2022-11-05T10:15:57.001832Z",
     "iopub.status.busy": "2022-11-05T10:15:57.001076Z",
     "iopub.status.idle": "2022-11-05T10:15:57.008965Z",
     "shell.execute_reply": "2022-11-05T10:15:57.007980Z"
    },
    "papermill": {
     "duration": 0.025588,
     "end_time": "2022-11-05T10:15:57.010871",
     "exception": false,
     "start_time": "2022-11-05T10:15:56.985283",
     "status": "completed"
    },
    "tags": []
   },
   "outputs": [
    {
     "data": {
      "text/plain": [
       "array(['4.1/5', '3.8/5', '3.7/5', '4.6/5', '4.0/5', '4.2/5', '3.9/5',\n",
       "       '3.0/5', '3.6/5', '2.8/5', '4.4/5', '3.1/5', '4.3/5', '2.6/5',\n",
       "       '3.3/5', '3.5/5', '3.8 /5', '3.2/5', '4.5/5', '2.5/5', '2.9/5',\n",
       "       '3.4/5', '2.7/5', '4.7/5', 'NEW', '2.4/5', '2.2/5', '2.3/5',\n",
       "       '4.8/5', '3.9 /5', '4.2 /5', '4.0 /5', '4.1 /5', '2.9 /5',\n",
       "       '2.7 /5', '2.5 /5', '2.6 /5', '4.5 /5', '4.3 /5', '3.7 /5',\n",
       "       '4.4 /5', '4.9/5', '2.1/5', '2.0/5', '1.8/5', '3.4 /5', '3.6 /5',\n",
       "       '3.3 /5', '4.6 /5', '4.9 /5', '3.2 /5', '3.0 /5', '2.8 /5',\n",
       "       '3.5 /5', '3.1 /5', '4.8 /5', '2.3 /5', '4.7 /5', '2.4 /5',\n",
       "       '2.1 /5', '2.2 /5', '2.0 /5', '1.8 /5'], dtype=object)"
      ]
     },
     "execution_count": 26,
     "metadata": {},
     "output_type": "execute_result"
    }
   ],
   "source": [
    "df['rate'].unique()"
   ]
  },
  {
   "cell_type": "code",
   "execution_count": 27,
   "id": "a480bc0f",
   "metadata": {
    "execution": {
     "iopub.execute_input": "2022-11-05T10:15:57.042755Z",
     "iopub.status.busy": "2022-11-05T10:15:57.042474Z",
     "iopub.status.idle": "2022-11-05T10:15:57.055050Z",
     "shell.execute_reply": "2022-11-05T10:15:57.054150Z"
    },
    "papermill": {
     "duration": 0.030988,
     "end_time": "2022-11-05T10:15:57.056979",
     "exception": false,
     "start_time": "2022-11-05T10:15:57.025991",
     "status": "completed"
    },
    "tags": []
   },
   "outputs": [],
   "source": [
    "df = df.loc[df.rate !='NEW']"
   ]
  },
  {
   "cell_type": "code",
   "execution_count": 28,
   "id": "66be35f5",
   "metadata": {
    "execution": {
     "iopub.execute_input": "2022-11-05T10:15:57.088972Z",
     "iopub.status.busy": "2022-11-05T10:15:57.088363Z",
     "iopub.status.idle": "2022-11-05T10:15:57.096323Z",
     "shell.execute_reply": "2022-11-05T10:15:57.095375Z"
    },
    "papermill": {
     "duration": 0.025982,
     "end_time": "2022-11-05T10:15:57.098232",
     "exception": false,
     "start_time": "2022-11-05T10:15:57.072250",
     "status": "completed"
    },
    "tags": []
   },
   "outputs": [
    {
     "data": {
      "text/plain": [
       "array(['4.1/5', '3.8/5', '3.7/5', '4.6/5', '4.0/5', '4.2/5', '3.9/5',\n",
       "       '3.0/5', '3.6/5', '2.8/5', '4.4/5', '3.1/5', '4.3/5', '2.6/5',\n",
       "       '3.3/5', '3.5/5', '3.8 /5', '3.2/5', '4.5/5', '2.5/5', '2.9/5',\n",
       "       '3.4/5', '2.7/5', '4.7/5', '2.4/5', '2.2/5', '2.3/5', '4.8/5',\n",
       "       '3.9 /5', '4.2 /5', '4.0 /5', '4.1 /5', '2.9 /5', '2.7 /5',\n",
       "       '2.5 /5', '2.6 /5', '4.5 /5', '4.3 /5', '3.7 /5', '4.4 /5',\n",
       "       '4.9/5', '2.1/5', '2.0/5', '1.8/5', '3.4 /5', '3.6 /5', '3.3 /5',\n",
       "       '4.6 /5', '4.9 /5', '3.2 /5', '3.0 /5', '2.8 /5', '3.5 /5',\n",
       "       '3.1 /5', '4.8 /5', '2.3 /5', '4.7 /5', '2.4 /5', '2.1 /5',\n",
       "       '2.2 /5', '2.0 /5', '1.8 /5'], dtype=object)"
      ]
     },
     "execution_count": 28,
     "metadata": {},
     "output_type": "execute_result"
    }
   ],
   "source": [
    "df['rate'].unique()"
   ]
  },
  {
   "cell_type": "code",
   "execution_count": 29,
   "id": "1fc2da60",
   "metadata": {
    "execution": {
     "iopub.execute_input": "2022-11-05T10:15:57.144674Z",
     "iopub.status.busy": "2022-11-05T10:15:57.144394Z",
     "iopub.status.idle": "2022-11-05T10:15:57.157645Z",
     "shell.execute_reply": "2022-11-05T10:15:57.156790Z"
    },
    "papermill": {
     "duration": 0.040594,
     "end_time": "2022-11-05T10:15:57.159797",
     "exception": false,
     "start_time": "2022-11-05T10:15:57.119203",
     "status": "completed"
    },
    "tags": []
   },
   "outputs": [],
   "source": [
    "df['rate'] = df['rate'].apply(lambda x: x.replace('/5',''))"
   ]
  },
  {
   "cell_type": "code",
   "execution_count": 30,
   "id": "d759c523",
   "metadata": {
    "execution": {
     "iopub.execute_input": "2022-11-05T10:15:57.193897Z",
     "iopub.status.busy": "2022-11-05T10:15:57.193137Z",
     "iopub.status.idle": "2022-11-05T10:15:57.562235Z",
     "shell.execute_reply": "2022-11-05T10:15:57.561047Z"
    },
    "papermill": {
     "duration": 0.388204,
     "end_time": "2022-11-05T10:15:57.564406",
     "exception": false,
     "start_time": "2022-11-05T10:15:57.176202",
     "status": "completed"
    },
    "tags": []
   },
   "outputs": [
    {
     "data": {
      "image/png": "[encoded data removed]",
      "text/plain": [
       "<Figure size 1224x720 with 1 Axes>"
      ]
     },
     "metadata": {
      "needs_background": "light"
     },
     "output_type": "display_data"
    }
   ],
   "source": [
    "plt.figure(figsize=(17,10))\n",
    "chains=df['name'].value_counts()[:20]\n",
    "sns.barplot(x=chains,y=chains.index,palette='hls')\n",
    "plt.title(\"Most famous restaurants chains in Bangaluru\")\n",
    "plt.xlabel(\"Number of outlets\")\n",
    "plt.show()"
   ]
  },
  {
   "cell_type": "code",
   "execution_count": 31,
   "id": "b6738bb7",
   "metadata": {
    "execution": {
     "iopub.execute_input": "2022-11-05T10:15:57.601778Z",
     "iopub.status.busy": "2022-11-05T10:15:57.600023Z",
     "iopub.status.idle": "2022-11-05T10:15:58.229562Z",
     "shell.execute_reply": "2022-11-05T10:15:58.228438Z"
    },
    "papermill": {
     "duration": 0.64987,
     "end_time": "2022-11-05T10:15:58.231717",
     "exception": false,
     "start_time": "2022-11-05T10:15:57.581847",
     "status": "completed"
    },
    "tags": []
   },
   "outputs": [
    {
     "data": {
      "text/html": [
       "        <script type=\"text/javascript\">\n",
       "        window.PlotlyConfig = {MathJaxConfig: 'local'};\n",
       "        if (window.MathJax && window.MathJax.Hub && window.MathJax.Hub.Config) {window.MathJax.Hub.Config({SVG: {font: \"STIX-Web\"}});}\n",
       "        if (typeof require !== 'undefined') {\n",
       "        require.undef(\"plotly\");\n",
       "        requirejs.config({\n",
       "            paths: {\n",
       "                'plotly': ['https://cdn.plot.ly/plotly-2.14.0.min']\n",
       "            }\n",
       "        });\n",
       "        require(['plotly'], function(Plotly) {\n",
       "            window._Plotly = Plotly;\n",
       "        });\n",
       "        }\n",
       "        </script>\n",
       "        "
      ]
     },
     "metadata": {},
     "output_type": "display_data"
    },
    {
     "data": {
      "text/html": [
       "<div>                            <div id=\"5d091342-8c2e-43d1-bcd6-fa8fbddd2ac6\" class=\"plotly-graph-div\" style=\"height:600px; width:600px;\"></div>            <script type=\"text/javascript\">                require([\"plotly\"], function(Plotly) {                    window.PLOTLYENV=window.PLOTLYENV || {};                                    if (document.getElementById(\"5d091342-8c2e-43d1-bcd6-fa8fbddd2ac6\")) {                    Plotly.newPlot(                        \"5d091342-8c2e-43d1-bcd6-fa8fbddd2ac6\",                        [{\"labels\":[\"No\",\"Yes\"],\"marker\":{\"colors\":[\"#800080\",\"#0000A0\"],\"line\":{\"color\":\"#001000\",\"width\":2}},\"textinfo\":\"value\",\"values\":[17191,6057],\"type\":\"pie\"}],                        {\"height\":600,\"template\":{\"data\":{\"barpolar\":[{\"marker\":{\"line\":{\"color\":\"#E5ECF6\",\"width\":0.5},\"pattern\":{\"fillmode\":\"overlay\",\"size\":10,\"solidity\":0.2}},\"type\":\"barpolar\"}],\"bar\":[{\"error_x\":{\"color\":\"#2a3f5f\"},\"error_y\":{\"color\":\"#2a3f5f\"},\"marker\":{\"line\":{\"color\":\"#E5ECF6\",\"width\":0.5},\"pattern\":{\"fillmode\":\"overlay\",\"size\":10,\"solidity\":0.2}},\"type\":\"bar\"}],\"carpet\":[{\"aaxis\":{\"endlinecolor\":\"#2a3f5f\",\"gridcolor\":\"white\",\"linecolor\":\"white\",\"minorgridcolor\":\"white\",\"startlinecolor\":\"#2a3f5f\"},\"baxis\":{\"endlinecolor\":\"#2a3f5f\",\"gridcolor\":\"white\",\"linecolor\":\"white\",\"minorgridcolor\":\"white\",\"startlinecolor\":\"#2a3f5f\"},\"type\":\"carpet\"}],\"choropleth\":[{\"colorbar\":{\"outlinewidth\":0,\"ticks\":\"\"},\"type\":\"choropleth\"}],\"contourcarpet\":[{\"colorbar\":{\"outlinewidth\":0,\"ticks\":\"\"},\"type\":\"contourcarpet\"}],\"contour\":[{\"colorbar\":{\"outlinewidth\":0,\"ticks\":\"\"},\"colorscale\":[[0.0,\"#0d0887\"],[0.1111111111111111,\"#46039f\"],[0.2222222222222222,\"#7201a8\"],[0.3333333333333333,\"#9c179e\"],[0.4444444444444444,\"#bd3786\"],[0.5555555555555556,\"#d8576b\"],[0.6666666666666666,\"#ed7953\"],[0.7777777777777778,\"#fb9f3a\"],[0.8888888888888888,\"#fdca26\"],[1.0,\"#f0f921\"]],\"type\":\"contour\"}],\"heatmapgl\":[{\"colorbar\":{\"outlinewidth\":0,\"ticks\":\"\"},\"colorscale\":[[0.0,\"#0d0887\"],[0.1111111111111111,\"#46039f\"],[0.2222222222222222,\"#7201a8\"],[0.3333333333333333,\"#9c179e\"],[0.4444444444444444,\"#bd3786\"],[0.5555555555555556,\"#d8576b\"],[0.6666666666666666,\"#ed7953\"],[0.7777777777777778,\"#fb9f3a\"],[0.8888888888888888,\"#fdca26\"],[1.0,\"#f0f921\"]],\"type\":\"heatmapgl\"}],\"heatmap\":[{\"colorbar\":{\"outlinewidth\":0,\"ticks\":\"\"},\"colorscale\":[[0.0,\"#0d0887\"],[0.1111111111111111,\"#46039f\"],[0.2222222222222222,\"#7201a8\"],[0.3333333333333333,\"#9c179e\"],[0.4444444444444444,\"#bd3786\"],[0.5555555555555556,\"#d8576b\"],[0.6666666666666666,\"#ed7953\"],[0.7777777777777778,\"#fb9f3a\"],[0.8888888888888888,\"#fdca26\"],[1.0,\"#f0f921\"]],\"type\":\"heatmap\"}],\"histogram2dcontour\":[{\"colorbar\":{\"outlinewidth\":0,\"ticks\":\"\"},\"colorscale\":[[0.0,\"#0d0887\"],[0.1111111111111111,\"#46039f\"],[0.2222222222222222,\"#7201a8\"],[0.3333333333333333,\"#9c179e\"],[0.4444444444444444,\"#bd3786\"],[0.5555555555555556,\"#d8576b\"],[0.6666666666666666,\"#ed7953\"],[0.7777777777777778,\"#fb9f3a\"],[0.8888888888888888,\"#fdca26\"],[1.0,\"#f0f921\"]],\"type\":\"histogram2dcontour\"}],\"histogram2d\":[{\"colorbar\":{\"outlinewidth\":0,\"ticks\":\"\"},\"colorscale\":[[0.0,\"#0d0887\"],[0.1111111111111111,\"#46039f\"],[0.2222222222222222,\"#7201a8\"],[0.3333333333333333,\"#9c179e\"],[0.4444444444444444,\"#bd3786\"],[0.5555555555555556,\"#d8576b\"],[0.6666666666666666,\"#ed7953\"],[0.7777777777777778,\"#fb9f3a\"],[0.8888888888888888,\"#fdca26\"],[1.0,\"#f0f921\"]],\"type\":\"histogram2d\"}],\"histogram\":[{\"marker\":{\"pattern\":{\"fillmode\":\"overlay\",\"size\":10,\"solidity\":0.2}},\"type\":\"histogram\"}],\"mesh3d\":[{\"colorbar\":{\"outlinewidth\":0,\"ticks\":\"\"},\"type\":\"mesh3d\"}],\"parcoords\":[{\"line\":{\"colorbar\":{\"outlinewidth\":0,\"ticks\":\"\"}},\"type\":\"parcoords\"}],\"pie\":[{\"automargin\":true,\"type\":\"pie\"}],\"scatter3d\":[{\"line\":{\"colorbar\":{\"outlinewidth\":0,\"ticks\":\"\"}},\"marker\":{\"colorbar\":{\"outlinewidth\":0,\"ticks\":\"\"}},\"type\":\"scatter3d\"}],\"scattercarpet\":[{\"marker\":{\"colorbar\":{\"outlinewidth\":0,\"ticks\":\"\"}},\"type\":\"scattercarpet\"}],\"scattergeo\":[{\"marker\":{\"colorbar\":{\"outlinewidth\":0,\"ticks\":\"\"}},\"type\":\"scattergeo\"}],\"scattergl\":[{\"marker\":{\"colorbar\":{\"outlinewidth\":0,\"ticks\":\"\"}},\"type\":\"scattergl\"}],\"scattermapbox\":[{\"marker\":{\"colorbar\":{\"outlinewidth\":0,\"ticks\":\"\"}},\"type\":\"scattermapbox\"}],\"scatterpolargl\":[{\"marker\":{\"colorbar\":{\"outlinewidth\":0,\"ticks\":\"\"}},\"type\":\"scatterpolargl\"}],\"scatterpolar\":[{\"marker\":{\"colorbar\":{\"outlinewidth\":0,\"ticks\":\"\"}},\"type\":\"scatterpolar\"}],\"scatter\":[{\"fillpattern\":{\"fillmode\":\"overlay\",\"size\":10,\"solidity\":0.2},\"type\":\"scatter\"}],\"scatterternary\":[{\"marker\":{\"colorbar\":{\"outlinewidth\":0,\"ticks\":\"\"}},\"type\":\"scatterternary\"}],\"surface\":[{\"colorbar\":{\"outlinewidth\":0,\"ticks\":\"\"},\"colorscale\":[[0.0,\"#0d0887\"],[0.1111111111111111,\"#46039f\"],[0.2222222222222222,\"#7201a8\"],[0.3333333333333333,\"#9c179e\"],[0.4444444444444444,\"#bd3786\"],[0.5555555555555556,\"#d8576b\"],[0.6666666666666666,\"#ed7953\"],[0.7777777777777778,\"#fb9f3a\"],[0.8888888888888888,\"#fdca26\"],[1.0,\"#f0f921\"]],\"type\":\"surface\"}],\"table\":[{\"cells\":{\"fill\":{\"color\":\"#EBF0F8\"},\"line\":{\"color\":\"white\"}},\"header\":{\"fill\":{\"color\":\"#C8D4E3\"},\"line\":{\"color\":\"white\"}},\"type\":\"table\"}]},\"layout\":{\"annotationdefaults\":{\"arrowcolor\":\"#2a3f5f\",\"arrowhead\":0,\"arrowwidth\":1},\"autotypenumbers\":\"strict\",\"coloraxis\":{\"colorbar\":{\"outlinewidth\":0,\"ticks\":\"\"}},\"colorscale\":{\"diverging\":[[0,\"#8e0152\"],[0.1,\"#c51b7d\"],[0.2,\"#de77ae\"],[0.3,\"#f1b6da\"],[0.4,\"#fde0ef\"],[0.5,\"#f7f7f7\"],[0.6,\"#e6f5d0\"],[0.7,\"#b8e186\"],[0.8,\"#7fbc41\"],[0.9,\"#4d9221\"],[1,\"#276419\"]],\"sequential\":[[0.0,\"#0d0887\"],[0.1111111111111111,\"#46039f\"],[0.2222222222222222,\"#7201a8\"],[0.3333333333333333,\"#9c179e\"],[0.4444444444444444,\"#bd3786\"],[0.5555555555555556,\"#d8576b\"],[0.6666666666666666,\"#ed7953\"],[0.7777777777777778,\"#fb9f3a\"],[0.8888888888888888,\"#fdca26\"],[1.0,\"#f0f921\"]],\"sequentialminus\":[[0.0,\"#0d0887\"],[0.1111111111111111,\"#46039f\"],[0.2222222222222222,\"#7201a8\"],[0.3333333333333333,\"#9c179e\"],[0.4444444444444444,\"#bd3786\"],[0.5555555555555556,\"#d8576b\"],[0.6666666666666666,\"#ed7953\"],[0.7777777777777778,\"#fb9f3a\"],[0.8888888888888888,\"#fdca26\"],[1.0,\"#f0f921\"]]},\"colorway\":[\"#636efa\",\"#EF553B\",\"#00cc96\",\"#ab63fa\",\"#FFA15A\",\"#19d3f3\",\"#FF6692\",\"#B6E880\",\"#FF97FF\",\"#FECB52\"],\"font\":{\"color\":\"#2a3f5f\"},\"geo\":{\"bgcolor\":\"white\",\"lakecolor\":\"white\",\"landcolor\":\"#E5ECF6\",\"showlakes\":true,\"showland\":true,\"subunitcolor\":\"white\"},\"hoverlabel\":{\"align\":\"left\"},\"hovermode\":\"closest\",\"mapbox\":{\"style\":\"light\"},\"paper_bgcolor\":\"white\",\"plot_bgcolor\":\"#E5ECF6\",\"polar\":{\"angularaxis\":{\"gridcolor\":\"white\",\"linecolor\":\"white\",\"ticks\":\"\"},\"bgcolor\":\"#E5ECF6\",\"radialaxis\":{\"gridcolor\":\"white\",\"linecolor\":\"white\",\"ticks\":\"\"}},\"scene\":{\"xaxis\":{\"backgroundcolor\":\"#E5ECF6\",\"gridcolor\":\"white\",\"gridwidth\":2,\"linecolor\":\"white\",\"showbackground\":true,\"ticks\":\"\",\"zerolinecolor\":\"white\"},\"yaxis\":{\"backgroundcolor\":\"#E5ECF6\",\"gridcolor\":\"white\",\"gridwidth\":2,\"linecolor\":\"white\",\"showbackground\":true,\"ticks\":\"\",\"zerolinecolor\":\"white\"},\"zaxis\":{\"backgroundcolor\":\"#E5ECF6\",\"gridcolor\":\"white\",\"gridwidth\":2,\"linecolor\":\"white\",\"showbackground\":true,\"ticks\":\"\",\"zerolinecolor\":\"white\"}},\"shapedefaults\":{\"line\":{\"color\":\"#2a3f5f\"}},\"ternary\":{\"aaxis\":{\"gridcolor\":\"white\",\"linecolor\":\"white\",\"ticks\":\"\"},\"baxis\":{\"gridcolor\":\"white\",\"linecolor\":\"white\",\"ticks\":\"\"},\"bgcolor\":\"#E5ECF6\",\"caxis\":{\"gridcolor\":\"white\",\"linecolor\":\"white\",\"ticks\":\"\"}},\"title\":{\"x\":0.05},\"xaxis\":{\"automargin\":true,\"gridcolor\":\"white\",\"linecolor\":\"white\",\"ticks\":\"\",\"title\":{\"standoff\":15},\"zerolinecolor\":\"white\",\"zerolinewidth\":2},\"yaxis\":{\"automargin\":true,\"gridcolor\":\"white\",\"linecolor\":\"white\",\"ticks\":\"\",\"title\":{\"standoff\":15},\"zerolinecolor\":\"white\",\"zerolinewidth\":2}}},\"title\":{\"text\":\"Table booking\"},\"width\":600},                        {\"responsive\": true}                    ).then(function(){\n",
       "                            \n",
       "var gd = document.getElementById('5d091342-8c2e-43d1-bcd6-fa8fbddd2ac6');\n",
       "var x = new MutationObserver(function (mutations, observer) {{\n",
       "        var display = window.getComputedStyle(gd).display;\n",
       "        if (!display || display === 'none') {{\n",
       "            console.log([gd, 'removed!']);\n",
       "            Plotly.purge(gd);\n",
       "            observer.disconnect();\n",
       "        }}\n",
       "}});\n",
       "\n",
       "// Listen for the removal of the full notebook cells\n",
       "var notebookContainer = gd.closest('#notebook-container');\n",
       "if (notebookContainer) {{\n",
       "    x.observe(notebookContainer, {childList: true});\n",
       "}}\n",
       "\n",
       "// Listen for the clearing of the current output cell\n",
       "var outputEl = gd.closest('.output');\n",
       "if (outputEl) {{\n",
       "    x.observe(outputEl, {childList: true});\n",
       "}}\n",
       "\n",
       "                        })                };                });            </script>        </div>"
      ]
     },
     "metadata": {},
     "output_type": "display_data"
    }
   ],
   "source": [
    "x=df['book_table'].value_counts()\n",
    "colors = ['#800080', '#0000A0']\n",
    "\n",
    "trace=go.Pie(labels=x.index,values=x,textinfo=\"value\",\n",
    "            marker=dict(colors=colors, \n",
    "                           line=dict(color='#001000', width=2)))\n",
    "layout=go.Layout(title=\"Table booking\",width=600,height=600)\n",
    "fig=go.Figure(data=[trace],layout=layout)\n",
    "py.iplot(fig, filename='pie_chart_subplots')"
   ]
  },
  {
   "cell_type": "code",
   "execution_count": 32,
   "id": "f4196328",
   "metadata": {
    "execution": {
     "iopub.execute_input": "2022-11-05T10:15:58.266521Z",
     "iopub.status.busy": "2022-11-05T10:15:58.265749Z",
     "iopub.status.idle": "2022-11-05T10:15:58.466439Z",
     "shell.execute_reply": "2022-11-05T10:15:58.465428Z"
    },
    "papermill": {
     "duration": 0.219948,
     "end_time": "2022-11-05T10:15:58.468605",
     "exception": false,
     "start_time": "2022-11-05T10:15:58.248657",
     "status": "completed"
    },
    "tags": []
   },
   "outputs": [
    {
     "data": {
      "image/png": "[encoded data removed]",
      "text/plain": [
       "<Figure size 720x720 with 1 Axes>"
      ]
     },
     "metadata": {
      "needs_background": "light"
     },
     "output_type": "display_data"
    }
   ],
   "source": [
    "sns.countplot(df['online_order'])\n",
    "fig = plt.gcf()\n",
    "fig.set_size_inches(10,10)\n",
    "plt.title('Whether Restaurants deliver online or Not')\n",
    "plt.show()"
   ]
  },
  {
   "cell_type": "code",
   "execution_count": 33,
   "id": "8004b365",
   "metadata": {
    "execution": {
     "iopub.execute_input": "2022-11-05T10:15:58.503688Z",
     "iopub.status.busy": "2022-11-05T10:15:58.502768Z",
     "iopub.status.idle": "2022-11-05T10:15:58.904297Z",
     "shell.execute_reply": "2022-11-05T10:15:58.903392Z"
    },
    "papermill": {
     "duration": 0.420882,
     "end_time": "2022-11-05T10:15:58.906286",
     "exception": false,
     "start_time": "2022-11-05T10:15:58.485404",
     "status": "completed"
    },
    "tags": []
   },
   "outputs": [
    {
     "data": {
      "image/png": "[encoded data removed]",
      "text/plain": [
       "<Figure size 648x504 with 1 Axes>"
      ]
     },
     "metadata": {
      "needs_background": "light"
     },
     "output_type": "display_data"
    }
   ],
   "source": [
    "plt.figure(figsize=(9,7))\n",
    "\n",
    "sns.distplot(df['rate'],bins=20)\n",
    "plt.show()"
   ]
  },
  {
   "cell_type": "code",
   "execution_count": 34,
   "id": "1700dca9",
   "metadata": {
    "execution": {
     "iopub.execute_input": "2022-11-05T10:15:58.942210Z",
     "iopub.status.busy": "2022-11-05T10:15:58.941362Z",
     "iopub.status.idle": "2022-11-05T10:16:00.205420Z",
     "shell.execute_reply": "2022-11-05T10:16:00.204496Z"
    },
    "papermill": {
     "duration": 1.284547,
     "end_time": "2022-11-05T10:16:00.208186",
     "exception": false,
     "start_time": "2022-11-05T10:15:58.923639",
     "status": "completed"
    },
    "tags": []
   },
   "outputs": [
    {
     "data": {
      "image/png": "[encoded data removed]",
      "text/plain": [
       "<Figure size 1080x504 with 1 Axes>"
      ]
     },
     "metadata": {
      "needs_background": "light"
     },
     "output_type": "display_data"
    }
   ],
   "source": [
    "# #Distribution of the cost Vs ratings in parallel with online order\n",
    "plt.figure(figsize=(15,7))\n",
    "sns.scatterplot(x=\"rate\",y='cost',hue='online_order',data=df)\n",
    "plt.xticks(rotation = 90)\n",
    "plt.show()"
   ]
  },
  {
   "cell_type": "code",
   "execution_count": 35,
   "id": "4ef9eb89",
   "metadata": {
    "execution": {
     "iopub.execute_input": "2022-11-05T10:16:00.246638Z",
     "iopub.status.busy": "2022-11-05T10:16:00.246309Z",
     "iopub.status.idle": "2022-11-05T10:16:00.253761Z",
     "shell.execute_reply": "2022-11-05T10:16:00.253138Z"
    },
    "papermill": {
     "duration": 0.028535,
     "end_time": "2022-11-05T10:16:00.255482",
     "exception": false,
     "start_time": "2022-11-05T10:16:00.226947",
     "status": "completed"
    },
    "tags": []
   },
   "outputs": [
    {
     "data": {
      "text/plain": [
       "array(['4.1', '3.8', '3.7', '4.6', '4.0', '4.2', '3.9', '3.0', '3.6',\n",
       "       '2.8', '4.4', '3.1', '4.3', '2.6', '3.3', '3.5', '3.8 ', '3.2',\n",
       "       '4.5', '2.5', '2.9', '3.4', '2.7', '4.7', '2.4', '2.2', '2.3',\n",
       "       '4.8', '3.9 ', '4.2 ', '4.0 ', '4.1 ', '2.9 ', '2.7 ', '2.5 ',\n",
       "       '2.6 ', '4.5 ', '4.3 ', '3.7 ', '4.4 ', '4.9', '2.1', '2.0', '1.8',\n",
       "       '3.4 ', '3.6 ', '3.3 ', '4.6 ', '4.9 ', '3.2 ', '3.0 ', '2.8 ',\n",
       "       '3.5 ', '3.1 ', '4.8 ', '2.3 ', '4.7 ', '2.4 ', '2.1 ', '2.2 ',\n",
       "       '2.0 ', '1.8 '], dtype=object)"
      ]
     },
     "execution_count": 35,
     "metadata": {},
     "output_type": "execute_result"
    }
   ],
   "source": [
    "df['rate'].unique()"
   ]
  },
  {
   "cell_type": "code",
   "execution_count": 36,
   "id": "ca0bc20f",
   "metadata": {
    "execution": {
     "iopub.execute_input": "2022-11-05T10:16:00.293470Z",
     "iopub.status.busy": "2022-11-05T10:16:00.292678Z",
     "iopub.status.idle": "2022-11-05T10:16:00.301735Z",
     "shell.execute_reply": "2022-11-05T10:16:00.300754Z"
    },
    "papermill": {
     "duration": 0.030128,
     "end_time": "2022-11-05T10:16:00.303684",
     "exception": false,
     "start_time": "2022-11-05T10:16:00.273556",
     "status": "completed"
    },
    "tags": []
   },
   "outputs": [
    {
     "data": {
      "text/plain": [
       "'1.8'"
      ]
     },
     "execution_count": 36,
     "metadata": {},
     "output_type": "execute_result"
    }
   ],
   "source": [
    "df['rate'].min()"
   ]
  },
  {
   "cell_type": "code",
   "execution_count": 37,
   "id": "ec317934",
   "metadata": {
    "execution": {
     "iopub.execute_input": "2022-11-05T10:16:00.342609Z",
     "iopub.status.busy": "2022-11-05T10:16:00.341753Z",
     "iopub.status.idle": "2022-11-05T10:16:00.349354Z",
     "shell.execute_reply": "2022-11-05T10:16:00.348406Z"
    },
    "papermill": {
     "duration": 0.029022,
     "end_time": "2022-11-05T10:16:00.351279",
     "exception": false,
     "start_time": "2022-11-05T10:16:00.322257",
     "status": "completed"
    },
    "tags": []
   },
   "outputs": [
    {
     "data": {
      "text/plain": [
       "'4.9 '"
      ]
     },
     "execution_count": 37,
     "metadata": {},
     "output_type": "execute_result"
    }
   ],
   "source": [
    "df['rate'].max()"
   ]
  },
  {
   "cell_type": "code",
   "execution_count": 38,
   "id": "e2b1ffc0",
   "metadata": {
    "execution": {
     "iopub.execute_input": "2022-11-05T10:16:00.389640Z",
     "iopub.status.busy": "2022-11-05T10:16:00.388773Z",
     "iopub.status.idle": "2022-11-05T10:16:00.399035Z",
     "shell.execute_reply": "2022-11-05T10:16:00.398148Z"
    },
    "papermill": {
     "duration": 0.031423,
     "end_time": "2022-11-05T10:16:00.400924",
     "exception": false,
     "start_time": "2022-11-05T10:16:00.369501",
     "status": "completed"
    },
    "tags": []
   },
   "outputs": [],
   "source": [
    "df['rate']=df['rate'].astype(float)"
   ]
  },
  {
   "cell_type": "code",
   "execution_count": 39,
   "id": "9fec8a0e",
   "metadata": {
    "execution": {
     "iopub.execute_input": "2022-11-05T10:16:00.440754Z",
     "iopub.status.busy": "2022-11-05T10:16:00.439217Z",
     "iopub.status.idle": "2022-11-05T10:16:00.447845Z",
     "shell.execute_reply": "2022-11-05T10:16:00.446894Z"
    },
    "papermill": {
     "duration": 0.030478,
     "end_time": "2022-11-05T10:16:00.450100",
     "exception": false,
     "start_time": "2022-11-05T10:16:00.419622",
     "status": "completed"
    },
    "tags": []
   },
   "outputs": [
    {
     "data": {
      "text/plain": [
       "5"
      ]
     },
     "execution_count": 39,
     "metadata": {},
     "output_type": "execute_result"
    }
   ],
   "source": [
    "((df['rate']>=1) & (df['rate']<2)).sum()"
   ]
  },
  {
   "cell_type": "code",
   "execution_count": 40,
   "id": "25d03d14",
   "metadata": {
    "execution": {
     "iopub.execute_input": "2022-11-05T10:16:00.489733Z",
     "iopub.status.busy": "2022-11-05T10:16:00.488887Z",
     "iopub.status.idle": "2022-11-05T10:16:00.495926Z",
     "shell.execute_reply": "2022-11-05T10:16:00.494974Z"
    },
    "papermill": {
     "duration": 0.02816,
     "end_time": "2022-11-05T10:16:00.497874",
     "exception": false,
     "start_time": "2022-11-05T10:16:00.469714",
     "status": "completed"
    },
    "tags": []
   },
   "outputs": [
    {
     "data": {
      "text/plain": [
       "1179"
      ]
     },
     "execution_count": 40,
     "metadata": {},
     "output_type": "execute_result"
    }
   ],
   "source": [
    "((df['rate']>=2) & (df['rate']<3)).sum()"
   ]
  },
  {
   "cell_type": "code",
   "execution_count": 41,
   "id": "24606086",
   "metadata": {
    "execution": {
     "iopub.execute_input": "2022-11-05T10:16:00.536479Z",
     "iopub.status.busy": "2022-11-05T10:16:00.535653Z",
     "iopub.status.idle": "2022-11-05T10:16:00.542740Z",
     "shell.execute_reply": "2022-11-05T10:16:00.541808Z"
    },
    "papermill": {
     "duration": 0.028299,
     "end_time": "2022-11-05T10:16:00.544719",
     "exception": false,
     "start_time": "2022-11-05T10:16:00.516420",
     "status": "completed"
    },
    "tags": []
   },
   "outputs": [
    {
     "data": {
      "text/plain": [
       "10153"
      ]
     },
     "execution_count": 41,
     "metadata": {},
     "output_type": "execute_result"
    }
   ],
   "source": [
    "((df['rate']>=3) & (df['rate']<4)).sum()"
   ]
  },
  {
   "cell_type": "code",
   "execution_count": 42,
   "id": "239a98fc",
   "metadata": {
    "execution": {
     "iopub.execute_input": "2022-11-05T10:16:00.583075Z",
     "iopub.status.busy": "2022-11-05T10:16:00.582453Z",
     "iopub.status.idle": "2022-11-05T10:16:00.588453Z",
     "shell.execute_reply": "2022-11-05T10:16:00.587588Z"
    },
    "papermill": {
     "duration": 0.02719,
     "end_time": "2022-11-05T10:16:00.590355",
     "exception": false,
     "start_time": "2022-11-05T10:16:00.563165",
     "status": "completed"
    },
    "tags": []
   },
   "outputs": [
    {
     "data": {
      "text/plain": [
       "11911"
      ]
     },
     "execution_count": 42,
     "metadata": {},
     "output_type": "execute_result"
    }
   ],
   "source": [
    "(df['rate']>=4).sum()"
   ]
  },
  {
   "cell_type": "code",
   "execution_count": 43,
   "id": "f53587e1",
   "metadata": {
    "execution": {
     "iopub.execute_input": "2022-11-05T10:16:00.629129Z",
     "iopub.status.busy": "2022-11-05T10:16:00.628369Z",
     "iopub.status.idle": "2022-11-05T10:16:00.791134Z",
     "shell.execute_reply": "2022-11-05T10:16:00.790047Z"
    },
    "papermill": {
     "duration": 0.184758,
     "end_time": "2022-11-05T10:16:00.793900",
     "exception": false,
     "start_time": "2022-11-05T10:16:00.609142",
     "status": "completed"
    },
    "tags": []
   },
   "outputs": [
    {
     "data": {
      "image/png": "[encoded data removed]",
      "text/plain": [
       "<Figure size 720x720 with 1 Axes>"
      ]
     },
     "metadata": {},
     "output_type": "display_data"
    }
   ],
   "source": [
    "slices=[((df['rate']>=1) & (df['rate']<2)).sum(),\n",
    "        ((df['rate']>=2) & (df['rate']<3)).sum(),\n",
    "        ((df['rate']>=3) & (df['rate']<4)).sum(),\n",
    "        (df['rate']>=4).sum()\n",
    "        ]\n",
    "\n",
    "labels=['1','2','3','>4']\n",
    "colors = ['red','blue','green', 'yellow']\n",
    "plt.pie(slices,colors=colors, labels=labels, autopct='%1.0f%%', pctdistance=.5, labeldistance=1.2,shadow=True)\n",
    "fig = plt.gcf()\n",
    "plt.title(\"Percentage of Restaurants according to their ratings\")\n",
    "\n",
    "fig.set_size_inches(10,10)\n",
    "plt.show()"
   ]
  },
  {
   "cell_type": "code",
   "execution_count": 44,
   "id": "7caddab0",
   "metadata": {
    "execution": {
     "iopub.execute_input": "2022-11-05T10:16:00.865760Z",
     "iopub.status.busy": "2022-11-05T10:16:00.865463Z",
     "iopub.status.idle": "2022-11-05T10:16:01.127624Z",
     "shell.execute_reply": "2022-11-05T10:16:01.126468Z"
    },
    "papermill": {
     "duration": 0.28843,
     "end_time": "2022-11-05T10:16:01.132591",
     "exception": false,
     "start_time": "2022-11-05T10:16:00.844161",
     "status": "completed"
    },
    "tags": []
   },
   "outputs": [
    {
     "data": {
      "image/png": "[encoded data removed]",
      "text/plain": [
       "<Figure size 864x864 with 1 Axes>"
      ]
     },
     "metadata": {
      "needs_background": "light"
     },
     "output_type": "display_data"
    }
   ],
   "source": [
    "plt.figure(figsize=(15,7))\n",
    "sns.countplot(df['type']).set_xticklabels(sns.countplot(df['type']).get_xticklabels(), rotation=90, ha=\"right\")\n",
    "fig = plt.gcf()\n",
    "fig.set_size_inches(12,12)\n",
    "plt.title('Type of Service')\n",
    "plt.show()"
   ]
  },
  {
   "cell_type": "code",
   "execution_count": 45,
   "id": "62f8b46b",
   "metadata": {
    "execution": {
     "iopub.execute_input": "2022-11-05T10:16:01.209655Z",
     "iopub.status.busy": "2022-11-05T10:16:01.209103Z",
     "iopub.status.idle": "2022-11-05T10:16:01.215059Z",
     "shell.execute_reply": "2022-11-05T10:16:01.213974Z"
    },
    "papermill": {
     "duration": 0.047547,
     "end_time": "2022-11-05T10:16:01.219448",
     "exception": false,
     "start_time": "2022-11-05T10:16:01.171901",
     "status": "completed"
    },
    "tags": []
   },
   "outputs": [],
   "source": [
    "from plotly.offline import iplot"
   ]
  },
  {
   "cell_type": "code",
   "execution_count": 46,
   "id": "c2e991cb",
   "metadata": {
    "execution": {
     "iopub.execute_input": "2022-11-05T10:16:01.302881Z",
     "iopub.status.busy": "2022-11-05T10:16:01.302490Z",
     "iopub.status.idle": "2022-11-05T10:16:01.366054Z",
     "shell.execute_reply": "2022-11-05T10:16:01.365209Z"
    },
    "papermill": {
     "duration": 0.101744,
     "end_time": "2022-11-05T10:16:01.368763",
     "exception": false,
     "start_time": "2022-11-05T10:16:01.267019",
     "status": "completed"
    },
    "tags": []
   },
   "outputs": [
    {
     "data": {
      "text/html": [
       "<div>                            <div id=\"1c54f44f-6ec5-47d0-bcfd-e9f5838b153d\" class=\"plotly-graph-div\" style=\"height:800px; width:800px;\"></div>            <script type=\"text/javascript\">                require([\"plotly\"], function(Plotly) {                    window.PLOTLYENV=window.PLOTLYENV || {};                                    if (document.getElementById(\"1c54f44f-6ec5-47d0-bcfd-e9f5838b153d\")) {                    Plotly.newPlot(                        \"1c54f44f-6ec5-47d0-bcfd-e9f5838b153d\",                        [{\"marker\":{\"color\":\"rgb(113, 10, 100)\"},\"name\":\"accepting online orders\",\"y\":[800.0,800.0,800.0,300.0,600.0,600.0,600.0,700.0,550.0,500.0,600.0,500.0,450.0,800.0,650.0,800.0,700.0,300.0,400.0,500.0,600.0,550.0,600.0,500.0,750.0,500.0,650.0,600.0,750.0,200.0,500.0,800.0,600.0,400.0,300.0,450.0,850.0,300.0,400.0,750.0,450.0,450.0,800.0,800.0,800.0,850.0,400.0,1200.0,300.0,300.0,150.0,350.0,400.0,600.0,600.0,800.0,300.0,400.0,300.0,200.0,400.0,300.0,450.0,800.0,500.0,650.0,400.0,500.0,450.0,500.0,750.0,350.0,800.0,400.0,1200.0,150.0,300.0,500.0,450.0,200.0,250.0,650.0,300.0,700.0,150.0,400.0,200.0,300.0,350.0,500.0,750.0,550.0,200.0,400.0,750.0,650.0,500.0,250.0,150.0,500.0,1500.0,300.0,800.0,700.0,700.0,550.0,1300.0,500.0,700.0,1000.0,750.0,250.0,200.0,600.0,650.0,550.0,450.0,450.0,150.0,700.0,600.0,200.0,400.0,300.0,600.0,700.0,750.0,200.0,600.0,200.0,600.0,550.0,200.0,650.0,500.0,1200.0,650.0,600.0,100.0,850.0,400.0,450.0,300.0,500.0,100.0,400.0,900.0,550.0,800.0,250.0,1200.0,400.0,500.0,700.0,400.0,400.0,800.0,800.0,200.0,600.0,900.0,800.0,400.0,400.0,300.0,650.0,600.0,650.0,100.0,700.0,700.0,350.0,300.0,600.0,400.0,600.0,400.0,800.0,400.0,650.0,150.0,1200.0,250.0,400.0,700.0,1200.0,200.0,800.0,500.0,200.0,800.0,600.0,900.0,400.0,250.0,300.0,400.0,350.0,600.0,100.0,450.0,400.0,100.0,150.0,400.0,250.0,100.0,600.0,200.0,750.0,800.0,1000.0,600.0,750.0,800.0,800.0,800.0,450.0,1000.0,700.0,800.0,600.0,1500.0,300.0,300.0,200.0,400.0,700.0,300.0,550.0,750.0,500.0,500.0,500.0,400.0,150.0,150.0,400.0,800.0,700.0,500.0,400.0,400.0,400.0,600.0,300.0,400.0,750.0,1200.0,350.0,600.0,800.0,800.0,800.0,1300.0,1200.0,700.0,800.0,550.0,500.0,600.0,500.0,800.0,450.0,600.0,850.0,450.0,800.0,800.0,650.0,900.0,700.0,800.0,700.0,300.0,300.0,500.0,400.0,700.0,600.0,800.0,600.0,750.0,600.0,150.0,800.0,850.0,800.0,400.0,750.0,650.0,100.0,200.0,450.0,450.0,200.0,500.0,100.0,500.0,100.0,200.0,300.0,500.0,300.0,300.0,600.0,250.0,300.0,350.0,800.0,250.0,350.0,600.0,500.0,300.0,100.0,300.0,300.0,450.0,200.0,200.0,250.0,400.0,250.0,300.0,400.0,350.0,500.0,600.0,150.0,350.0,750.0,550.0,600.0,500.0,150.0,150.0,550.0,1100.0,450.0,300.0,100.0,650.0,600.0,250.0,600.0,400.0,800.0,750.0,600.0,800.0,200.0,300.0,100.0,150.0,100.0,200.0,300.0,700.0,300.0,300.0,450.0,700.0,200.0,250.0,200.0,150.0,300.0,1300.0,1200.0,800.0,800.0,1100.0,900.0,1000.0,750.0,550.0,1600.0,1200.0,800.0,1000.0,1000.0,1000.0,1000.0,950.0,600.0,700.0,450.0,300.0,400.0,400.0,500.0,600.0,700.0,350.0,650.0,600.0,600.0,800.0,550.0,650.0,600.0,400.0,450.0,550.0,700.0,500.0,500.0,800.0,800.0,300.0,400.0,250.0,400.0,300.0,300.0,500.0,400.0,150.0,500.0,300.0,700.0,400.0,400.0,450.0,300.0,250.0,600.0,250.0,400.0,200.0,350.0,300.0,450.0,400.0,350.0,300.0,400.0,1000.0,650.0,550.0,600.0,300.0,750.0,600.0,400.0,300.0,400.0,600.0,800.0,500.0,800.0,800.0,300.0,700.0,400.0,700.0,600.0,300.0,400.0,600.0,300.0,400.0,750.0,650.0,700.0,300.0,500.0,250.0,200.0,550.0,1000.0,900.0,700.0,650.0,500.0,900.0,600.0,1000.0,800.0,250.0,500.0,400.0,450.0,250.0,400.0,300.0,400.0,400.0,400.0,600.0,1200.0,400.0,1000.0,800.0,600.0,700.0,650.0,500.0,300.0,600.0,800.0,600.0,400.0,700.0,300.0,500.0,200.0,400.0,500.0,500.0,600.0,250.0,200.0,300.0,400.0,300.0,600.0,500.0,450.0,1500.0,750.0,600.0,1200.0,300.0,600.0,1000.0,1600.0,400.0,600.0,500.0,500.0,400.0,400.0,600.0,700.0,400.0,500.0,600.0,800.0,600.0,750.0,500.0,300.0,800.0,350.0,1000.0,250.0,400.0,500.0,250.0,400.0,650.0,600.0,800.0,450.0,450.0,600.0,600.0,750.0,350.0,1100.0,600.0,550.0,230.0,250.0,400.0,1000.0,600.0,500.0,1200.0,500.0,300.0,500.0,450.0,800.0,250.0,750.0,300.0,500.0,500.0,100.0,600.0,700.0,500.0,600.0,1200.0,400.0,400.0,500.0,400.0,800.0,300.0,1000.0,350.0,150.0,250.0,500.0,200.0,400.0,400.0,300.0,1300.0,400.0,800.0,600.0,250.0,400.0,150.0,700.0,1100.0,400.0,800.0,600.0,500.0,600.0,400.0,350.0,1300.0,300.0,400.0,400.0,400.0,1100.0,650.0,300.0,250.0,500.0,750.0,650.0,400.0,650.0,700.0,800.0,500.0,600.0,550.0,1000.0,550.0,500.0,700.0,1100.0,500.0,350.0,500.0,450.0,650.0,650.0,1000.0,450.0,800.0,450.0,250.0,800.0,250.0,500.0,300.0,750.0,500.0,500.0,800.0,450.0,250.0,250.0,1700.0,200.0,600.0,400.0,150.0,150.0,900.0,600.0,1200.0,1200.0,1200.0,550.0,400.0,600.0,500.0,700.0,350.0,400.0,250.0,500.0,1000.0,200.0,500.0,600.0,500.0,750.0,500.0,400.0,800.0,800.0,500.0,400.0,200.0,500.0,400.0,150.0,400.0,400.0,250.0,450.0,350.0,400.0,300.0,500.0,400.0,400.0,800.0,700.0,500.0,200.0,700.0,600.0,300.0,500.0,500.0,550.0,500.0,400.0,600.0,800.0,500.0,550.0,1000.0,800.0,700.0,800.0,700.0,650.0,1000.0,700.0,700.0,800.0,400.0,450.0,800.0,300.0,400.0,900.0,500.0,500.0,600.0,550.0,400.0,500.0,500.0,850.0,450.0,700.0,400.0,400.0,600.0,500.0,450.0,1000.0,600.0,650.0,600.0,800.0,500.0,800.0,750.0,500.0,400.0,250.0,300.0,1000.0,250.0,800.0,400.0,400.0,500.0,400.0,400.0,600.0,500.0,600.0,800.0,400.0,400.0,600.0,400.0,150.0,300.0,400.0,250.0,400.0,350.0,400.0,600.0,600.0,400.0,500.0,300.0,500.0,200.0,250.0,750.0,600.0,200.0,650.0,250.0,1100.0,350.0,400.0,250.0,250.0,300.0,400.0,600.0,300.0,800.0,250.0,1200.0,1600.0,1200.0,1600.0,1500.0,1300.0,1200.0,800.0,1300.0,1000.0,400.0,1200.0,750.0,1100.0,700.0,1200.0,550.0,1300.0,1000.0,1100.0,1200.0,1300.0,600.0,1000.0,750.0,1000.0,500.0,600.0,700.0,750.0,700.0,300.0,500.0,350.0,400.0,950.0,400.0,450.0,800.0,450.0,550.0,600.0,600.0,500.0,400.0,1000.0,1100.0,400.0,1000.0,500.0,450.0,950.0,600.0,600.0,550.0,450.0,750.0,750.0,800.0,800.0,650.0,700.0,400.0,300.0,200.0,600.0,350.0,800.0,300.0,1500.0,500.0,600.0,500.0,400.0,600.0,550.0,300.0,250.0,400.0,300.0,500.0,400.0,500.0,400.0,300.0,650.0,250.0,900.0,1200.0,1700.0,800.0,1200.0,1600.0,1300.0,1200.0,1200.0,1300.0,1100.0,1100.0,1500.0,1000.0,600.0,600.0,950.0,1500.0,750.0,800.0,800.0,1000.0,550.0,1350.0,1200.0,800.0,800.0,600.0,700.0,550.0,600.0,500.0,600.0,400.0,800.0,500.0,400.0,800.0,800.0,850.0,700.0,600.0,800.0,700.0,400.0,550.0,650.0,700.0,800.0,650.0,700.0,400.0,150.0,650.0,550.0,650.0,450.0,400.0,500.0,450.0,500.0,400.0,750.0,450.0,500.0,200.0,450.0,300.0,800.0,250.0,650.0,600.0,200.0,500.0,200.0,800.0,400.0,300.0,550.0,400.0,150.0,300.0,300.0,100.0,300.0,800.0,750.0,500.0,300.0,500.0,600.0,400.0,400.0,650.0,100.0,200.0,500.0,400.0,800.0,750.0,600.0,750.0,650.0,200.0,250.0,500.0,350.0,500.0,650.0,600.0,1200.0,100.0,250.0,200.0,400.0,400.0,550.0,400.0,400.0,400.0,600.0,800.0,200.0,350.0,250.0,1200.0,800.0,200.0,900.0,400.0,900.0,800.0,150.0,200.0,150.0,300.0,1600.0,500.0,650.0,800.0,500.0,300.0,500.0,350.0,300.0,250.0,500.0,500.0,200.0,500.0,800.0,1200.0,800.0,500.0,500.0,400.0,400.0,600.0,350.0,250.0,200.0,200.0,1000.0,800.0,500.0,800.0,400.0,800.0,450.0,700.0,700.0,800.0,300.0,300.0,250.0,150.0,650.0,600.0,700.0,700.0,400.0,600.0,450.0,400.0,300.0,1000.0,300.0,600.0,600.0,400.0,600.0,150.0,300.0,1300.0,200.0,800.0,600.0,1200.0,600.0,700.0,800.0,100.0,200.0,900.0,100.0,700.0,300.0,350.0,450.0,400.0,800.0,400.0,700.0,300.0,1500.0,800.0,600.0,1000.0,700.0,450.0,400.0,400.0,600.0,400.0,300.0,900.0,800.0,650.0,650.0,1200.0,300.0,200.0,200.0,750.0,400.0,650.0,500.0,400.0,100.0,400.0,450.0,900.0,400.0,1100.0,400.0,350.0,400.0,500.0,400.0,700.0,750.0,550.0,650.0,200.0,300.0,550.0,300.0,1000.0,700.0,900.0,600.0,1000.0,500.0,250.0,750.0,400.0,700.0,800.0,300.0,750.0,600.0,500.0,200.0,600.0,1200.0,600.0,1200.0,800.0,1000.0,150.0,800.0,800.0,500.0,450.0,1700.0,400.0,400.0,300.0,450.0,100.0,400.0,150.0,700.0,800.0,800.0,1200.0,750.0,100.0,400.0,900.0,700.0,150.0,1500.0,1200.0,400.0,300.0,800.0,900.0,200.0,1000.0,600.0,1000.0,300.0,1000.0,100.0,800.0,700.0,800.0,650.0,1350.0,550.0,600.0,950.0,650.0,600.0,400.0,1350.0,300.0,850.0,1200.0,1000.0,550.0,200.0,600.0,600.0,650.0,1200.0,1000.0,800.0,300.0,200.0,600.0,1200.0,800.0,400.0,800.0,800.0,450.0,200.0,800.0,300.0,350.0,150.0,550.0,400.0,300.0,400.0,400.0,500.0,400.0,750.0,500.0,150.0,400.0,400.0,400.0,400.0,300.0,600.0,400.0,500.0,400.0,400.0,800.0,400.0,200.0,200.0,150.0,800.0,250.0,150.0,400.0,200.0,400.0,500.0,350.0,500.0,700.0,500.0,400.0,400.0,800.0,300.0,400.0,150.0,700.0,300.0,200.0,400.0,400.0,300.0,500.0,1000.0,750.0,600.0,350.0,600.0,1000.0,750.0,700.0,500.0,550.0,1100.0,550.0,600.0,450.0,650.0,800.0,600.0,2200.0,500.0,600.0,600.0,400.0,800.0,650.0,400.0,450.0,600.0,700.0,600.0,300.0,250.0,150.0,100.0,150.0,400.0,150.0,500.0,100.0,400.0,300.0,500.0,250.0,100.0,200.0,100.0,600.0,200.0,300.0,300.0,400.0,150.0,250.0,200.0,500.0,300.0,100.0,750.0,400.0,300.0,500.0,150.0,150.0,200.0,600.0,200.0,200.0,300.0,150.0,600.0,600.0,1000.0,600.0,1200.0,950.0,800.0,1500.0,1000.0,800.0,700.0,1300.0,350.0,800.0,700.0,500.0,1000.0,1500.0,400.0,350.0,750.0,800.0,900.0,600.0,750.0,800.0,1200.0,800.0,800.0,1200.0,600.0,650.0,800.0,800.0,400.0,1200.0,250.0,800.0,450.0,700.0,1200.0,850.0,700.0,1300.0,600.0,800.0,650.0,700.0,400.0,550.0,1000.0,600.0,650.0,900.0,400.0,800.0,800.0,200.0,700.0,350.0,900.0,800.0,800.0,750.0,1200.0,800.0,700.0,450.0,150.0,650.0,500.0,550.0,1350.0,450.0,800.0,600.0,400.0,200.0,100.0,400.0,700.0,750.0,1000.0,400.0,900.0,500.0,100.0,400.0,400.0,1000.0,550.0,550.0,500.0,300.0,700.0,500.0,100.0,1000.0,400.0,1350.0,650.0,250.0,250.0,250.0,300.0,400.0,350.0,250.0,1200.0,650.0,450.0,150.0,450.0,700.0,800.0,300.0,250.0,400.0,200.0,350.0,500.0,150.0,600.0,350.0,100.0,300.0,650.0,800.0,850.0,250.0,300.0,300.0,800.0,300.0,400.0,850.0,1000.0,1100.0,2200.0,1500.0,1200.0,1200.0,1300.0,1350.0,1000.0,800.0,1500.0,1400.0,2000.0,1000.0,1400.0,1800.0,1200.0,1500.0,1500.0,1100.0,1500.0,1000.0,700.0,800.0,2000.0,1500.0,1400.0,1300.0,1600.0,1300.0,1000.0,1500.0,1100.0,1500.0,1300.0,500.0,700.0,1900.0,400.0,600.0,900.0,600.0,500.0,550.0,1000.0,500.0,600.0,800.0,700.0,500.0,400.0,650.0,500.0,450.0,200.0,450.0,400.0,400.0,400.0,300.0,300.0,400.0,500.0,300.0,400.0,200.0,600.0,700.0,600.0,500.0,800.0,900.0,750.0,550.0,400.0,400.0,800.0,400.0,400.0,300.0,300.0,550.0,600.0,250.0,600.0,300.0,400.0,300.0,600.0,750.0,650.0,750.0,450.0,450.0,600.0,400.0,950.0,400.0,650.0,400.0,500.0,200.0,450.0,400.0,500.0,600.0,800.0,500.0,450.0,300.0,800.0,600.0,600.0,1200.0,800.0,500.0,150.0,500.0,1500.0,1400.0,300.0,600.0,600.0,1200.0,500.0,800.0,400.0,800.0,1300.0,1600.0,700.0,1800.0,500.0,300.0,400.0,400.0,800.0,1100.0,400.0,600.0,600.0,1500.0,800.0,750.0,600.0,350.0,300.0,550.0,900.0,300.0,400.0,250.0,100.0,1500.0,800.0,600.0,500.0,1800.0,1000.0,500.0,250.0,400.0,850.0,500.0,1800.0,500.0,450.0,1200.0,600.0,700.0,1000.0,200.0,600.0,400.0,1100.0,500.0,900.0,150.0,250.0,1500.0,200.0,450.0,1000.0,450.0,1000.0,500.0,250.0,500.0,450.0,750.0,800.0,750.0,500.0,1400.0,600.0,600.0,300.0,500.0,200.0,500.0,400.0,250.0,900.0,1000.0,200.0,700.0,500.0,1200.0,600.0,200.0,400.0,1100.0,350.0,400.0,350.0,1200.0,450.0,600.0,600.0,1500.0,1700.0,400.0,250.0,400.0,600.0,1200.0,800.0,1400.0,650.0,180.0,400.0,650.0,300.0,300.0,400.0,1400.0,200.0,300.0,800.0,800.0,150.0,1700.0,500.0,500.0,1000.0,300.0,500.0,1300.0,1300.0,750.0,600.0,200.0,400.0,750.0,600.0,750.0,400.0,400.0,700.0,600.0,800.0,1500.0,500.0,330.0,250.0,550.0,600.0,1400.0,800.0,600.0,800.0,550.0,200.0,500.0,700.0,700.0,300.0,500.0,500.0,500.0,450.0,400.0,800.0,500.0,800.0,400.0,550.0,550.0,150.0,450.0,500.0,650.0,300.0,750.0,1500.0,600.0,300.0,300.0,100.0,150.0,400.0,1000.0,600.0,700.0,250.0,800.0,300.0,600.0,500.0,300.0,400.0,500.0,200.0,500.0,400.0,250.0,600.0,500.0,600.0,600.0,900.0,300.0,600.0,500.0,400.0,750.0,150.0,700.0,300.0,300.0,350.0,500.0,2000.0,1500.0,1100.0,1000.0,1800.0,1700.0,1800.0,1400.0,750.0,1200.0,800.0,1800.0,1200.0,950.0,600.0,400.0,700.0,600.0,750.0,1500.0,500.0,1500.0,1200.0,400.0,600.0,900.0,400.0,800.0,500.0,650.0,500.0,1500.0,800.0,1600.0,1400.0,600.0,500.0,800.0,550.0,500.0,1000.0,400.0,600.0,800.0,900.0,700.0,400.0,500.0,450.0,800.0,550.0,550.0,750.0,2000.0,400.0,550.0,1000.0,800.0,450.0,300.0,500.0,300.0,400.0,250.0,500.0,600.0,300.0,400.0,200.0,500.0,450.0,250.0,350.0,200.0,330.0,200.0,400.0,600.0,250.0,200.0,500.0,400.0,800.0,400.0,450.0,400.0,1500.0,1600.0,1400.0,1400.0,1500.0,1900.0,1300.0,1500.0,1500.0,1600.0,1400.0,1300.0,1000.0,1500.0,1400.0,1100.0,1500.0,1300.0,2000.0,2000.0,2500.0,600.0,700.0,700.0,800.0,500.0,500.0,850.0,800.0,1200.0,900.0,800.0,1000.0,550.0,800.0,300.0,750.0,600.0,600.0,150.0,700.0,400.0,500.0,700.0,150.0,600.0,600.0,250.0,2500.0,500.0,250.0,300.0,200.0,1900.0,400.0,550.0,250.0,600.0,400.0,400.0,400.0,500.0,300.0,800.0,300.0,1300.0,1600.0,1400.0,1000.0,1700.0,1500.0,1500.0,1400.0,2000.0,1600.0,1400.0,1500.0,1900.0,1500.0,1900.0,1500.0,1200.0,2500.0,1600.0,1400.0,1400.0,1700.0,1800.0,1500.0,1100.0,1500.0,1400.0,1400.0,1500.0,1900.0,1500.0,1500.0,1500.0,1200.0,1500.0,1200.0,1500.0,800.0,650.0,1000.0,1800.0,2200.0,2100.0,3000.0,1200.0,2800.0,1700.0,1400.0,1600.0,2500.0,750.0,3000.0,1500.0,500.0,1000.0,1500.0,3400.0,2000.0,1200.0,1700.0,1200.0,1600.0,2000.0,1300.0,2200.0,1300.0,1600.0,3000.0,1000.0,1200.0,1000.0,1400.0,1900.0,800.0,1000.0,500.0,1200.0,650.0,1300.0,1700.0,1800.0,1600.0,1100.0,750.0,1200.0,500.0,650.0,800.0,350.0,1100.0,800.0,900.0,1700.0,1000.0,600.0,600.0,2500.0,650.0,1400.0,750.0,400.0,900.0,700.0,700.0,500.0,700.0,800.0,800.0,750.0,650.0,750.0,500.0,1000.0,1000.0,400.0,1200.0,500.0,500.0,600.0,800.0,1000.0,500.0,600.0,700.0,900.0,1300.0,750.0,1000.0,750.0,300.0,300.0,300.0,500.0,450.0,150.0,600.0,800.0,550.0,350.0,250.0,500.0,500.0,350.0,500.0,650.0,500.0,600.0,650.0,400.0,250.0,750.0,200.0,750.0,400.0,1200.0,400.0,200.0,750.0,400.0,450.0,400.0,800.0,250.0,800.0,500.0,750.0,400.0,650.0,400.0,750.0,650.0,1300.0,1600.0,1200.0,1200.0,500.0,300.0,600.0,450.0,750.0,1300.0,600.0,350.0,600.0,500.0,500.0,700.0,1500.0,400.0,400.0,800.0,900.0,400.0,400.0,1600.0,800.0,300.0,400.0,1300.0,350.0,400.0,500.0,900.0,1600.0,250.0,1100.0,400.0,700.0,700.0,650.0,700.0,700.0,500.0,300.0,400.0,300.0,400.0,100.0,400.0,250.0,350.0,800.0,400.0,600.0,3000.0,700.0,500.0,700.0,1500.0,450.0,700.0,300.0,400.0,500.0,500.0,800.0,40.0,180.0,300.0,150.0,750.0,400.0,500.0,200.0,750.0,150.0,1300.0,1300.0,600.0,150.0,850.0,500.0,1000.0,1000.0,700.0,700.0,1000.0,300.0,800.0,950.0,300.0,900.0,800.0,500.0,1000.0,500.0,300.0,1400.0,1300.0,1500.0,500.0,550.0,600.0,750.0,550.0,2000.0,550.0,1000.0,700.0,600.0,250.0,1400.0,1500.0,200.0,700.0,400.0,400.0,600.0,400.0,200.0,450.0,450.0,500.0,500.0,500.0,1000.0,700.0,300.0,700.0,350.0,450.0,250.0,200.0,400.0,400.0,2000.0,400.0,400.0,700.0,600.0,750.0,700.0,300.0,700.0,1200.0,400.0,800.0,200.0,600.0,1000.0,500.0,700.0,1500.0,600.0,550.0,300.0,500.0,650.0,800.0,650.0,500.0,500.0,650.0,2000.0,300.0,600.0,750.0,650.0,1000.0,700.0,200.0,800.0,800.0,300.0,700.0,600.0,550.0,1000.0,1500.0,150.0,400.0,500.0,1200.0,700.0,750.0,1200.0,800.0,900.0,650.0,800.0,1700.0,1700.0,800.0,1900.0,1300.0,300.0,2100.0,600.0,1000.0,1700.0,2100.0,1500.0,500.0,1700.0,1100.0,1400.0,650.0,800.0,450.0,1000.0,600.0,600.0,700.0,1000.0,2000.0,750.0,1000.0,1400.0,1500.0,1200.0,850.0,1500.0,850.0,1000.0,600.0,1200.0,300.0,1000.0,1400.0,1400.0,1800.0,400.0,1400.0,350.0,800.0,300.0,1800.0,500.0,1300.0,800.0,2100.0,400.0,550.0,800.0,1000.0,300.0,800.0,550.0,600.0,1000.0,500.0,1300.0,1000.0,1200.0,1300.0,300.0,550.0,250.0,500.0,700.0,1200.0,1000.0,1200.0,1000.0,1500.0,550.0,800.0,900.0,1700.0,1400.0,550.0,400.0,750.0,400.0,900.0,500.0,800.0,500.0,800.0,400.0,800.0,150.0,750.0,600.0,1200.0,500.0,400.0,500.0,800.0,1100.0,500.0,150.0,300.0,350.0,100.0,300.0,250.0,300.0,550.0,500.0,600.0,1600.0,1800.0,1600.0,550.0,400.0,450.0,250.0,450.0,180.0,400.0,200.0,300.0,800.0,800.0,2000.0,1000.0,600.0,400.0,1250.0,1400.0,300.0,150.0,700.0,700.0,500.0,300.0,400.0,400.0,2000.0,700.0,1000.0,500.0,400.0,300.0,350.0,400.0,300.0,800.0,400.0,400.0,300.0,150.0,900.0,150.0,250.0,400.0,400.0,150.0,300.0,300.0,500.0,350.0,600.0,900.0,1300.0,200.0,750.0,300.0,700.0,1300.0,1100.0,2000.0,1500.0,1500.0,2000.0,750.0,1500.0,1500.0,1600.0,1500.0,1200.0,800.0,1100.0,1100.0,2000.0,500.0,750.0,1500.0,800.0,700.0,650.0,650.0,350.0,400.0,650.0,700.0,500.0,1300.0,1000.0,600.0,500.0,500.0,800.0,800.0,550.0,450.0,250.0,300.0,400.0,600.0,500.0,300.0,450.0,600.0,1700.0,1500.0,1800.0,1500.0,1500.0,2500.0,3000.0,2200.0,3000.0,800.0,2800.0,550.0,1100.0,2100.0,1500.0,3000.0,2500.0,3500.0,1700.0,1700.0,1500.0,1200.0,1200.0,1300.0,1500.0,1300.0,2800.0,2100.0,1200.0,800.0,1600.0,1700.0,1600.0,3000.0,1000.0,1500.0,800.0,2000.0,1500.0,700.0,1500.0,2500.0,1000.0,2100.0,1900.0,1700.0,2000.0,2200.0,1400.0,1500.0,600.0,800.0,900.0,1200.0,1700.0,2500.0,1600.0,1300.0,1400.0,1000.0,1000.0,600.0,2500.0,1400.0,200.0,1500.0,4000.0,550.0,3000.0,1500.0,3000.0,500.0,1000.0,1100.0,650.0,1200.0,2500.0,1500.0,2000.0,1500.0,1000.0,1400.0,1500.0,1100.0,600.0,1300.0,1000.0,1300.0,650.0,850.0,750.0,1800.0,500.0,1800.0,1000.0,1000.0,1200.0,3400.0,750.0,1800.0,2000.0,3000.0,1000.0,1400.0,3500.0,400.0,900.0,1200.0,800.0,1500.0,1200.0,4000.0,500.0,700.0,1300.0,4000.0,1200.0,1000.0,1200.0,1000.0,700.0,1700.0,2000.0,1200.0,1600.0,800.0,2000.0,3000.0,2000.0,2000.0,3500.0,1200.0,1000.0,700.0,1300.0,800.0,1000.0,500.0,750.0,800.0,1800.0,800.0,2800.0,800.0,1000.0,500.0,3000.0,750.0,800.0,2000.0,2200.0,650.0,1800.0,950.0,750.0,3000.0,1000.0,1500.0,500.0,400.0,550.0,1000.0,600.0,700.0,2000.0,550.0,1200.0,1000.0,300.0,1300.0,500.0,1000.0,500.0,1600.0,500.0,3000.0,1000.0,450.0,1000.0,400.0,650.0,550.0,1200.0,1200.0,1000.0,1000.0,2000.0,1500.0,400.0,300.0,1200.0,3000.0,500.0,500.0,1800.0,2500.0,800.0,2500.0,700.0,1400.0,600.0,600.0,800.0,550.0,850.0,2400.0,500.0,1400.0,1900.0,800.0,1000.0,1200.0,1500.0,250.0,600.0,700.0,500.0,3000.0,500.0,800.0,600.0,800.0,1200.0,550.0,800.0,800.0,1200.0,800.0,600.0,350.0,2000.0,700.0,600.0,2500.0,900.0,600.0,1000.0,600.0,400.0,250.0,700.0,400.0,300.0,500.0,200.0,150.0,150.0,150.0,500.0,300.0,500.0,300.0,300.0,150.0,300.0,250.0,500.0,150.0,300.0,400.0,250.0,350.0,800.0,200.0,400.0,350.0,400.0,500.0,500.0,200.0,400.0,500.0,350.0,250.0,400.0,500.0,250.0,300.0,300.0,300.0,300.0,100.0,500.0,1300.0,1100.0,1300.0,750.0,1300.0,1700.0,600.0,1000.0,750.0,550.0,850.0,200.0,700.0,700.0,750.0,1800.0,1600.0,400.0,300.0,150.0,400.0,400.0,1100.0,600.0,300.0,1300.0,2000.0,1200.0,2000.0,1500.0,1500.0,1500.0,1600.0,1100.0,1100.0,2000.0,1500.0,1700.0,1500.0,2500.0,3000.0,3000.0,1500.0,2500.0,1700.0,1700.0,1200.0,1300.0,1300.0,1700.0,1500.0,2000.0,1500.0,2500.0,1900.0,1300.0,1000.0,3000.0,1100.0,1200.0,1000.0,1400.0,1100.0,1000.0,1000.0,1200.0,1200.0,1500.0,1000.0,2000.0,1200.0,2800.0,3000.0,1500.0,600.0,1000.0,1000.0,1000.0,2000.0,1500.0,3000.0,1200.0,2500.0,2400.0,1400.0,1200.0,1500.0,1300.0,1300.0,800.0,700.0,350.0,150.0,200.0,200.0,400.0,500.0,250.0,1200.0,1300.0,2100.0,1700.0,1500.0,2500.0,1900.0,1700.0,1000.0,1000.0,1100.0,1200.0,1000.0,1400.0,1100.0,1300.0,1000.0,1000.0,1000.0,1200.0,1500.0,4000.0,1200.0,1000.0,1700.0,2000.0,2000.0,3500.0,1200.0,1300.0,1800.0,1000.0,1800.0,1500.0,600.0,1000.0,1000.0,1200.0,1000.0,3000.0,1200.0,1800.0,1400.0,1200.0,1500.0,800.0,1300.0,600.0,700.0,750.0,1600.0,1400.0,1100.0,1000.0,1800.0,1700.0,1500.0,1200.0,2500.0,1000.0,1500.0,2000.0,800.0,1500.0,2000.0,1900.0,1200.0,1200.0,1200.0,600.0,1100.0,400.0,600.0,300.0,600.0,500.0,500.0,650.0,900.0,600.0,900.0,1400.0,2000.0,1000.0,700.0,600.0,300.0,400.0,700.0,400.0,700.0,600.0,450.0,450.0,250.0,500.0,400.0,400.0,700.0,300.0,850.0,500.0,500.0,650.0,600.0,400.0,400.0,500.0,400.0,600.0,800.0,400.0,300.0,450.0,1000.0,800.0,800.0,500.0,500.0,300.0,350.0,500.0,400.0,400.0,300.0,300.0,700.0,150.0,600.0,500.0,250.0,650.0,250.0,750.0,800.0,500.0,350.0,500.0,500.0,400.0,500.0,350.0,400.0,1400.0,700.0,300.0,600.0,450.0,600.0,600.0,300.0,300.0,550.0,750.0,300.0,800.0,400.0,200.0,300.0,500.0,450.0,450.0,400.0,200.0,400.0,800.0,600.0,400.0,300.0,400.0,650.0,450.0,400.0,400.0,750.0,650.0,150.0,800.0,200.0,300.0,450.0,600.0,350.0,400.0,300.0,550.0,1400.0,300.0,300.0,1300.0,250.0,500.0,800.0,600.0,400.0,600.0,750.0,1000.0,600.0,1000.0,300.0,300.0,400.0,400.0,700.0,700.0,700.0,400.0,650.0,1400.0,900.0,350.0,750.0,900.0,400.0,750.0,900.0,500.0,600.0,500.0,750.0,800.0,600.0,300.0,1500.0,450.0,800.0,550.0,500.0,400.0,550.0,700.0,1000.0,450.0,250.0,500.0,2000.0,1000.0,1200.0,300.0,600.0,600.0,400.0,800.0,700.0,900.0,1000.0,350.0,800.0,300.0,2000.0,450.0,350.0,200.0,250.0,400.0,550.0,1100.0,250.0,400.0,1500.0,800.0,400.0,600.0,1500.0,500.0,800.0,1500.0,200.0,400.0,300.0,600.0,600.0,200.0,1100.0,500.0,600.0,300.0,800.0,900.0,1500.0,800.0,600.0,1100.0,200.0,200.0,350.0,500.0,400.0,450.0,1200.0,1000.0,700.0,700.0,650.0,500.0,300.0,600.0,400.0,400.0,350.0,1100.0,400.0,250.0,800.0,750.0,400.0,450.0,300.0,300.0,600.0,650.0,600.0,800.0,700.0,250.0,500.0,1000.0,350.0,700.0,200.0,400.0,350.0,500.0,800.0,2000.0,350.0,600.0,700.0,800.0,300.0,550.0,400.0,550.0,400.0,750.0,150.0,700.0,300.0,600.0,600.0,500.0,1000.0,250.0,1000.0,1100.0,300.0,1200.0,500.0,600.0,450.0,300.0,400.0,800.0,400.0,800.0,500.0,300.0,300.0,800.0,200.0,800.0,900.0,600.0,1600.0,800.0,650.0,750.0,500.0,750.0,750.0,500.0,500.0,350.0,1000.0,1200.0,550.0,200.0,750.0,900.0,400.0,700.0,550.0,500.0,500.0,700.0,200.0,200.0,250.0,800.0,1000.0,600.0,1500.0,150.0,750.0,150.0,500.0,450.0,400.0,300.0,900.0,1000.0,500.0,850.0,800.0,500.0,250.0,400.0,1000.0,1000.0,1100.0,700.0,1700.0,400.0,300.0,600.0,500.0,400.0,400.0,450.0,400.0,550.0,900.0,400.0,500.0,300.0,1000.0,200.0,600.0,400.0,350.0,250.0,400.0,450.0,1200.0,800.0,1000.0,600.0,700.0,600.0,300.0,750.0,1500.0,600.0,600.0,800.0,800.0,800.0,700.0,750.0,750.0,550.0,400.0,250.0,500.0,500.0,850.0,500.0,600.0,400.0,650.0,750.0,550.0,350.0,500.0,800.0,450.0,500.0,900.0,750.0,800.0,600.0,500.0,400.0,300.0,450.0,600.0,500.0,200.0,900.0,200.0,450.0,450.0,200.0,450.0,250.0,500.0,400.0,350.0,450.0,300.0,550.0,350.0,800.0,650.0,150.0,150.0,500.0,250.0,300.0,300.0,2400.0,2500.0,1600.0,1400.0,1700.0,1100.0,1000.0,1800.0,1300.0,1700.0,800.0,800.0,800.0,1500.0,800.0,900.0,700.0,1200.0,2500.0,500.0,850.0,900.0,700.0,1000.0,850.0,700.0,1500.0,1000.0,1400.0,1450.0,1400.0,800.0,3000.0,700.0,2000.0,1000.0,1000.0,450.0,1000.0,900.0,900.0,1500.0,800.0,2000.0,750.0,400.0,800.0,250.0,200.0,800.0,600.0,1000.0,1000.0,600.0,700.0,1100.0,800.0,150.0,700.0,300.0,200.0,1000.0,800.0,350.0,250.0,500.0,400.0,300.0,500.0,1500.0,300.0,2000.0,1000.0,750.0,300.0,350.0,600.0,400.0,600.0,600.0,300.0,250.0,1900.0,600.0,3000.0,1200.0,350.0,450.0,500.0,350.0,800.0,400.0,750.0,700.0,200.0,400.0,500.0,300.0,1200.0,1000.0,1000.0,700.0,700.0,650.0,1200.0,400.0,300.0,400.0,500.0,400.0,300.0,600.0,600.0,700.0,350.0,400.0,500.0,300.0,200.0,450.0,400.0,300.0,650.0,500.0,250.0,700.0,350.0,600.0,700.0,400.0,700.0,250.0,300.0,1100.0,300.0,600.0,1000.0,500.0,1200.0,1500.0,2400.0,2500.0,1000.0,1450.0,2000.0,1200.0,1600.0,1300.0,1600.0,1100.0,800.0,600.0,1100.0,1400.0,2000.0,1500.0,1200.0,900.0,1600.0,1300.0,1500.0,1300.0,1000.0,1500.0,1500.0,1500.0,1500.0,600.0,1100.0,750.0,700.0,1400.0,800.0,1000.0,900.0,2000.0,900.0,1000.0,400.0,950.0,1000.0,900.0,500.0,700.0,500.0,200.0,600.0,650.0,600.0,400.0,500.0,650.0,700.0,500.0,200.0,600.0,900.0,800.0,1300.0,600.0,600.0,800.0,900.0,500.0,800.0,900.0,800.0,550.0,800.0,900.0,600.0,1000.0,900.0,500.0,700.0,600.0,800.0,1200.0,600.0,1200.0,650.0,1000.0,600.0,900.0,600.0,450.0,750.0,650.0,600.0,400.0,600.0,500.0,700.0,400.0,350.0,700.0,700.0,300.0,400.0,800.0,600.0,400.0,400.0,500.0,500.0,500.0,450.0,450.0,300.0,400.0,400.0,200.0,400.0,400.0,250.0,300.0,200.0,250.0,600.0,600.0,100.0,250.0,400.0,500.0,150.0,500.0,400.0,450.0,550.0,400.0,400.0,650.0,600.0,250.0,150.0,600.0,400.0,600.0,250.0,250.0,400.0,600.0,600.0,200.0,200.0,300.0,250.0,400.0,300.0,400.0,300.0,250.0,300.0,600.0,350.0,300.0,400.0,400.0,800.0,300.0,500.0,500.0,350.0,400.0,300.0,500.0,600.0,400.0,500.0,350.0,300.0,400.0,500.0,800.0,800.0,700.0,500.0,650.0,300.0,300.0,450.0,600.0,600.0,250.0,750.0,650.0,550.0,500.0,400.0,100.0,400.0,800.0,500.0,600.0,200.0,400.0,600.0,1000.0,200.0,200.0,250.0,700.0,400.0,450.0,800.0,300.0,500.0,100.0,450.0,300.0,450.0,500.0,400.0,400.0,550.0,700.0,400.0,400.0,600.0,550.0,200.0,300.0,400.0,300.0,200.0,650.0,200.0,500.0,500.0,300.0,400.0,800.0,200.0,400.0,800.0,400.0,800.0,450.0,400.0,200.0,600.0,750.0,300.0,400.0,600.0,600.0,300.0,250.0,300.0,800.0,250.0,500.0,200.0,1200.0,300.0,100.0,400.0,400.0,350.0,400.0,700.0,350.0,1200.0,1000.0,300.0,1500.0,300.0,600.0,500.0,400.0,600.0,600.0,300.0,150.0,800.0,350.0,200.0,700.0,150.0,600.0,600.0,600.0,400.0,700.0,500.0,700.0,500.0,100.0,600.0,500.0,800.0,700.0,500.0,400.0,800.0,400.0,400.0,800.0,750.0,600.0,500.0,250.0,900.0,200.0,850.0,400.0,400.0,400.0,300.0,850.0,150.0,800.0,700.0,250.0,750.0,600.0,1000.0,300.0,600.0,500.0,400.0,600.0,500.0,500.0,500.0,700.0,200.0,200.0,600.0,400.0,500.0,800.0,200.0,250.0,150.0,300.0,500.0,900.0,1000.0,700.0,300.0,450.0,800.0,500.0,1000.0,1200.0,450.0,230.0,500.0,500.0,300.0,700.0,500.0,400.0,400.0,500.0,400.0,400.0,300.0,650.0,300.0,300.0,250.0,500.0,400.0,600.0,600.0,300.0,150.0,300.0,500.0,300.0,250.0,400.0,600.0,700.0,550.0,400.0,800.0,900.0,300.0,700.0,950.0,500.0,200.0,1200.0,900.0,150.0,800.0,300.0,750.0,400.0,350.0,200.0,400.0,800.0,600.0,450.0,500.0,500.0,500.0,400.0,300.0,1500.0,500.0,550.0,900.0,500.0,900.0,400.0,550.0,400.0,1300.0,300.0,400.0,300.0,400.0,400.0,700.0,1000.0,600.0,800.0,400.0,300.0,600.0,600.0,150.0,750.0,550.0,250.0,300.0,750.0,650.0,500.0,400.0,450.0,400.0,400.0,600.0,500.0,650.0,800.0,800.0,600.0,650.0,700.0,400.0,600.0,450.0,250.0,1200.0,1000.0,150.0,700.0,400.0,800.0,500.0,800.0,1100.0,1300.0,700.0,600.0,500.0,600.0,1200.0,500.0,400.0,600.0,1500.0,600.0,300.0,550.0,500.0,1000.0,600.0,500.0,1100.0,1000.0,300.0,500.0,1000.0,400.0,650.0,300.0,400.0,500.0,1200.0,300.0,500.0,800.0,250.0,500.0,800.0,450.0,600.0,400.0,500.0,350.0,250.0,600.0,200.0,550.0,600.0,450.0,400.0,750.0,750.0,400.0,600.0,700.0,500.0,450.0,400.0,550.0,300.0,750.0,1600.0,600.0,600.0,1000.0,800.0,1600.0,500.0,1000.0,800.0,700.0,800.0,650.0,300.0,600.0,400.0,1000.0,800.0,300.0,600.0,1300.0,200.0,400.0,1000.0,600.0,600.0,700.0,600.0,600.0,1500.0,400.0,1200.0,1200.0,600.0,500.0,1300.0,300.0,1100.0,800.0,500.0,1200.0,400.0,800.0,250.0,500.0,450.0,900.0,500.0,350.0,600.0,1000.0,300.0,1300.0,1000.0,800.0,1000.0,600.0,1200.0,350.0,1000.0,1000.0,2500.0,800.0,300.0,450.0,450.0,700.0,900.0,600.0,650.0,700.0,1500.0,500.0,900.0,350.0,1500.0,550.0,1100.0,700.0,500.0,600.0,700.0,1200.0,500.0,500.0,550.0,1200.0,750.0,650.0,300.0,400.0,300.0,300.0,800.0,1000.0,900.0,650.0,1400.0,700.0,1200.0,600.0,1500.0,1600.0,550.0,250.0,300.0,1400.0,500.0,1000.0,800.0,250.0,1200.0,700.0,600.0,1500.0,700.0,400.0,400.0,250.0,750.0,1500.0,1000.0,400.0,750.0,600.0,1500.0,450.0,1100.0,1000.0,200.0,400.0,700.0,350.0,1500.0,650.0,400.0,250.0,600.0,1000.0,1200.0,900.0,750.0,900.0,300.0,400.0,600.0,500.0,800.0,1000.0,900.0,400.0,300.0,300.0,1100.0,400.0,700.0,300.0,700.0,400.0,550.0,500.0,400.0,200.0,500.0,500.0,550.0,300.0,1700.0,1200.0,500.0,550.0,400.0,400.0,600.0,600.0,650.0,1000.0,400.0,400.0,600.0,500.0,200.0,650.0,600.0,250.0,350.0,750.0,400.0,1100.0,700.0,600.0,900.0,1100.0,500.0,500.0,200.0,450.0,800.0,500.0,800.0,650.0,350.0,200.0,600.0,600.0,600.0,600.0,450.0,1000.0,800.0,400.0,500.0,600.0,500.0,400.0,200.0,500.0,450.0,150.0,650.0,600.0,400.0,300.0,400.0,150.0,600.0,500.0,1300.0,500.0,300.0,100.0,400.0,600.0,1000.0,500.0,300.0,550.0,1200.0,900.0,400.0,400.0,800.0,1300.0,1200.0,450.0,1400.0,800.0,650.0,1100.0,350.0,1200.0,400.0,700.0,900.0,500.0,500.0,300.0,450.0,500.0,750.0,800.0,300.0,800.0,200.0,350.0,500.0,450.0,900.0,400.0,450.0,700.0,200.0,600.0,300.0,800.0,1000.0,350.0,1000.0,1400.0,700.0,600.0,400.0,400.0,500.0,550.0,800.0,600.0,900.0,650.0,800.0,650.0,150.0,500.0,650.0,350.0,200.0,400.0,800.0,150.0,200.0,800.0,700.0,150.0,500.0,600.0,200.0,400.0,900.0,700.0,600.0,800.0,150.0,400.0,1500.0,500.0,400.0,900.0,400.0,300.0,400.0,300.0,500.0,300.0,200.0,200.0,200.0,150.0,300.0,500.0,250.0,400.0,800.0,400.0,500.0,500.0,200.0,200.0,400.0,100.0,600.0,1100.0,400.0,1300.0,600.0,700.0,500.0,800.0,550.0,400.0,450.0,500.0,600.0,300.0,400.0,1200.0,400.0,650.0,500.0,900.0,350.0,600.0,400.0,400.0,400.0,400.0,250.0,300.0,200.0,450.0,500.0,300.0,500.0,200.0,500.0,500.0,350.0,400.0,400.0,400.0,400.0,800.0,700.0,350.0,150.0,400.0,200.0,800.0,700.0,400.0,150.0,400.0,500.0,600.0,400.0,250.0,200.0,500.0,400.0,400.0,200.0,1600.0,1300.0,1600.0,1100.0,800.0,900.0,800.0,1500.0,900.0,500.0,850.0,550.0,550.0,300.0,800.0,800.0,300.0,800.0,600.0,1100.0,500.0,550.0,500.0,400.0,500.0,700.0,600.0,400.0,600.0,700.0,900.0,1000.0,600.0,500.0,600.0,400.0,350.0,700.0,350.0,600.0,600.0,500.0,200.0,600.0,600.0,650.0,600.0,400.0,800.0,500.0,600.0,600.0,500.0,550.0,600.0,1000.0,600.0,500.0,650.0,450.0,500.0,650.0,700.0,500.0,250.0,500.0,300.0,1000.0,300.0,500.0,250.0,400.0,300.0,200.0,300.0,400.0,250.0,300.0,400.0,400.0,500.0,300.0,300.0,400.0,500.0,400.0,150.0,250.0,500.0,150.0,200.0,250.0,300.0,200.0,300.0,700.0,500.0,300.0,200.0,300.0,300.0,400.0,600.0,500.0,400.0,500.0,300.0,500.0,300.0,200.0,400.0,400.0,250.0,300.0,300.0,400.0,350.0,450.0,250.0,450.0,400.0,300.0,550.0,600.0,400.0,400.0,500.0,400.0,650.0,250.0,400.0,350.0,400.0,300.0,300.0,250.0,1100.0,200.0,600.0,900.0,1400.0,1500.0,2000.0,1000.0,1100.0,1500.0,1200.0,900.0,1600.0,1300.0,1300.0,1400.0,800.0,1600.0,1600.0,700.0,1500.0,1600.0,750.0,1300.0,1500.0,1000.0,1000.0,1300.0,1500.0,1500.0,1400.0,1800.0,600.0,1400.0,1300.0,600.0,1200.0,1500.0,1400.0,1200.0,1300.0,1500.0,1500.0,1000.0,1000.0,1000.0,600.0,650.0,1400.0,800.0,1200.0,800.0,1000.0,1100.0,1500.0,1200.0,1400.0,650.0,550.0,600.0,1100.0,700.0,1000.0,800.0,600.0,900.0,750.0,500.0,1500.0,800.0,1200.0,550.0,900.0,800.0,550.0,1200.0,800.0,600.0,900.0,600.0,800.0,750.0,650.0,1200.0,800.0,550.0,1200.0,1000.0,1000.0,900.0,500.0,1200.0,750.0,900.0,500.0,800.0,700.0,800.0,1200.0,600.0,800.0,650.0,600.0,800.0,750.0,500.0,1200.0,600.0,1500.0,700.0,1200.0,700.0,750.0,1400.0,1000.0,700.0,650.0,750.0,1300.0,1300.0,500.0,1000.0,1000.0,800.0,650.0,600.0,1100.0,800.0,600.0,450.0,500.0,1000.0,800.0,1300.0,550.0,300.0,650.0,700.0,400.0,500.0,800.0,1400.0,600.0,350.0,750.0,650.0,700.0,750.0,700.0,400.0,1300.0,650.0,600.0,500.0,400.0,300.0,300.0,600.0,800.0,450.0,350.0,700.0,500.0,800.0,300.0,200.0,600.0,1000.0,400.0,600.0,900.0,450.0,250.0,600.0,700.0,2000.0,500.0,550.0,150.0,450.0,600.0,600.0,1500.0,200.0,700.0,400.0,350.0,900.0,350.0,800.0,600.0,1000.0,400.0,500.0,900.0,400.0,400.0,500.0,650.0,650.0,800.0,1100.0,700.0,900.0,200.0,600.0,500.0,400.0,250.0,200.0,400.0,300.0,600.0,450.0,200.0,700.0,1000.0,800.0,200.0,600.0,600.0,300.0,400.0,700.0,600.0,300.0,400.0,250.0,400.0,400.0,200.0,300.0,400.0,1300.0,200.0,400.0,200.0,950.0,400.0,400.0,750.0,500.0,400.0,700.0,650.0,200.0,300.0,200.0,100.0,800.0,600.0,1000.0,400.0,400.0,600.0,700.0,400.0,450.0,600.0,500.0,500.0,650.0,900.0,350.0,400.0,200.0,400.0,400.0,350.0,300.0,200.0,400.0,450.0,300.0,300.0,300.0,450.0,500.0,600.0,300.0,800.0,300.0,300.0,600.0,550.0,200.0,750.0,300.0,400.0,200.0,500.0,400.0,900.0,250.0,400.0,550.0,350.0,800.0,450.0,500.0,1000.0,1100.0,1500.0,1100.0,1500.0,2000.0,1100.0,900.0,1600.0,1600.0,1600.0,1000.0,1500.0,1400.0,1800.0,1400.0,1200.0,1300.0,1000.0,1200.0,1400.0,1200.0,1200.0,1200.0,1200.0,1500.0,1400.0,1000.0,1300.0,1300.0,1400.0,1500.0,1100.0,1300.0,1100.0,1600.0,1500.0,1100.0,1400.0,1000.0,1100.0,1500.0,900.0,1400.0,1600.0,1500.0,1000.0,1500.0,1800.0,1500.0,1200.0,1300.0,1000.0,1200.0,1400.0,1000.0,1500.0,1200.0,800.0,1200.0,1200.0,1200.0,1200.0,1400.0,1000.0,1300.0,1000.0,1300.0,1300.0,1500.0,1100.0,1300.0,1200.0,1500.0,1200.0,1700.0,750.0,1800.0,1500.0,2200.0,3000.0,2100.0,2800.0,1400.0,1600.0,2500.0,3000.0,500.0,1500.0,1000.0,3400.0,2000.0,1500.0,1300.0,1700.0,1200.0,1600.0,800.0,2200.0,2000.0,1200.0,1000.0,1900.0,650.0,1400.0,1000.0,800.0,1000.0,1300.0,1600.0,3000.0,500.0,1000.0,1200.0,650.0,2500.0,1300.0,1200.0,1700.0,1800.0,1600.0,1100.0,750.0,1200.0,500.0,1100.0,1000.0,600.0,650.0,900.0,700.0,500.0,700.0,800.0,1700.0,900.0,600.0,2500.0,1400.0,400.0,750.0,700.0,700.0,500.0,1100.0,800.0,750.0,500.0,650.0,500.0,1000.0,650.0,1200.0,800.0,800.0,400.0,800.0,600.0,400.0,1000.0,500.0,600.0,1000.0,800.0,900.0,700.0,350.0,1300.0,750.0,300.0,1000.0,750.0,750.0,1100.0,500.0,650.0,400.0,750.0,750.0,500.0,750.0,600.0,750.0,300.0,600.0,400.0,650.0,400.0,500.0,550.0,150.0,500.0,1500.0,800.0,400.0,400.0,200.0,600.0,800.0,300.0,850.0,400.0,400.0,300.0,450.0,650.0,250.0,450.0,600.0,1600.0,400.0,1300.0,1200.0,1200.0,450.0,600.0,700.0,500.0,400.0,700.0,350.0,200.0,400.0,500.0,400.0,550.0,500.0,400.0,900.0,800.0,400.0,200.0,1300.0,1200.0,600.0,550.0,1100.0,500.0,600.0,400.0,800.0,1300.0,200.0,1700.0,150.0,2100.0,1700.0,1500.0,750.0,500.0,300.0,150.0,2000.0,250.0,750.0,400.0,600.0,650.0,500.0,800.0,1400.0,2100.0,1500.0,1200.0,450.0,1000.0,400.0,1500.0,600.0,1400.0,200.0,2000.0,1000.0,500.0,300.0,250.0,300.0,400.0,800.0,700.0,700.0,900.0,200.0,1700.0,500.0,1200.0,650.0,500.0,300.0,1500.0,950.0,1600.0,1500.0,1000.0,300.0,300.0,500.0,900.0,700.0,1000.0,1200.0,700.0,1000.0,800.0,1500.0,1400.0,900.0,700.0,250.0,700.0,1000.0,750.0,600.0,1300.0,400.0,250.0,350.0,800.0,300.0,1400.0,500.0,180.0,500.0,800.0,750.0,250.0,500.0,700.0,200.0,600.0,800.0,550.0,2100.0,900.0,1100.0,550.0,1400.0,600.0,400.0,400.0,400.0,750.0,800.0,500.0,150.0,600.0,750.0,600.0,1200.0,500.0,600.0,500.0,550.0,400.0,400.0,200.0,800.0,800.0,500.0,800.0,1000.0,500.0,300.0,500.0,500.0,500.0,550.0,300.0,450.0,350.0,150.0,100.0,300.0,600.0,800.0,350.0,1600.0,650.0,750.0,300.0,400.0,450.0,500.0,200.0,700.0,500.0,1000.0,200.0,300.0,850.0,800.0,1000.0,1000.0,850.0,800.0,800.0,800.0,700.0,1000.0,600.0,300.0,600.0,300.0,250.0,400.0,600.0,700.0,450.0,500.0,700.0,800.0,1000.0,600.0,400.0,500.0,900.0,700.0,650.0,500.0,800.0,500.0,350.0,1800.0,1300.0,500.0,300.0,550.0,200.0,1200.0,1200.0,1300.0,1600.0,600.0,1400.0,550.0,1200.0,1000.0,600.0,400.0,1000.0,500.0,1200.0,600.0,40.0,250.0,250.0,500.0,600.0,400.0,700.0,350.0,600.0,1700.0,550.0,600.0,1100.0,1000.0,150.0,250.0,700.0,400.0,300.0,400.0,400.0,700.0,700.0,1800.0,750.0,1900.0,1300.0,1000.0,500.0,1600.0,700.0,300.0,800.0,300.0,1000.0,600.0,650.0,750.0,500.0,1300.0,800.0,1400.0,650.0,1000.0,2000.0,150.0,2000.0,750.0,700.0,1500.0,1700.0,1100.0,1800.0,1000.0,150.0,400.0,250.0,400.0,2000.0,800.0,400.0,600.0,550.0,400.0,1400.0,700.0,300.0,1250.0,700.0,500.0,400.0,450.0,2000.0,1000.0,700.0,500.0,400.0,300.0,300.0,350.0,400.0,800.0,400.0,250.0,900.0,400.0,300.0,400.0,150.0,300.0,180.0,150.0,450.0,400.0,400.0,900.0,300.0,150.0,300.0,600.0,300.0,500.0,350.0,1300.0,800.0,200.0,750.0,300.0,500.0,1500.0,300.0,1100.0,1500.0,1200.0,1000.0,1000.0,1700.0,1000.0,600.0,650.0,1300.0,1100.0,1100.0,750.0,750.0,1400.0,650.0,1300.0,1200.0,900.0,600.0,800.0,700.0,1000.0,800.0,1500.0,950.0,500.0,800.0,1200.0,600.0,600.0,500.0,200.0,150.0,500.0,250.0,400.0,250.0,350.0,1700.0,2500.0,1500.0,1800.0,1500.0,2000.0,3000.0,2200.0,3000.0,800.0,550.0,2800.0,2500.0,1500.0,2000.0,1500.0,1500.0,3000.0,2100.0,3500.0,1700.0,1700.0,1300.0,1600.0,2800.0,1700.0,1500.0,1200.0,1500.0,1600.0,1300.0,1200.0,2000.0,3000.0,800.0,700.0,2100.0,1500.0,2500.0,1900.0,2200.0,1500.0,1400.0,2000.0,1200.0,1400.0,1500.0,600.0,1300.0,2100.0,1700.0,900.0,1100.0,1600.0,2500.0,1500.0,2500.0,550.0,1000.0,3000.0,1200.0,1300.0,1400.0,4000.0,500.0,1800.0,1300.0,1500.0,200.0,1000.0,2000.0,1500.0,1000.0,1800.0,1000.0,500.0,1000.0,1500.0,1200.0,2500.0,400.0,3400.0,3000.0,2000.0,850.0,2000.0,750.0,700.0,3500.0,600.0,1800.0,1500.0,3000.0,1300.0,1500.0,700.0,1600.0,1200.0,1300.0,1500.0,1200.0,1100.0,1700.0,2000.0,500.0,800.0,4000.0,3000.0,1100.0,1000.0,1500.0,700.0,2800.0,1000.0,1200.0,1000.0,1200.0,4000.0,2000.0,3500.0,1200.0,550.0,1000.0,1600.0,500.0,300.0,2000.0,650.0,1800.0,3000.0,800.0,2200.0,1100.0,800.0,2000.0,500.0,800.0,750.0,1500.0,1000.0,800.0,1000.0,650.0,750.0,500.0,1800.0,1000.0,400.0,550.0,600.0,700.0,700.0,2000.0,1000.0,1000.0,3000.0,2000.0,800.0,550.0,400.0,650.0,800.0,450.0,650.0,550.0,1200.0,1800.0,800.0,800.0,1200.0,1000.0,1000.0,700.0,2000.0,500.0,1500.0,300.0,350.0,600.0,3000.0,400.0,1900.0,500.0,2500.0,650.0,800.0,2500.0,1400.0,800.0,1200.0,800.0,600.0,3000.0,1000.0,550.0,400.0,800.0,800.0,400.0,850.0,800.0,1000.0,500.0,1300.0,1600.0,3000.0,600.0,1000.0,1400.0,700.0,3000.0,500.0,1000.0,2400.0,600.0,1500.0,500.0,1000.0,500.0,800.0,1300.0,800.0,1200.0,800.0,250.0,600.0,350.0,500.0,500.0,900.0,2000.0,700.0,2500.0,600.0,400.0,600.0,550.0,400.0,300.0,250.0,150.0,700.0,150.0,500.0,150.0,300.0,500.0,250.0,300.0,450.0,400.0,400.0,500.0,150.0,300.0,400.0,300.0,200.0,350.0,500.0,400.0,400.0,250.0,350.0,300.0,500.0,200.0,600.0,600.0,500.0,300.0,300.0,500.0,300.0,450.0,300.0,100.0,300.0,500.0,1300.0,800.0,1100.0,1100.0,1400.0,1300.0,600.0,3200.0,750.0,2500.0,1500.0,1300.0,1200.0,300.0,4000.0,1700.0,1000.0,2500.0,750.0,600.0,850.0,550.0,600.0,400.0,700.0,1000.0,200.0,700.0,750.0,500.0,700.0,750.0,1800.0,1200.0,900.0,1600.0,700.0,400.0,150.0,550.0,700.0,300.0,500.0,600.0,400.0,400.0,1100.0,500.0,400.0,500.0,250.0,250.0,550.0,500.0,1100.0,600.0,300.0,1200.0,1500.0,2000.0,1300.0,1100.0,1100.0,1200.0,1000.0,1500.0,1700.0,2500.0,1500.0,2000.0,3000.0,3000.0,2500.0,1500.0,1500.0,1700.0,1700.0,1300.0,1700.0,1500.0,1300.0,1200.0,2000.0,1500.0,2500.0,1900.0,1300.0,1500.0,1000.0,1200.0,1400.0,1300.0,1000.0,3000.0,1600.0,1500.0,1100.0,1100.0,1000.0,2800.0,1000.0,2000.0,1200.0,2000.0,3000.0,1500.0,600.0,1000.0,1000.0,1000.0,2000.0,1500.0,2500.0,3000.0,1400.0,2400.0,1500.0,1300.0,1300.0,1200.0,2500.0,1200.0,1200.0,1200.0,1100.0,1100.0,1200.0,1000.0,1500.0,2000.0,2500.0,1500.0,1700.0,1300.0,1700.0,1500.0,1200.0,2100.0,2500.0,1900.0,1300.0,1500.0,1000.0,1200.0,1300.0,1400.0,1300.0,1000.0,1000.0,1000.0,1600.0,1200.0,1300.0,1500.0,1100.0,1700.0,2000.0,1100.0,1000.0,1000.0,1000.0,1200.0,4000.0,2000.0,3500.0,1200.0,2000.0,1800.0,1800.0,600.0,1000.0,1000.0,1800.0,1200.0,1000.0,3000.0,800.0,1400.0,1500.0,1300.0,1300.0,1200.0,1200.0,1500.0,1200.0,1600.0,600.0,1100.0,3000.0,2200.0,1200.0,1400.0,800.0,2000.0,900.0,850.0,800.0,1500.0,600.0,700.0,650.0,500.0,400.0,600.0,600.0,700.0,400.0,400.0,700.0,200.0,450.0,200.0,250.0,300.0,400.0,500.0,500.0,500.0,500.0,200.0,700.0,600.0,600.0,300.0,500.0,800.0,800.0,300.0,250.0,500.0,700.0,300.0,650.0,400.0,450.0,500.0,400.0,600.0,200.0,400.0,500.0,400.0,400.0,400.0,750.0,500.0,400.0,450.0,400.0,150.0,400.0,450.0,400.0,650.0,800.0,250.0,450.0,600.0,550.0,250.0,250.0,900.0,750.0,700.0,400.0,500.0,300.0,500.0,150.0,800.0,500.0,700.0,800.0,750.0,350.0,400.0,900.0,300.0,400.0,700.0,900.0,350.0,400.0,700.0,500.0,400.0,300.0,600.0,600.0,450.0,750.0,400.0,600.0,250.0,650.0,600.0,500.0,450.0,400.0,600.0,600.0,1500.0,1200.0,400.0,400.0,500.0,400.0,400.0,650.0,400.0,500.0,1000.0,1200.0,700.0,900.0,200.0,500.0,1100.0,1000.0,700.0,600.0,1500.0,400.0,500.0,700.0,500.0,350.0,450.0,400.0,400.0,500.0,500.0,600.0,2000.0,600.0,200.0,250.0,400.0,450.0,400.0,500.0,600.0,400.0,250.0,400.0,400.0,700.0,500.0,500.0,1500.0,1200.0,1200.0,1200.0,1600.0,600.0,1100.0,1500.0,900.0,800.0,1400.0,600.0,650.0,700.0,800.0,3000.0,1500.0,1300.0,2200.0,450.0,500.0,500.0,800.0,600.0,1200.0,1400.0,400.0,700.0,800.0,400.0,450.0,2000.0,400.0,600.0,1200.0,700.0,600.0,400.0,500.0,600.0,900.0,750.0,700.0,2500.0,2200.0,700.0,900.0,1500.0,650.0,750.0,400.0,1000.0,700.0,850.0,1200.0,450.0,2500.0,850.0,500.0,500.0,1000.0,700.0,400.0,600.0,1500.0,800.0,700.0,600.0,550.0,1500.0,400.0,800.0,500.0,700.0,500.0,500.0,500.0,300.0,450.0,500.0,550.0,400.0,500.0,400.0,400.0,350.0,400.0,650.0,400.0,250.0,300.0,400.0,250.0,400.0,250.0,400.0,500.0,450.0,400.0,500.0,300.0,200.0,350.0,400.0,400.0,300.0,450.0,150.0,600.0,400.0,400.0,300.0,400.0,300.0,600.0,400.0,600.0,750.0,400.0,500.0,500.0,250.0,350.0,400.0,500.0,400.0,350.0,500.0,250.0,300.0,1200.0,1200.0,1200.0,1500.0,1400.0,1300.0,1200.0,2500.0,900.0,1500.0,1500.0,1200.0,1200.0,1200.0,1500.0,1400.0,1300.0,1200.0,1200.0,900.0,1500.0,1500.0,750.0,1300.0,2800.0,1300.0,1700.0,2200.0,1800.0,1600.0,1100.0,1100.0,700.0,700.0,350.0,600.0,1300.0,1200.0,750.0,750.0,700.0,300.0,1000.0,750.0,800.0,650.0,800.0,650.0,750.0,800.0,700.0,1000.0,500.0,500.0,800.0,400.0,1100.0,600.0,450.0,500.0,450.0,500.0,600.0,750.0,300.0,300.0,600.0,300.0,600.0,650.0,600.0,200.0,400.0,350.0,400.0,800.0,750.0,250.0,500.0,750.0,800.0,1000.0,500.0,750.0,400.0,550.0,400.0,950.0,400.0,600.0,400.0,300.0,800.0,150.0,200.0,750.0,250.0,300.0,750.0,400.0,500.0,400.0,700.0,600.0,800.0,550.0,650.0,400.0,500.0,1200.0,900.0,1500.0,800.0,1100.0,500.0,1400.0,650.0,450.0,400.0,1300.0,800.0,700.0,750.0,1500.0,600.0,600.0,400.0,1600.0,500.0,500.0,600.0,650.0,300.0,800.0,600.0,1700.0,1200.0,1300.0,500.0,400.0,700.0,400.0,600.0,1600.0,650.0,700.0,400.0,400.0,500.0,300.0,1000.0,1500.0,650.0,1300.0,600.0,1200.0,550.0,300.0,600.0,1100.0,500.0,800.0,400.0,700.0,900.0,400.0,450.0,500.0,900.0,450.0,400.0,450.0,40.0,550.0,300.0,3000.0,350.0,700.0,250.0,650.0,700.0,200.0,800.0,300.0,550.0,750.0,600.0,450.0,100.0,500.0,350.0,600.0,1300.0,1700.0,180.0,1700.0,600.0,2100.0,600.0,700.0,300.0,500.0,1000.0,550.0,2000.0,500.0,1500.0,450.0,1500.0,700.0,400.0,750.0,1300.0,1000.0,400.0,1000.0,700.0,500.0,800.0,1300.0,500.0,750.0,500.0,1300.0,700.0,500.0,700.0,750.0,800.0,1000.0,2100.0,1000.0,500.0,1900.0,450.0,150.0,150.0,700.0,300.0,2000.0,400.0,1000.0,650.0,950.0,150.0,500.0,300.0,1400.0,800.0,1200.0,1000.0,1000.0,150.0,700.0,750.0,1500.0,300.0,200.0,700.0,800.0,250.0,1800.0,500.0,350.0,1500.0,800.0,1000.0,200.0,550.0,400.0,500.0,400.0,250.0,1000.0,1400.0,400.0,800.0,700.0,600.0,550.0,600.0,350.0,1500.0,1500.0,500.0,200.0,550.0,300.0,1100.0,850.0,400.0,150.0,850.0,700.0,300.0,1800.0,800.0,1800.0,600.0,1000.0,800.0,2000.0,400.0,300.0,600.0,1500.0,750.0,1000.0,1500.0,700.0,400.0,700.0,300.0,600.0,300.0,900.0,400.0,450.0,650.0,500.0,800.0,800.0,2000.0,750.0,1700.0,700.0,850.0,1000.0,650.0,500.0,600.0,500.0,250.0,200.0,250.0,500.0,200.0,350.0,100.0,1200.0,550.0,600.0,500.0,300.0,700.0,300.0,300.0,800.0,700.0,300.0,800.0,1200.0,400.0,600.0,300.0,1700.0,550.0,1300.0,250.0,1100.0,750.0,800.0,750.0,700.0,400.0,200.0,1100.0,300.0,300.0,300.0,400.0,500.0,600.0,1600.0,600.0,200.0,150.0,400.0,150.0,700.0,500.0,100.0,500.0,300.0,250.0,250.0,350.0,500.0,500.0,300.0,300.0,350.0,300.0,400.0,150.0,1300.0,400.0,750.0,700.0,700.0,400.0,500.0,400.0,300.0,300.0,300.0,700.0,600.0,750.0,800.0,700.0,700.0,700.0,600.0,1100.0,550.0,600.0,1100.0,1500.0,800.0,850.0,700.0,600.0,750.0,500.0,1000.0,500.0,500.0,700.0,700.0,600.0,700.0,1000.0,300.0,500.0,1000.0,750.0,600.0,1000.0,200.0,300.0,500.0,300.0,600.0,400.0,400.0,150.0,700.0,400.0,400.0,200.0,250.0,500.0,300.0,600.0,500.0,500.0,1300.0,800.0,550.0,550.0,450.0,800.0,650.0,700.0,300.0,600.0,800.0,300.0,150.0,600.0,350.0,400.0,500.0,300.0,300.0,1300.0,2800.0,1200.0,1600.0,1000.0,2500.0,2500.0,1100.0,1100.0,1300.0,1300.0,600.0,1000.0,1300.0,750.0,1800.0,750.0,700.0,1800.0,3000.0,1300.0,1700.0,300.0,600.0,1200.0,1000.0,750.0,650.0,2000.0,3000.0,2000.0,750.0,800.0,650.0,800.0,2200.0,650.0,850.0,800.0,700.0,700.0,1000.0,1000.0,700.0,750.0,1800.0,500.0,400.0,500.0,1600.0,500.0,150.0,500.0,400.0,1500.0,400.0,250.0,500.0,550.0,800.0,800.0,400.0,300.0,400.0,1100.0,600.0,200.0,450.0,1100.0,250.0,300.0,800.0,400.0,400.0,1500.0,1300.0,2500.0,1300.0,1300.0,1000.0,1500.0,1500.0,1000.0,1300.0,1300.0,2500.0,1300.0,1000.0,1200.0,2000.0,1000.0,1400.0,1500.0,1800.0,600.0,1200.0,1000.0,850.0,750.0,600.0,800.0,400.0,1000.0,1600.0,1500.0,1500.0,900.0,1200.0,1500.0,1900.0,700.0,800.0,600.0,750.0,500.0,700.0,800.0,1200.0,800.0,950.0,650.0,750.0,300.0,600.0,700.0,700.0,600.0,300.0,700.0,600.0,500.0,450.0,650.0,1300.0,350.0,550.0,600.0,1000.0,250.0,500.0,600.0,1000.0,400.0,700.0,500.0,600.0,500.0,600.0,400.0,500.0,500.0,600.0,500.0,500.0,450.0,350.0,500.0,400.0,250.0,250.0,400.0,750.0,800.0,650.0,450.0,400.0,600.0,450.0,450.0,300.0,500.0,500.0,500.0,400.0,800.0,250.0,600.0,300.0,500.0,600.0,750.0,400.0,400.0,300.0,650.0,400.0,400.0,400.0,900.0,200.0,400.0,450.0,600.0,750.0,400.0,800.0,800.0,800.0,750.0,400.0,150.0,500.0,600.0,500.0,200.0,750.0,600.0,600.0,500.0,550.0,400.0,400.0,300.0,900.0,400.0,250.0,600.0,650.0,300.0,800.0,600.0,450.0,700.0,200.0,400.0,650.0,300.0,500.0,350.0,550.0,300.0,150.0,400.0,500.0,100.0,300.0,500.0,400.0,500.0,600.0,200.0,350.0,450.0,500.0,600.0,600.0,650.0,200.0,400.0,400.0,400.0,300.0,750.0,800.0,200.0,300.0,800.0,500.0,1500.0,1400.0,300.0,500.0,400.0,550.0,300.0,550.0,1400.0,200.0,600.0,450.0,800.0,600.0,400.0,700.0,400.0,400.0,1700.0,1900.0,500.0,350.0,180.0,200.0,1000.0,900.0,400.0,400.0,400.0,550.0,300.0,800.0,150.0,600.0,400.0,700.0,1400.0,250.0,200.0,400.0,350.0,250.0,1200.0,700.0,1000.0,400.0,650.0,500.0,500.0,1000.0,450.0,600.0,400.0,1000.0,800.0,600.0,1000.0,600.0,150.0,200.0,600.0,550.0,350.0,400.0,350.0,550.0,250.0,200.0,400.0,550.0,500.0,450.0,1000.0,600.0,400.0,700.0,1000.0,300.0,600.0,700.0,550.0,300.0,300.0,800.0,300.0,900.0,500.0,1200.0,500.0,750.0,350.0,1400.0,1700.0,400.0,300.0,800.0,400.0,950.0,450.0,300.0,1200.0,1500.0,300.0,250.0,200.0,700.0,600.0,200.0,600.0,800.0,300.0,700.0,300.0,900.0,850.0,500.0,750.0,650.0,350.0,500.0,500.0,300.0,800.0,400.0,600.0,400.0,650.0,100.0,500.0,800.0,200.0,1800.0,500.0,250.0,1500.0,300.0,400.0,150.0,250.0,400.0,450.0,450.0,800.0,450.0,700.0,600.0,650.0,400.0,400.0,300.0,350.0,800.0,500.0,250.0,600.0,400.0,900.0,400.0,100.0,250.0,400.0,150.0,1300.0,700.0,800.0,300.0,450.0,500.0,500.0,400.0,700.0,350.0,500.0,400.0,600.0,450.0,400.0,300.0,400.0,600.0,800.0,500.0,700.0,800.0,250.0,600.0,500.0,1100.0,900.0,200.0,1400.0,400.0,400.0,200.0,500.0,250.0,550.0,800.0,500.0,300.0,550.0,500.0,400.0,400.0,500.0,300.0,800.0,500.0,500.0,550.0,400.0,550.0,600.0,400.0,1300.0,400.0,1200.0,1200.0,300.0,400.0,250.0,600.0,300.0,800.0,1000.0,500.0,1100.0,250.0,1200.0,300.0,1300.0,600.0,1000.0,400.0,450.0,1200.0,200.0,600.0,400.0,700.0,750.0,800.0,700.0,600.0,600.0,400.0,850.0,300.0,700.0,1000.0,400.0,700.0,400.0,500.0,600.0,800.0,600.0,950.0,1300.0,700.0,1200.0,150.0,600.0,1000.0,1500.0,1500.0,550.0,1100.0,500.0,800.0,600.0,500.0,500.0,400.0,800.0,400.0,950.0,200.0,350.0,400.0,400.0,300.0,300.0,400.0,500.0,600.0,400.0,300.0,400.0,450.0,200.0,100.0,300.0,600.0,350.0,180.0,500.0,500.0,400.0,500.0,350.0,500.0,100.0,150.0,400.0,450.0,350.0,300.0,1000.0,500.0,150.0,500.0,300.0,400.0,600.0,650.0,500.0,500.0,1200.0,500.0,800.0,1000.0,700.0,1500.0,1500.0,1000.0,1800.0,600.0,1200.0,850.0,1400.0,1200.0,1000.0,550.0,750.0,1100.0,800.0,1200.0,700.0,900.0,1000.0,600.0,750.0,1200.0,800.0,800.0,850.0,700.0,1200.0,600.0,800.0,850.0,200.0,800.0,750.0,800.0,950.0,700.0,1200.0,600.0,800.0,900.0,600.0,650.0,1000.0,1000.0,400.0,550.0,750.0,400.0,800.0,500.0,500.0,800.0,800.0,600.0,800.0,1400.0,700.0,800.0,900.0,700.0,750.0,450.0,300.0,700.0,650.0,1300.0,600.0,500.0,800.0,500.0,600.0,700.0,400.0,500.0,500.0,550.0,800.0,1000.0,450.0,400.0,250.0,650.0,550.0,700.0,800.0,550.0,800.0,400.0,400.0,500.0,700.0,650.0,1300.0,550.0,550.0,750.0,600.0,700.0,500.0,750.0,900.0,1000.0,250.0,600.0,300.0,600.0,450.0,600.0,450.0,900.0,500.0,1000.0,600.0,500.0,600.0,400.0,400.0,450.0,500.0,400.0,300.0,250.0,400.0,500.0,150.0,400.0,300.0,400.0,400.0,500.0,300.0,400.0,300.0,350.0,350.0,400.0,500.0,400.0,300.0,150.0,400.0,600.0,400.0,500.0,600.0,400.0,200.0,400.0,400.0,300.0,200.0,500.0,450.0,500.0,400.0,450.0,400.0,400.0,250.0,250.0,600.0,300.0,500.0,400.0,600.0,200.0,250.0,300.0,400.0,400.0,400.0,400.0,300.0,300.0,750.0,300.0,300.0,700.0,200.0,400.0,800.0,200.0,150.0,350.0,250.0,500.0,500.0,300.0,500.0,400.0,200.0,400.0,250.0,1400.0,1900.0,1000.0,1600.0,1500.0,600.0,1500.0,1000.0,2000.0,700.0,750.0,1200.0,800.0,550.0,550.0,900.0,250.0,550.0,1200.0,400.0,1500.0,450.0,300.0,500.0,1900.0,350.0,300.0,250.0,600.0,300.0,350.0,100.0,450.0,1000.0,1000.0,1500.0,1500.0,850.0,1400.0,1100.0,900.0,1900.0,1000.0,1200.0,1500.0,1000.0,850.0,1000.0,1500.0,1400.0,1100.0,900.0,1200.0,1200.0,1400.0,1300.0,1400.0,1900.0,1500.0,1200.0,1500.0,1000.0,1200.0,1800.0,1600.0,2100.0,1200.0,1700.0,1400.0,1100.0,1300.0,800.0,1000.0,1300.0,750.0,1600.0,900.0,1700.0,1100.0,1200.0,1200.0,400.0,850.0,1200.0,1500.0,1700.0,1000.0,1100.0,3500.0,3000.0,2100.0,2800.0,2200.0,3000.0,1400.0,1500.0,3000.0,1000.0,900.0,800.0,600.0,800.0,900.0,600.0,1000.0,600.0,1300.0,600.0,200.0,500.0,550.0,700.0,800.0,600.0,900.0,1000.0,700.0,400.0,600.0,800.0,400.0,700.0,650.0,500.0,700.0,450.0,800.0,500.0,650.0,800.0,850.0,800.0,750.0,500.0,450.0,500.0,500.0,700.0,500.0,1100.0,900.0,200.0,500.0,700.0,600.0,500.0,600.0,500.0,1600.0,500.0,1700.0,2500.0,700.0,700.0,700.0,500.0,300.0,300.0,300.0,200.0,800.0,500.0,600.0,300.0,600.0,400.0,400.0,450.0,150.0,400.0,350.0,350.0,400.0,500.0,200.0,400.0,650.0,500.0,400.0,300.0,1000.0,350.0,150.0,200.0,800.0,650.0,800.0,400.0,800.0,400.0,850.0,600.0,300.0,500.0,500.0,550.0,250.0,550.0,750.0,400.0,800.0,600.0,250.0,300.0,150.0,1000.0,950.0,250.0,200.0,600.0,1200.0,800.0,650.0,600.0,800.0,700.0,500.0,900.0,700.0,600.0,500.0,500.0,450.0,600.0,1200.0,300.0,400.0,750.0,700.0,600.0,400.0,1600.0,600.0,400.0,1200.0,650.0,400.0,500.0,600.0,300.0,800.0,150.0,300.0,1200.0,800.0,600.0,900.0,40.0,300.0,750.0,400.0,250.0,500.0,700.0,650.0,500.0,350.0,600.0,750.0,200.0,600.0,400.0,1500.0,450.0,650.0,100.0,500.0,500.0,350.0,800.0,250.0,500.0,500.0,1300.0,850.0,1400.0,700.0,800.0,550.0,600.0,1000.0,1100.0,1200.0,1500.0,600.0,500.0,1000.0,1200.0,900.0,1600.0,500.0,300.0,300.0,300.0,500.0,1800.0,900.0,250.0,450.0,700.0,800.0,850.0,800.0,450.0,700.0,550.0,500.0,600.0,800.0,200.0,300.0,1100.0,450.0,400.0,350.0,800.0,500.0,400.0,750.0,500.0,900.0,650.0,400.0,1100.0,1600.0,600.0,900.0,350.0,800.0,1300.0,800.0,300.0,400.0,400.0,500.0,800.0,400.0,550.0,1500.0,250.0,150.0,400.0,600.0,650.0,750.0,800.0,1000.0,1500.0,450.0,350.0,700.0,300.0,500.0,300.0,2100.0,1300.0,180.0,400.0,200.0,450.0,300.0,500.0,400.0,750.0,700.0,700.0,800.0,700.0,1000.0,200.0,500.0,300.0,2000.0,1000.0,700.0,1000.0,700.0,250.0,200.0,600.0,950.0,1000.0,550.0,400.0,500.0,650.0,800.0,1200.0,2000.0,250.0,550.0,250.0,1400.0,200.0,900.0,850.0,1500.0,700.0,400.0,700.0,200.0,1000.0,1600.0,1500.0,2100.0,350.0,450.0,1000.0,300.0,300.0,1200.0,300.0,400.0,550.0,900.0,150.0,700.0,800.0,2000.0,500.0,350.0,300.0,800.0,1400.0,700.0,450.0,500.0,1200.0,700.0,600.0,350.0,500.0,800.0,1200.0,300.0,500.0,450.0,600.0,600.0,600.0,400.0,400.0,350.0,800.0,900.0,200.0,2000.0,1700.0,650.0,450.0,500.0,500.0,200.0,400.0,500.0,700.0,600.0,500.0,1500.0,350.0,300.0,1000.0,500.0,650.0,1400.0,1400.0,700.0,200.0,400.0,700.0,300.0,400.0,450.0,300.0,500.0,750.0,500.0,450.0,750.0,1200.0,200.0,1800.0,800.0,200.0,200.0,400.0,1000.0,700.0,400.0,200.0,1100.0,1500.0,800.0,300.0,650.0,400.0,400.0,300.0,350.0,450.0,600.0,1000.0,600.0,1200.0,400.0,800.0,300.0,1000.0,500.0,1500.0,400.0,700.0,150.0,350.0,1400.0,600.0,400.0,500.0,1900.0,400.0,500.0,1700.0,1400.0,650.0,450.0,500.0,600.0,1600.0,250.0,300.0,800.0,1700.0,500.0,450.0,400.0,150.0,500.0,450.0,700.0,500.0,250.0,1100.0,400.0,150.0,200.0,500.0,500.0,500.0,500.0,850.0,500.0,1600.0,600.0,600.0,200.0,1200.0,800.0,400.0,600.0,800.0,900.0,400.0,1000.0,500.0,550.0,500.0,150.0,500.0,800.0,700.0,300.0,400.0,800.0,400.0,300.0,400.0,300.0,400.0,300.0,200.0,800.0,400.0,400.0,300.0,300.0,400.0,800.0,800.0,500.0,300.0,500.0,750.0,150.0,500.0,450.0,500.0,400.0,300.0,400.0,200.0,1100.0,200.0,200.0,200.0,650.0,300.0,250.0,500.0,600.0,400.0,300.0,500.0,200.0,250.0,300.0,200.0,400.0,450.0,300.0,2000.0,700.0,400.0,800.0,1200.0,700.0,200.0,200.0,2500.0,1600.0,1500.0,1000.0,800.0,1500.0,2000.0,1400.0,1800.0,1200.0,1200.0,1500.0,1500.0,1600.0,1200.0,1300.0,900.0,2100.0,2500.0,1500.0,1400.0,1000.0,1300.0,800.0,1300.0,900.0,1200.0,1700.0,800.0,1500.0,1400.0,1400.0,1100.0,1100.0,1600.0,1000.0,1200.0,600.0,800.0,1000.0,1500.0,1000.0,850.0,1300.0,1200.0,600.0,1200.0,800.0,750.0,1500.0,1000.0,1000.0,1300.0,1500.0,800.0,1200.0,1000.0,600.0,1200.0,800.0,200.0,1000.0,1200.0,750.0,1600.0,1100.0,500.0,1500.0,1200.0,900.0,1000.0,800.0,1500.0,900.0,1200.0,1700.0,650.0,1400.0,700.0,1300.0,1500.0,1100.0,900.0,800.0,800.0,600.0,900.0,1000.0,1100.0,1500.0,1100.0,900.0,1000.0,700.0,700.0,500.0,600.0,1500.0,800.0,700.0,650.0,650.0,500.0,500.0,950.0,1400.0,750.0,800.0,800.0,400.0,1200.0,800.0,450.0,500.0,1200.0,500.0,750.0,1700.0,850.0,800.0,1600.0,500.0,1800.0,1200.0,600.0,800.0,850.0,800.0,350.0,800.0,1500.0,800.0,650.0,850.0,700.0,1000.0,1100.0,650.0,450.0,800.0,250.0,600.0,650.0,650.0,550.0,500.0,1100.0,500.0,650.0,700.0,1200.0,1500.0,700.0,400.0,1100.0,500.0,600.0,700.0,650.0,600.0,600.0,700.0,650.0,600.0,450.0,500.0,1000.0,700.0,550.0,600.0,300.0,500.0,150.0,450.0,350.0,300.0,400.0,600.0,150.0,800.0,200.0,300.0,200.0,600.0,300.0,300.0,400.0,500.0,650.0,800.0,150.0,200.0,350.0,350.0,500.0,200.0,500.0,200.0,600.0,40.0,400.0,500.0,600.0,500.0,400.0,200.0,400.0,350.0,400.0,700.0,400.0,200.0,350.0,250.0,250.0,400.0,600.0,200.0,400.0,200.0,400.0,500.0,500.0,350.0,300.0,300.0,1600.0,600.0,1700.0,1500.0,750.0,600.0,600.0,1800.0,850.0,1700.0,750.0,600.0,1000.0,800.0,500.0,500.0,500.0,700.0,500.0,550.0,600.0,600.0,500.0,1800.0,1300.0,400.0,450.0,700.0,250.0,1100.0,600.0,500.0,500.0,500.0,450.0,300.0,150.0,400.0,350.0,150.0,300.0,250.0,200.0,150.0,450.0,350.0,450.0,300.0,250.0,200.0,450.0,500.0,500.0,150.0,500.0,350.0,450.0,300.0,250.0,350.0,400.0,200.0,400.0,500.0,600.0,1800.0,2800.0,3500.0,3000.0,2100.0,2800.0,4000.0,1000.0,1000.0,1700.0,2200.0,2500.0,3000.0,1000.0,1400.0,1000.0,2500.0,3500.0,2000.0,550.0,600.0,3000.0,2400.0,1500.0,6000.0,3000.0,2800.0,1200.0,1000.0,1500.0,1800.0,3000.0,2000.0,700.0,2000.0,700.0,450.0,400.0,150.0,3000.0,2500.0,3000.0,250.0,3000.0,400.0,550.0,150.0,1200.0,3000.0,400.0,1400.0,2400.0,700.0,1900.0,1000.0,450.0,500.0,500.0,400.0,300.0,700.0,2500.0,800.0,1300.0,1500.0,1400.0,1500.0,2000.0,1500.0,2100.0,1400.0,1300.0,1300.0,1400.0,1000.0,1500.0,1500.0,1400.0,1200.0,1100.0,1000.0,1200.0,1400.0,1300.0,1500.0,1100.0,1500.0,1400.0,750.0,1700.0,1600.0,1800.0,1500.0,1000.0,1200.0,1000.0,1600.0,1700.0,1300.0,1800.0,1000.0,1000.0,1800.0,2400.0,1500.0,2800.0,3000.0,3000.0,3000.0,1200.0,1400.0,2400.0,1400.0,1300.0,1000.0,2000.0,1200.0,1500.0,1500.0,2500.0,1400.0,1300.0,1300.0,1400.0,1100.0,1500.0,1500.0,800.0,1200.0,1100.0,1000.0,1200.0,1300.0,1500.0,1100.0,900.0,1500.0,1400.0,750.0,1700.0,1000.0,1200.0,1000.0,1700.0,1700.0,1300.0,1800.0,1000.0,1000.0,1400.0,1000.0,1800.0,1500.0,1200.0,1800.0,3000.0,1200.0,1400.0,1100.0,1000.0,950.0,1000.0,1500.0,750.0,600.0,550.0,1350.0,1200.0,1600.0,900.0,1600.0,1200.0,1000.0,800.0,1100.0,1000.0,800.0,600.0,800.0,900.0,1000.0,950.0,800.0,800.0,800.0,800.0,500.0,400.0,800.0,800.0,850.0,700.0,800.0,400.0,650.0,700.0,750.0,400.0,300.0,150.0,400.0,650.0,550.0,650.0,400.0,450.0,400.0,600.0,600.0,600.0,1000.0,600.0,600.0,500.0,600.0,600.0,650.0,400.0,550.0,400.0,700.0,500.0,600.0,700.0,600.0,650.0,600.0,400.0,500.0,500.0,700.0,500.0,500.0,250.0,300.0,200.0,300.0,400.0,400.0,450.0,900.0,400.0,450.0,400.0,400.0,150.0,500.0,300.0,500.0,150.0,800.0,600.0,600.0,200.0,500.0,550.0,250.0,300.0,400.0,400.0,200.0,300.0,500.0,200.0,450.0,600.0,800.0,250.0,500.0,400.0,400.0,200.0,400.0,250.0,300.0,700.0,400.0,400.0,200.0,600.0,600.0,800.0,600.0,500.0,300.0,400.0,700.0,150.0,550.0,150.0,300.0,100.0,300.0,800.0,300.0,300.0,350.0,400.0,400.0,500.0,800.0,750.0,600.0,500.0,350.0,400.0,300.0,400.0,700.0,500.0,100.0,200.0,600.0,500.0,450.0,250.0,800.0,300.0,300.0,750.0,650.0,200.0,800.0,1000.0,300.0,250.0,500.0,500.0,300.0,600.0,350.0,650.0,600.0,200.0,650.0,400.0,1200.0,300.0,700.0,200.0,250.0,400.0,400.0,300.0,400.0,1000.0,100.0,600.0,800.0,1000.0,400.0,1200.0,600.0,500.0,800.0,500.0,400.0,200.0,500.0,600.0,900.0,400.0,450.0,650.0,400.0,450.0,800.0,600.0,200.0,400.0,300.0,1600.0,500.0,400.0,650.0,800.0,500.0,600.0,300.0,600.0,500.0,800.0,800.0,250.0,500.0,1500.0,800.0,350.0,300.0,1600.0,400.0,500.0,600.0,250.0,500.0,250.0,300.0,400.0,400.0,200.0,600.0,250.0,200.0,500.0,350.0,800.0,300.0,1200.0,1200.0,450.0,300.0,600.0,800.0,500.0,400.0,400.0,400.0,600.0,1000.0,600.0,700.0,600.0,600.0,400.0,350.0,450.0,200.0,500.0,200.0,1000.0,600.0,500.0,500.0,800.0,900.0,400.0,150.0,400.0,500.0,800.0,800.0,200.0,750.0,500.0,450.0,700.0,230.0,600.0,650.0,1500.0,1500.0,200.0,700.0,800.0,500.0,500.0,200.0,500.0,300.0,250.0,1600.0,200.0,600.0,700.0,300.0,300.0,450.0,200.0,300.0,200.0,900.0,400.0,600.0,450.0,1100.0,500.0,400.0,300.0,1000.0,700.0,300.0,600.0,400.0,150.0,500.0,1200.0,200.0,1200.0,300.0,400.0,200.0,750.0,650.0,300.0,550.0,400.0,800.0,650.0,600.0,700.0,500.0,1200.0,600.0,700.0,800.0,600.0,700.0,300.0,500.0,800.0,150.0,250.0,250.0,100.0,1200.0,200.0,500.0,900.0,350.0,100.0,1200.0,800.0,1500.0,300.0,300.0,500.0,350.0,500.0,250.0,600.0,450.0,400.0,1500.0,500.0,300.0,800.0,1000.0,500.0,750.0,200.0,200.0,800.0,1300.0,700.0,300.0,1500.0,400.0,200.0,600.0,1000.0,400.0,600.0,450.0,450.0,1100.0,300.0,500.0,300.0,700.0,1000.0,400.0,400.0,650.0,800.0,500.0,400.0,400.0,600.0,1300.0,300.0,700.0,600.0,300.0,300.0,400.0,600.0,800.0,650.0,650.0,600.0,1200.0,300.0,200.0,800.0,500.0,500.0,750.0,1000.0,1100.0,400.0,400.0,200.0,800.0,300.0,600.0,650.0,600.0,100.0,400.0,300.0,400.0,800.0,450.0,400.0,900.0,400.0,350.0,400.0,1200.0,1100.0,600.0,800.0,400.0,600.0,750.0,400.0,700.0,250.0,350.0,400.0,400.0,700.0,400.0,500.0,750.0,800.0,400.0,300.0,600.0,950.0,550.0,900.0,400.0,1400.0,500.0,300.0,750.0,700.0,300.0,550.0,450.0,300.0,1000.0,700.0,600.0,900.0,600.0,600.0,500.0,600.0,1000.0,500.0,600.0,300.0,600.0,1500.0,650.0,250.0,1100.0,750.0,400.0,600.0,800.0,500.0,600.0,150.0,700.0,1500.0,300.0,750.0,750.0,600.0,500.0,800.0,500.0,150.0,700.0,1000.0,1200.0,350.0,600.0,150.0,350.0,400.0,800.0,800.0,350.0,300.0,400.0,1000.0,400.0,550.0,600.0,300.0,700.0,900.0,600.0,800.0,850.0,100.0,400.0,700.0,600.0,300.0,550.0,400.0,700.0,1500.0,1400.0,800.0,1350.0,800.0,1200.0,1350.0,550.0,650.0,750.0,800.0,600.0,600.0,400.0,1100.0,1300.0,900.0,250.0,500.0,900.0,700.0,150.0,700.0,1500.0,400.0,300.0,800.0,1300.0,700.0,900.0,1000.0,1000.0,300.0,300.0,1000.0,500.0,600.0,1000.0,800.0,450.0,800.0,400.0,600.0,600.0,650.0,550.0,1200.0,600.0,1200.0,800.0,550.0,700.0,450.0,900.0,500.0,300.0,500.0,500.0,450.0,550.0,550.0,600.0,600.0,450.0,1000.0,600.0,1000.0,1300.0,600.0,200.0,300.0,550.0,900.0,100.0,700.0,200.0,350.0,400.0,600.0,600.0,650.0,1200.0,800.0,650.0,1200.0,800.0,300.0,400.0,200.0,600.0,800.0,800.0,450.0,200.0,650.0,700.0,350.0,250.0,600.0,650.0,200.0,300.0,300.0,150.0,450.0,400.0,600.0,650.0,500.0,900.0,400.0,350.0,500.0,400.0,750.0,400.0,800.0,400.0,800.0,200.0,200.0,200.0,400.0,500.0,800.0,400.0,250.0,400.0,400.0,400.0,200.0,600.0,400.0,350.0,500.0,700.0,400.0,400.0,300.0,400.0,300.0,150.0,300.0,250.0,300.0,200.0,400.0,400.0,400.0,400.0,300.0,700.0,600.0,150.0,600.0,500.0,150.0,500.0,150.0,500.0,600.0,400.0,400.0,230.0,550.0,400.0,100.0,400.0,700.0,500.0,500.0,700.0,200.0,400.0,250.0,600.0,300.0,200.0,200.0,800.0,500.0,400.0,300.0,800.0,1100.0,700.0,1000.0,600.0,1200.0,950.0,800.0,1000.0,1500.0,800.0,650.0,350.0,800.0,800.0,1000.0,1700.0,700.0,1000.0,500.0,1500.0,400.0,750.0,550.0,900.0,600.0,750.0,1200.0,800.0,800.0,800.0,600.0,650.0,1200.0,1200.0,250.0,600.0,850.0,700.0,1000.0,800.0,400.0,1000.0,900.0,600.0,800.0,800.0,500.0,700.0,350.0,900.0,700.0,750.0,400.0,800.0,600.0,450.0,800.0,400.0,550.0,750.0,1350.0,600.0,450.0,750.0,750.0,1000.0,400.0,900.0,500.0,300.0,550.0,550.0,700.0,600.0,500.0,400.0,100.0,1350.0,650.0,400.0,1200.0,650.0,450.0,700.0,300.0,800.0,900.0,850.0,400.0,400.0,200.0,200.0,500.0,1200.0,400.0,150.0,200.0,100.0,400.0,600.0,400.0,200.0,500.0,600.0,400.0,100.0,400.0,500.0,200.0,200.0,400.0,300.0,400.0,200.0,400.0,250.0,300.0,200.0,400.0,150.0,250.0,500.0,350.0,200.0,350.0,650.0,300.0,600.0,400.0,550.0,1500.0,1600.0,1600.0,1200.0,1600.0,1200.0,1500.0,1500.0,1300.0,800.0,600.0,1000.0,800.0,800.0,1200.0,800.0,600.0,1000.0,800.0,800.0,1000.0,800.0,1000.0,800.0,1200.0,1100.0,1500.0,800.0,900.0,600.0,600.0,600.0,1000.0,700.0,700.0,800.0,300.0,1300.0,1300.0,600.0,1000.0,1000.0,800.0,600.0,500.0,500.0,600.0,500.0,300.0,650.0,1100.0,750.0,150.0,400.0,300.0,650.0,650.0,400.0,300.0,650.0,200.0,1000.0,550.0,600.0,250.0,450.0,800.0,900.0,900.0,400.0,400.0,350.0,1000.0,850.0,300.0,100.0,500.0,500.0,700.0,650.0,750.0,400.0,1100.0,400.0,300.0,600.0,300.0,600.0,450.0,450.0,500.0,150.0,150.0,700.0,400.0,1100.0,250.0,200.0,600.0,600.0,700.0,400.0,500.0,400.0,500.0,600.0,600.0,400.0,650.0,600.0,400.0,950.0,400.0,300.0,300.0,400.0,500.0,600.0,600.0,100.0,300.0,300.0,350.0,650.0,300.0,200.0,400.0,500.0,250.0,650.0,600.0,600.0,400.0,600.0,600.0,350.0,300.0,300.0,150.0,200.0,550.0,400.0,450.0,450.0,250.0,300.0,800.0,500.0,600.0,300.0,800.0,400.0,300.0,300.0,300.0,300.0,300.0,150.0,450.0,400.0,400.0,200.0,400.0,650.0,500.0,500.0,400.0,500.0,300.0,700.0,250.0,250.0,500.0,1000.0,1300.0,1200.0,1500.0,1200.0,1350.0,1000.0,1500.0,1500.0,900.0,1600.0,1200.0,1100.0,1200.0,1100.0,1500.0,1000.0,1300.0,1100.0,1100.0,800.0,1100.0,1600.0,1200.0,1000.0,800.0,1000.0,600.0,1000.0,800.0,900.0,1000.0,950.0,900.0,1000.0,1600.0,1000.0,1100.0,600.0,1200.0,1350.0,800.0,600.0,600.0,1000.0,600.0,600.0,700.0,800.0,550.0,650.0,600.0,400.0,600.0,450.0,550.0,700.0,400.0,500.0,500.0,400.0,500.0,600.0,800.0,500.0,850.0,500.0,650.0,500.0,300.0,400.0,750.0,400.0,550.0,650.0,600.0,400.0,400.0,700.0,500.0,250.0,300.0,450.0,600.0,900.0,800.0,400.0,300.0,500.0,400.0,500.0,400.0,200.0,200.0,400.0,600.0,300.0,700.0,400.0,250.0,400.0,600.0,250.0,300.0,400.0,450.0,300.0,250.0,300.0,200.0,400.0,350.0,800.0,250.0,200.0,300.0,150.0,400.0,600.0,350.0,300.0,600.0,300.0,550.0,100.0,750.0,300.0,300.0,500.0,200.0,300.0,700.0,500.0,400.0,400.0,400.0,650.0,800.0,300.0,500.0,400.0,500.0,600.0,750.0,800.0,400.0,250.0,350.0,600.0,500.0,200.0,400.0,200.0,300.0,250.0,600.0,500.0,250.0,1000.0,500.0,700.0,600.0,1200.0,300.0,400.0,400.0,650.0,700.0,400.0,400.0,200.0,400.0,600.0,400.0,400.0,100.0,750.0,400.0,250.0,1200.0,1000.0,900.0,400.0,600.0,800.0,900.0,400.0,400.0,450.0,400.0,700.0,300.0,650.0,350.0,300.0,400.0,300.0,800.0,600.0,300.0,500.0,300.0,300.0,500.0,700.0,400.0,500.0,1600.0,600.0,500.0,600.0,200.0,250.0,1500.0,500.0,300.0,600.0,400.0,400.0,350.0,500.0,1200.0,650.0,600.0,500.0,400.0,500.0,600.0,350.0,1200.0,200.0,200.0,500.0,450.0,600.0,400.0,800.0,400.0,600.0,750.0,1000.0,800.0,450.0,500.0,400.0,450.0,250.0,250.0,700.0,750.0,230.0,500.0,100.0,250.0,500.0,750.0,300.0,250.0,300.0,600.0,300.0,400.0,600.0,400.0,1100.0,700.0,1200.0,1200.0,750.0,400.0,500.0,1000.0,800.0,600.0,200.0,800.0,200.0,600.0,700.0,800.0,100.0,150.0,500.0,450.0,300.0,600.0,400.0,1000.0,200.0,350.0,600.0,700.0,500.0,400.0,250.0,400.0,800.0,500.0,250.0,1500.0,400.0,500.0,300.0,700.0,500.0,1300.0,300.0,300.0,300.0,300.0,450.0,650.0,800.0,400.0,800.0,500.0,600.0,1200.0,300.0,650.0,400.0,400.0,800.0,700.0,1100.0,400.0,400.0,650.0,900.0,1200.0,650.0,300.0,650.0,800.0,350.0,300.0,400.0,1300.0,400.0,1200.0,700.0,350.0,650.0,800.0,1100.0,550.0,400.0,500.0,750.0,400.0,900.0,300.0,700.0,450.0,650.0,500.0,300.0,1200.0,400.0,400.0,300.0,1000.0,200.0,200.0,400.0,500.0,200.0,800.0,750.0,500.0,900.0,300.0,700.0,700.0,500.0,600.0,350.0,150.0,800.0,750.0,1000.0,500.0,600.0,800.0,600.0,600.0,800.0,700.0,250.0,700.0,400.0,800.0,350.0,600.0,1700.0,300.0,400.0,600.0,400.0,700.0,500.0,200.0,700.0,600.0,600.0,1000.0,450.0,650.0,600.0,600.0,550.0,900.0,300.0,300.0,500.0,400.0,1200.0,450.0,650.0,800.0,800.0,400.0,600.0,1100.0,750.0,500.0,800.0,500.0,600.0,150.0,700.0,100.0,500.0,900.0,1000.0,800.0,400.0,1000.0,1700.0,1000.0,800.0,550.0,500.0,600.0,1200.0,600.0,600.0,450.0,350.0,800.0,550.0,500.0,650.0,800.0,450.0,1350.0,1000.0,600.0,550.0,500.0,600.0,1000.0,300.0,550.0,600.0,450.0,650.0,500.0,600.0,1350.0,300.0,500.0,200.0,800.0,500.0,400.0,200.0,500.0,450.0,400.0,550.0,300.0,750.0,900.0,250.0,400.0,500.0,500.0,900.0,700.0,600.0,500.0,300.0,400.0,600.0,500.0,400.0,500.0,400.0,550.0,200.0,200.0,200.0,250.0,600.0,500.0,500.0,400.0,600.0,250.0,800.0,400.0,100.0,500.0,300.0,400.0,200.0,400.0,400.0,400.0,800.0,400.0,500.0,400.0,600.0,300.0,400.0,700.0,150.0,300.0,500.0,400.0,300.0,250.0,200.0,400.0,400.0,300.0,230.0,300.0,1200.0,1500.0,1200.0,1600.0,1200.0,1600.0,1000.0,1500.0,1300.0,1200.0,1200.0,800.0,1300.0,800.0,1000.0,800.0,1500.0,800.0,600.0,750.0,1200.0,700.0,800.0,1100.0,900.0,800.0,550.0,1300.0,1100.0,600.0,1000.0,800.0,1200.0,1300.0,1100.0,600.0,1000.0,600.0,750.0,1000.0,1000.0,800.0,500.0,600.0,750.0,700.0,700.0,600.0,300.0,400.0,700.0,700.0,500.0,350.0,500.0,950.0,400.0,450.0,300.0,800.0,650.0,450.0,400.0,650.0,900.0,550.0,600.0,850.0,600.0,500.0,400.0,400.0,1000.0,400.0,600.0,1100.0,650.0,1000.0,500.0,450.0,950.0,600.0,650.0,500.0,700.0,550.0,750.0,450.0,400.0,750.0,750.0,500.0,800.0,650.0,800.0,600.0,700.0,750.0,300.0,500.0,500.0,300.0,300.0,400.0,700.0,300.0,400.0,300.0,400.0,100.0,450.0,500.0,500.0,400.0,400.0,500.0,200.0,500.0,450.0,100.0,250.0,400.0,250.0,200.0,400.0,600.0,300.0,300.0,200.0,600.0,350.0,200.0,150.0,300.0,800.0,300.0,200.0,400.0,300.0,900.0,1200.0,1500.0,1200.0,1000.0,800.0,1000.0,1000.0,550.0,800.0,1000.0,800.0,800.0,500.0,600.0,400.0,500.0,500.0,600.0,500.0,450.0,1000.0,600.0,650.0,600.0,800.0,800.0,750.0,250.0,400.0,400.0,250.0,350.0,600.0,400.0,600.0,600.0,1100.0,400.0,300.0,300.0,250.0,1600.0,450.0,1100.0,800.0,1000.0,1100.0,1000.0,800.0,800.0,500.0,800.0,650.0,1000.0,1700.0,250.0,1200.0,550.0,800.0,850.0,600.0,600.0,350.0,500.0,500.0,600.0,900.0,400.0,500.0,500.0,650.0,600.0,700.0,550.0,400.0,1350.0,1200.0,500.0,300.0,250.0,750.0,300.0,400.0,750.0,1000.0,200.0,100.0,300.0,400.0,700.0,500.0,200.0,300.0,400.0,150.0,500.0,450.0,700.0,300.0,300.0,500.0,600.0,200.0,400.0,500.0,500.0,500.0,400.0,400.0,800.0,300.0,350.0,300.0,200.0,500.0,400.0,550.0,550.0,650.0,600.0,400.0,500.0,400.0,350.0,250.0,450.0,550.0,250.0,300.0,300.0,300.0,1350.0,900.0,400.0,400.0,400.0,300.0,700.0,650.0,250.0,1000.0,1300.0,1500.0,1200.0,1600.0,1200.0,1500.0,1200.0,1200.0,1300.0,1100.0,1100.0,1000.0,1100.0,900.0,1200.0,1100.0,1350.0,1400.0,1400.0,1600.0,800.0,600.0,750.0,1500.0,800.0,1000.0,1400.0,750.0,800.0,900.0,1200.0,700.0,700.0,500.0,700.0,600.0,700.0,900.0,700.0,500.0,650.0,650.0,350.0,600.0,700.0,800.0,1000.0,800.0,650.0,500.0,500.0,500.0,550.0,500.0,400.0,450.0,350.0,300.0,400.0,800.0,400.0,800.0,600.0,400.0,300.0,350.0,450.0,600.0,200.0,300.0,300.0,400.0,600.0,600.0,650.0,100.0,400.0,450.0,600.0,300.0,500.0,400.0,500.0,750.0,650.0,400.0,400.0,450.0,400.0,300.0,600.0,500.0,600.0,550.0,400.0,500.0,700.0,1500.0,600.0,550.0,300.0,500.0,500.0,450.0,700.0,500.0,700.0,600.0,600.0,500.0,400.0,150.0,600.0,400.0,500.0,400.0,400.0,800.0,1300.0,750.0,400.0,250.0,900.0,1400.0,500.0,450.0,500.0,400.0,450.0,300.0,800.0,500.0,500.0,650.0,400.0,450.0,500.0,1200.0,600.0,650.0,500.0,200.0,350.0,1200.0,400.0,500.0,350.0,800.0,300.0,400.0,400.0,700.0,500.0,600.0,1050.0,500.0,750.0,600.0,800.0,750.0,500.0,600.0,1400.0,200.0,800.0,400.0,400.0,900.0,300.0,700.0,1500.0,300.0,700.0,550.0,300.0,500.0,650.0,800.0,300.0,750.0,500.0,500.0,350.0,400.0,1000.0,400.0,600.0,600.0,400.0,600.0,750.0,1400.0,250.0,250.0,800.0,150.0,800.0,250.0,1100.0,200.0,550.0,500.0,600.0,900.0,450.0,400.0,700.0,500.0,750.0,600.0,750.0,700.0,150.0,700.0,750.0,500.0,300.0,550.0,500.0,300.0,1400.0,800.0,800.0,650.0,750.0,1200.0,600.0,1800.0,700.0,500.0,400.0,600.0,400.0,900.0,400.0,700.0,1100.0,550.0,650.0,1000.0,1500.0,500.0,1000.0,600.0,1000.0,700.0,400.0,600.0,350.0,500.0,700.0,1000.0,500.0,600.0,500.0,800.0,1400.0,700.0,800.0,500.0,1300.0,650.0,600.0,400.0,1500.0,450.0,400.0,650.0,1000.0,550.0,800.0,500.0,700.0,600.0,800.0,1000.0,600.0,300.0,600.0,800.0,450.0,600.0,450.0,300.0,1200.0,500.0,250.0,300.0,650.0,600.0,700.0,350.0,500.0,250.0,300.0,300.0,400.0,300.0,1200.0,250.0,700.0,250.0,400.0,700.0,400.0,300.0,200.0,400.0,500.0,500.0,600.0,700.0,500.0,300.0,300.0,600.0,650.0,1000.0,400.0,400.0,800.0,350.0,400.0,300.0,150.0,500.0,650.0,450.0,150.0,1400.0,1800.0,1200.0,1400.0,1400.0,1400.0,1600.0,900.0,1100.0,800.0,800.0,600.0,800.0,1200.0,800.0,750.0,1000.0,700.0,800.0,1400.0,1300.0,1500.0,700.0,600.0,750.0,750.0,1500.0,1300.0,650.0,1400.0,800.0,1200.0,600.0,600.0,800.0,1100.0,700.0,500.0,700.0,1200.0,900.0,1000.0,1300.0,700.0,600.0,700.0,500.0,600.0,1000.0,400.0,600.0,400.0,800.0,600.0,900.0,600.0,700.0,800.0,400.0,500.0,750.0,650.0,500.0,650.0,500.0,750.0,800.0,700.0,600.0,600.0,1000.0,350.0,500.0,750.0,700.0,250.0,500.0,500.0,350.0,400.0,400.0,250.0,300.0,500.0,300.0,600.0,450.0,300.0,200.0,500.0,650.0,350.0,200.0,150.0,200.0,400.0,600.0,800.0,600.0,1500.0,450.0,800.0,1200.0,1500.0,600.0,600.0,1400.0,800.0,700.0,300.0,450.0,650.0,550.0,400.0,650.0,800.0,1400.0,700.0,750.0,700.0,650.0,750.0,600.0,1000.0,800.0,600.0,700.0,700.0,500.0,700.0,550.0,450.0,300.0,400.0,400.0,600.0,250.0,300.0,600.0,450.0,500.0,350.0,300.0,450.0,500.0,550.0,400.0,300.0,250.0,300.0,550.0,400.0,300.0,500.0,450.0,350.0,750.0,450.0,650.0,1100.0,700.0,1000.0,600.0,500.0,500.0,300.0,300.0,600.0,1050.0,200.0,250.0,600.0,500.0,600.0,600.0,500.0,200.0,600.0,400.0,400.0,1200.0,500.0,400.0,250.0,600.0,550.0,500.0,500.0,300.0,300.0,400.0,400.0,400.0,1400.0,1800.0,1400.0,1200.0,1300.0,1500.0,1200.0,1200.0,1300.0,1500.0,500.0,1100.0,1200.0,800.0,600.0,800.0,1000.0,800.0,900.0,1200.0,700.0,700.0,500.0,700.0,700.0,500.0,600.0,700.0,500.0,900.0,700.0,500.0,650.0,450.0,550.0,350.0,650.0,700.0,500.0,400.0,450.0,350.0,350.0,600.0,500.0,400.0,300.0,750.0,300.0,250.0,400.0,600.0,300.0,800.0,800.0,450.0,300.0,400.0,400.0,500.0,650.0,500.0,400.0,600.0,300.0,400.0,450.0,300.0,750.0,100.0,600.0,200.0,600.0,300.0,400.0,400.0,450.0,400.0,400.0,400.0,500.0,750.0,650.0,750.0,500.0,400.0,700.0,300.0,1500.0,1400.0,500.0,400.0,150.0,350.0,700.0,700.0,500.0,450.0,400.0,700.0,500.0,600.0,200.0,400.0,600.0,800.0,450.0,500.0,500.0,400.0,600.0,300.0,600.0,500.0,600.0,1300.0,300.0,800.0,150.0,650.0,400.0,250.0,650.0,750.0,500.0,600.0,1200.0,650.0,500.0,550.0,300.0,450.0,600.0,400.0,1400.0,350.0,600.0,700.0,400.0,1400.0,700.0,700.0,500.0,450.0,1000.0,500.0,400.0,550.0,500.0,200.0,600.0,800.0,750.0,400.0,450.0,400.0,650.0,1000.0,800.0,700.0,500.0,500.0,300.0,600.0,500.0,300.0,400.0,1300.0,300.0,600.0,700.0,450.0,200.0,750.0,650.0,500.0,1500.0,500.0,350.0,450.0,500.0,750.0,800.0,600.0,300.0,400.0,400.0,900.0,900.0,450.0,600.0,1000.0,150.0,1000.0,550.0,600.0,750.0,500.0,350.0,600.0,500.0,550.0,800.0,600.0,300.0,400.0,800.0,600.0,250.0,400.0,600.0,700.0,350.0,800.0,600.0,450.0,500.0,500.0,250.0,600.0,300.0,1100.0,500.0,500.0,700.0,550.0,250.0,400.0,700.0,800.0,500.0,600.0,600.0,500.0,400.0,900.0,500.0,800.0,1050.0,650.0,700.0,400.0,750.0,1500.0,400.0,1000.0,400.0,400.0,600.0,800.0,700.0,700.0,800.0,450.0,1200.0,1100.0,800.0,300.0,500.0,800.0,1400.0,850.0,800.0,300.0,1400.0,500.0,500.0,400.0,550.0,1000.0,200.0,1200.0,300.0,600.0,200.0,1800.0,800.0,900.0,1200.0,750.0,500.0,600.0,500.0,200.0,500.0,700.0,400.0,100.0,350.0,300.0,650.0,700.0,300.0,600.0,400.0,650.0,1000.0,300.0,250.0,700.0,1200.0,800.0,400.0,350.0,400.0,150.0,400.0,700.0,400.0,400.0,300.0,200.0,400.0,500.0,500.0,600.0,700.0,400.0,450.0,300.0,500.0,300.0,300.0,300.0,150.0,600.0,650.0,1000.0,650.0,500.0,100.0,500.0,600.0,800.0,600.0,1500.0,450.0,800.0,1200.0,600.0,800.0,1400.0,300.0,450.0,650.0,550.0,400.0,800.0,550.0,1400.0,700.0,750.0,700.0,750.0,800.0,600.0,700.0,700.0,500.0,700.0,600.0,550.0,450.0,300.0,250.0,400.0,400.0,600.0,250.0,300.0,450.0,600.0,500.0,350.0,450.0,500.0,600.0,400.0,300.0,300.0,550.0,400.0,300.0,500.0,450.0,1400.0,1400.0,1800.0,2000.0,1600.0,900.0,1100.0,800.0,800.0,800.0,1200.0,800.0,1200.0,350.0,800.0,750.0,1000.0,700.0,400.0,800.0,1400.0,1400.0,750.0,1500.0,1300.0,700.0,600.0,450.0,750.0,750.0,1500.0,1500.0,600.0,1300.0,200.0,650.0,700.0,1400.0,800.0,1100.0,1200.0,700.0,1000.0,600.0,600.0,800.0,800.0,1100.0,650.0,700.0,500.0,600.0,700.0,1200.0,500.0,900.0,650.0,500.0,1000.0,1300.0,600.0,600.0,600.0,500.0,600.0,1000.0,600.0,400.0,600.0,800.0,500.0,600.0,900.0,600.0,700.0,1050.0,800.0,1300.0,400.0,500.0,600.0,600.0,600.0,750.0,500.0,600.0,650.0,1200.0,500.0,400.0,500.0,450.0,650.0,500.0,750.0,800.0,600.0,700.0,500.0,550.0,600.0,1000.0,350.0,500.0,750.0,700.0,250.0,500.0,300.0,500.0,400.0,200.0,250.0,400.0,250.0,200.0,300.0,500.0,450.0,300.0,300.0,500.0,200.0,600.0,300.0,400.0,450.0,300.0,200.0,400.0,250.0,500.0,650.0,500.0,500.0,400.0,300.0,200.0,300.0,400.0,150.0,400.0,400.0,500.0,300.0,700.0,400.0,1400.0,1800.0,2000.0,500.0,1200.0,1500.0,1300.0,1500.0,1100.0,1200.0,1200.0,1300.0,1200.0,1300.0,1500.0,1400.0,600.0,1000.0,1700.0,1500.0,2000.0,1200.0,1000.0,1500.0,1600.0,1500.0,1300.0,1500.0,1500.0,2000.0,1500.0,750.0,900.0,1100.0,1100.0,600.0,1000.0,1400.0,700.0,800.0,2000.0,1000.0,900.0,1000.0,3000.0,1000.0,1200.0,1500.0,800.0,400.0,600.0,800.0,1100.0,1000.0,800.0,600.0,600.0,800.0,600.0,850.0,700.0,700.0,700.0,650.0,650.0,500.0,300.0,450.0,900.0,800.0,1300.0,500.0,400.0,600.0,600.0,600.0,900.0,500.0,1000.0,600.0,900.0,800.0,800.0,900.0,1000.0,800.0,700.0,550.0,700.0,600.0,800.0,700.0,800.0,300.0,700.0,900.0,600.0,1200.0,600.0,650.0,800.0,200.0,1200.0,900.0,650.0,700.0,600.0,700.0,450.0,350.0,500.0,400.0,800.0,600.0,600.0,600.0,600.0,600.0,800.0,500.0,450.0,600.0,250.0,700.0,600.0,1600.0,750.0,900.0,700.0,800.0,450.0,600.0,600.0,500.0,500.0,300.0,250.0,800.0,450.0,400.0,900.0,500.0,800.0,100.0,600.0,800.0,200.0,400.0,450.0,500.0,300.0,250.0,400.0,500.0,500.0,200.0,600.0,200.0,650.0,600.0,400.0,250.0,150.0,600.0,300.0,400.0,400.0,300.0,400.0,250.0,250.0,300.0,550.0,400.0,300.0,600.0,400.0,750.0,250.0,450.0,600.0,400.0,500.0,600.0,400.0,700.0,400.0,150.0,750.0,300.0,250.0,400.0,350.0,300.0,400.0,400.0,650.0,300.0,800.0,600.0,200.0,550.0,500.0,500.0,400.0,300.0,450.0,650.0,300.0,400.0,150.0,800.0,500.0,500.0,150.0,200.0,750.0,250.0,350.0,500.0,350.0,600.0,500.0,600.0,200.0,650.0,300.0,300.0,300.0,500.0,800.0,500.0,300.0,100.0,750.0,600.0,500.0,300.0,300.0,300.0,500.0,600.0,800.0,400.0,400.0,250.0,200.0,300.0,300.0,700.0,700.0,1000.0,400.0,400.0,500.0,450.0,300.0,400.0,700.0,400.0,450.0,550.0,400.0,600.0,600.0,600.0,400.0,400.0,300.0,600.0,450.0,300.0,450.0,300.0,400.0,650.0,400.0,300.0,1000.0,450.0,600.0,200.0,700.0,300.0,600.0,800.0,600.0,400.0,800.0,400.0,1200.0,700.0,800.0,500.0,200.0,500.0,500.0,1200.0,750.0,400.0,350.0,300.0,550.0,750.0,300.0,800.0,250.0,1500.0,500.0,400.0,350.0,250.0,400.0,400.0,600.0,200.0,600.0,800.0,1000.0,600.0,650.0,600.0,1000.0,250.0,750.0,400.0,400.0,600.0,150.0,800.0,350.0,600.0,600.0,500.0,600.0,800.0,300.0,450.0,500.0,450.0,600.0,400.0,400.0,450.0,1000.0,600.0,900.0,1200.0,300.0,800.0,750.0,400.0,550.0,550.0,200.0,300.0,600.0,600.0,750.0,500.0,500.0,600.0,400.0,400.0,350.0,500.0,600.0,450.0,400.0,400.0,250.0,800.0,300.0,1300.0,150.0,500.0,600.0,900.0,500.0,200.0,500.0,1500.0,300.0,500.0,200.0,500.0,500.0,230.0,400.0,500.0,300.0,250.0,1500.0,300.0,750.0,300.0,200.0,700.0,900.0,400.0,1600.0,300.0,900.0,500.0,200.0,500.0,500.0,600.0,1200.0,300.0,600.0,400.0,500.0,700.0,150.0,300.0,1000.0,700.0,200.0,700.0,180.0,450.0,400.0,40.0,200.0,200.0,600.0,700.0,600.0,650.0,650.0,700.0,1000.0,300.0,600.0,200.0,550.0,1800.0,250.0,800.0,950.0,850.0,750.0,250.0,900.0,650.0,1000.0,1500.0,1500.0,300.0,500.0,600.0,300.0,250.0,1000.0,1400.0,400.0,1200.0,800.0,600.0,1200.0,700.0,1400.0,300.0,1000.0,500.0,700.0,250.0,750.0,800.0,350.0,800.0,400.0,500.0,200.0,300.0,400.0,300.0,650.0,1500.0,350.0,700.0,1300.0,1500.0,500.0,700.0,500.0,500.0,800.0,650.0,300.0,600.0,1000.0,500.0,300.0,350.0,850.0,300.0,1300.0,500.0,700.0,600.0,600.0,1100.0,450.0,600.0,600.0,600.0,600.0,700.0,600.0,250.0,700.0,800.0,600.0,400.0,400.0,700.0,450.0,1200.0,500.0,150.0,1000.0,900.0,600.0,800.0,500.0,800.0,700.0,350.0,1000.0,1400.0,400.0,700.0,800.0,400.0,1100.0,350.0,250.0,400.0,400.0,900.0,650.0,250.0,400.0,400.0,200.0,500.0,700.0,600.0,500.0,1000.0,200.0,1500.0,900.0,1200.0,450.0,450.0,600.0,400.0,450.0,400.0,300.0,750.0,400.0,600.0,250.0,600.0,1200.0,800.0,600.0,400.0,500.0,500.0,400.0,600.0,750.0,500.0,600.0,400.0,1200.0,400.0,400.0,700.0,300.0,600.0,1000.0,550.0,800.0,400.0,350.0,350.0,1500.0,600.0,1000.0,400.0,400.0,400.0,450.0,800.0,800.0,500.0,1200.0,650.0,500.0,750.0,900.0,300.0,600.0,600.0,1000.0,900.0,300.0,700.0,1000.0,800.0,300.0,900.0,250.0,600.0,250.0,1000.0,600.0,600.0,550.0,900.0,600.0,1500.0,300.0,800.0,350.0,250.0,650.0,500.0,800.0,1400.0,450.0,700.0,750.0,600.0,700.0,400.0,400.0,400.0,800.0,450.0,1300.0,400.0,800.0,350.0,700.0,1300.0,700.0,550.0,500.0,500.0,500.0,1100.0,300.0,500.0,800.0,600.0,900.0,2500.0,500.0,400.0,1700.0,350.0,700.0,150.0,300.0,600.0,400.0,900.0,400.0,400.0,500.0,600.0,450.0,350.0,800.0,650.0,1100.0,150.0,500.0,300.0,500.0,450.0,600.0,800.0,400.0,600.0,600.0,500.0,400.0,300.0,700.0,600.0,800.0,300.0,1100.0,200.0,1300.0,500.0,1000.0,1200.0,1000.0,800.0,600.0,650.0,1000.0,1600.0,2000.0,1400.0,900.0,600.0,400.0,800.0,1300.0,600.0,200.0,1400.0,400.0,500.0,350.0,800.0,900.0,700.0,400.0,650.0,150.0,650.0,1200.0,300.0,200.0,350.0,200.0,200.0,400.0,500.0,250.0,200.0,150.0,500.0,250.0,350.0,150.0,1000.0,1100.0,200.0,400.0,500.0,600.0,550.0,500.0,300.0,200.0,400.0,650.0,300.0,800.0,350.0,500.0,250.0,900.0,200.0,350.0,800.0,900.0,400.0,500.0,550.0,1500.0,700.0,450.0,450.0,2000.0,350.0,1300.0,600.0,500.0,600.0,600.0,400.0,500.0,800.0,1100.0,550.0,1100.0,400.0,400.0,400.0,450.0,650.0,500.0,300.0,400.0,500.0,650.0,200.0,400.0,900.0,400.0,400.0,250.0,400.0,1200.0,500.0,350.0,200.0,250.0,500.0,700.0,200.0,400.0,500.0,300.0,700.0,800.0,150.0,350.0,200.0,200.0,400.0,500.0,200.0,400.0,250.0,400.0,500.0,600.0,450.0,500.0,150.0,200.0,350.0,250.0,500.0,200.0,300.0,400.0,300.0,400.0,500.0,800.0,200.0,400.0,400.0,200.0,350.0,500.0,150.0,350.0,1000.0,1200.0,2100.0,600.0,1800.0,600.0,1400.0,1200.0,800.0,1200.0,1400.0,1300.0,1300.0,600.0,1000.0,800.0,850.0,650.0,1500.0,750.0,800.0,800.0,700.0,1700.0,750.0,1000.0,700.0,750.0,700.0,1500.0,800.0,1200.0,600.0,650.0,1500.0,650.0,500.0,450.0,1300.0,1000.0,250.0,250.0,800.0,450.0,600.0,450.0,400.0,500.0,400.0,400.0,400.0,600.0,600.0,400.0,1400.0,900.0,2000.0,1500.0,2000.0,1000.0,1100.0,1500.0,1200.0,1300.0,1400.0,900.0,1300.0,1600.0,1600.0,700.0,750.0,800.0,1000.0,1000.0,1500.0,1600.0,1500.0,1500.0,1200.0,1800.0,600.0,1300.0,600.0,1500.0,1400.0,1300.0,1500.0,1000.0,600.0,1500.0,1200.0,800.0,500.0,1000.0,1000.0,1400.0,400.0,600.0,1400.0,1200.0,1400.0,600.0,2500.0,650.0,2000.0,1100.0,1500.0,600.0,900.0,750.0,1200.0,1000.0,500.0,1000.0,1000.0,900.0,600.0,1200.0,1500.0,800.0,600.0,1200.0,800.0,800.0,800.0,900.0,1000.0,1000.0,750.0,700.0,550.0,1100.0,550.0,900.0,1100.0,700.0,500.0,1100.0,650.0,650.0,600.0,600.0,1200.0,600.0,800.0,1000.0,500.0,700.0,650.0,750.0,1200.0,800.0,800.0,850.0,800.0,1400.0,1000.0,700.0,700.0,900.0,600.0,650.0,600.0,750.0,1200.0,800.0,600.0,900.0,650.0,1500.0,800.0,1000.0,750.0,1000.0,800.0,500.0,500.0,800.0,200.0,1100.0,1000.0,750.0,1200.0,650.0,700.0,600.0,1400.0,1400.0,700.0,1300.0,750.0,500.0,800.0,700.0,650.0,700.0,1200.0,600.0,750.0,650.0,1700.0,2000.0,700.0,600.0,450.0,150.0,250.0,1000.0,700.0,350.0,800.0,500.0,900.0,250.0,800.0,550.0,600.0,600.0,500.0,800.0,1000.0,500.0,1300.0,250.0,600.0,1000.0,600.0,600.0,750.0,600.0,600.0,500.0,600.0,500.0,400.0,800.0,600.0,1000.0,250.0,500.0,500.0,800.0,700.0,450.0,800.0,700.0,650.0,600.0,400.0,1500.0,600.0,500.0,800.0,500.0,350.0,500.0,900.0,700.0,700.0,500.0,750.0,1200.0,600.0,600.0,400.0,600.0,400.0,500.0,400.0,200.0,350.0,350.0,550.0,300.0,450.0,250.0,400.0,300.0,400.0,200.0,200.0,450.0,250.0,500.0,600.0,500.0,200.0,400.0,600.0,500.0,450.0,300.0,250.0,300.0,250.0,200.0,900.0,250.0,300.0,400.0,600.0,500.0,500.0,400.0,300.0,500.0,400.0,300.0,200.0,500.0,200.0,400.0,300.0,200.0,500.0,350.0,400.0,300.0,300.0,200.0,200.0,600.0,600.0,500.0,600.0,500.0,300.0,200.0,250.0,400.0,300.0,400.0,300.0,600.0,400.0,350.0,300.0,300.0,500.0,550.0,200.0,150.0,450.0,300.0,300.0,400.0,450.0,550.0,300.0,200.0,400.0,350.0,300.0,250.0,400.0,250.0,200.0,800.0,100.0,1200.0,850.0,800.0,1200.0,1600.0,3000.0,1000.0,750.0,1200.0,1200.0,900.0,1700.0,1250.0,700.0,800.0,800.0,800.0,600.0,1500.0,800.0,550.0,650.0,300.0,700.0,1800.0,600.0,900.0,2000.0,800.0,800.0,800.0,800.0,450.0,1300.0,700.0,150.0,400.0,700.0,600.0,1000.0,200.0,900.0,3000.0,600.0,550.0,650.0,1000.0,450.0,400.0,350.0,300.0,600.0,150.0,1200.0,550.0,350.0,800.0,500.0,400.0,400.0,400.0,900.0,800.0,200.0,500.0,600.0,500.0,600.0,600.0,300.0,1800.0,1000.0,500.0,600.0,350.0,600.0,350.0,500.0,300.0,400.0,300.0,1000.0,1100.0,300.0,600.0,500.0,250.0,300.0,400.0,650.0,350.0,300.0,500.0,250.0,400.0,400.0,600.0,300.0,700.0,1400.0,1200.0,1200.0,1800.0,1200.0,1400.0,1300.0,1500.0,1200.0,1500.0,1300.0,2000.0,1500.0,2000.0,1000.0,1100.0,1600.0,2100.0,1600.0,1000.0,1000.0,1500.0,1800.0,1400.0,1000.0,1200.0,1000.0,1200.0,1400.0,2000.0,1200.0,1200.0,1000.0,1400.0,1000.0,1500.0,1000.0,1400.0,1400.0,1300.0,1200.0,1700.0,1300.0,1500.0,1200.0,1200.0,850.0,1600.0,1200.0,1700.0,1400.0,1200.0,1300.0,2000.0,1500.0,1300.0,1500.0,750.0,1100.0,1400.0,700.0,1000.0,1000.0,600.0,1600.0,1500.0,1500.0,1500.0,2000.0,1500.0,1000.0,900.0,1100.0,600.0,1700.0,1500.0,1000.0,800.0,2000.0,1000.0,900.0,1300.0,800.0,900.0,800.0,1300.0,600.0,600.0,900.0,500.0,900.0,800.0,800.0,900.0,800.0,600.0,800.0,300.0,1200.0,650.0,1200.0,450.0,800.0,600.0,300.0,600.0,800.0,650.0,700.0,600.0,600.0,800.0,500.0,400.0,600.0,1000.0,600.0,600.0,1000.0,850.0,1000.0,700.0,500.0,450.0,800.0,800.0,250.0,300.0,200.0,450.0,400.0,900.0,500.0,250.0,400.0,800.0,400.0,600.0,400.0,500.0,600.0,300.0,600.0,400.0,650.0,500.0,250.0,450.0,300.0,250.0,200.0,450.0,400.0,500.0,300.0,300.0,650.0,150.0,400.0,400.0,200.0,250.0,150.0,250.0,250.0,550.0,400.0,600.0,400.0,400.0,300.0,600.0,400.0,750.0,600.0,300.0,300.0,350.0,400.0,900.0,600.0,700.0,600.0,400.0,400.0,600.0,650.0,250.0,400.0,250.0,150.0,800.0,650.0,300.0,500.0,300.0,400.0,500.0,800.0,300.0,500.0,750.0,300.0,500.0,800.0,600.0,500.0,600.0,400.0,350.0,400.0,650.0,300.0,550.0,500.0,450.0,300.0,600.0,150.0,750.0,300.0,500.0,500.0,650.0,400.0,750.0,200.0,600.0,200.0,600.0,500.0,400.0,200.0,450.0,250.0,400.0,700.0,400.0,600.0,800.0,250.0,400.0,450.0,400.0,800.0,300.0,700.0,100.0,600.0,650.0,600.0,600.0,400.0,600.0,400.0,450.0,400.0,550.0,700.0,500.0,400.0,300.0,400.0,800.0,200.0,600.0,300.0,500.0,500.0,600.0,1500.0,300.0,550.0,350.0,800.0,600.0,200.0,600.0,600.0,500.0,600.0,1000.0,600.0,300.0,300.0,200.0,800.0,400.0,1000.0,450.0,300.0,800.0,400.0,650.0,400.0,300.0,750.0,300.0,600.0,400.0,300.0,300.0,1200.0,250.0,500.0,300.0,400.0,250.0,400.0,800.0,450.0,800.0,600.0,500.0,600.0,300.0,300.0,250.0,450.0,350.0,500.0,1200.0,1300.0,800.0,600.0,500.0,1000.0,400.0,750.0,300.0,450.0,550.0,900.0,200.0,500.0,1500.0,400.0,600.0,400.0,600.0,400.0,300.0,450.0,1200.0,500.0,700.0,200.0,700.0,200.0,1000.0,1000.0,300.0,600.0,400.0,600.0,600.0,500.0,300.0,600.0,700.0,500.0,1000.0,500.0,600.0,350.0,500.0,650.0,700.0,350.0,400.0,400.0,800.0,400.0,600.0,800.0,700.0,800.0,600.0,800.0,1300.0,700.0,500.0,250.0,1000.0,1000.0,500.0,300.0,500.0,400.0,300.0,200.0,750.0,700.0,750.0,600.0,300.0,400.0,900.0,1400.0,500.0,600.0,200.0,1000.0,500.0,1300.0,600.0,450.0,300.0,40.0,900.0,300.0,500.0,650.0,1200.0,150.0,250.0,1000.0,450.0,900.0,1000.0,500.0,600.0,1000.0,650.0,800.0,600.0,600.0,500.0,300.0,400.0,700.0,450.0,450.0,800.0,700.0,400.0,500.0,500.0,700.0,300.0,200.0,1000.0,200.0,200.0,300.0,400.0,700.0,1000.0,500.0,600.0,1000.0,600.0,900.0,500.0,500.0,350.0,230.0,1500.0,500.0,1200.0,1200.0,1100.0,650.0,900.0,900.0,250.0,700.0,650.0,2500.0,300.0,1500.0,200.0,1000.0,500.0,1000.0,450.0,500.0,500.0,400.0,1300.0,400.0,750.0,800.0,300.0,500.0,1000.0,700.0,800.0,300.0,400.0,1100.0,300.0,300.0,700.0,900.0,550.0,600.0,500.0,400.0,400.0,800.0,150.0,300.0,350.0,700.0,650.0,700.0,1600.0,600.0,1500.0,400.0,1500.0,750.0,250.0,400.0,650.0,150.0,750.0,750.0,200.0,250.0,750.0,250.0,1400.0,900.0,1200.0,200.0,300.0,600.0,800.0,700.0,600.0,450.0,400.0,900.0,600.0,300.0,1500.0,500.0,750.0,1000.0,1200.0,600.0,400.0,1000.0,1000.0,400.0,350.0,350.0,900.0,650.0,1500.0,600.0,400.0,900.0,1500.0,600.0,1200.0,400.0,1100.0,300.0,1500.0,400.0,800.0,1000.0,250.0,600.0,250.0,700.0,450.0,700.0,500.0,150.0,500.0,700.0,400.0,500.0,650.0,600.0,800.0,1300.0,300.0,300.0,700.0,900.0,1100.0,250.0,200.0,750.0,750.0,500.0,550.0,1700.0,500.0,200.0,350.0,800.0,1400.0,300.0,400.0,150.0,350.0,350.0,1200.0,1000.0,400.0,150.0,1200.0,400.0,900.0,600.0,600.0,500.0,400.0,1400.0,1000.0,250.0,300.0,600.0,600.0,250.0,400.0,400.0,1200.0,400.0,700.0,300.0,350.0,1100.0,600.0,200.0,500.0,650.0,400.0,500.0,400.0,400.0,500.0,400.0,600.0,600.0,600.0,800.0,800.0,500.0,200.0,350.0,400.0,300.0,500.0,600.0,800.0,650.0,300.0,150.0,450.0,300.0,400.0,200.0,300.0,600.0,400.0,600.0,300.0,500.0,700.0,400.0,800.0,300.0,500.0,800.0,500.0,700.0,200.0,700.0,600.0,1300.0,500.0,400.0,300.0,550.0,250.0,600.0,350.0,1400.0,2000.0,1100.0,550.0,700.0,600.0,800.0,850.0,650.0,700.0,800.0,800.0,650.0,300.0,200.0,350.0,800.0,600.0,200.0,500.0,500.0,200.0,400.0,500.0,250.0,400.0,200.0,700.0,600.0,450.0,250.0,150.0,500.0,350.0,400.0,600.0,550.0,1000.0,400.0,400.0,400.0,500.0,600.0,550.0,500.0,300.0,200.0,200.0,650.0,300.0,250.0,800.0,500.0,500.0,200.0,800.0,350.0,900.0,400.0,450.0,1500.0,200.0,900.0,500.0,400.0,1300.0,600.0,500.0,400.0,800.0,400.0,400.0,400.0,450.0,500.0,300.0,400.0,650.0,400.0,250.0,400.0,1200.0,500.0,350.0,500.0,200.0,400.0,350.0,400.0,200.0,200.0,400.0,400.0,200.0,350.0,250.0,200.0,400.0,800.0,2000.0,600.0,800.0,600.0,500.0,600.0,400.0,550.0,1100.0,500.0,1100.0,650.0,450.0,500.0,200.0,300.0,400.0,400.0,900.0,200.0,300.0,300.0,250.0,700.0,500.0,300.0,700.0,800.0,150.0,300.0,500.0,200.0,400.0,250.0,400.0,500.0,600.0,450.0,500.0,150.0,500.0,600.0,450.0,300.0,300.0,400.0,500.0,450.0,200.0,250.0,200.0,700.0,700.0,500.0,400.0,1200.0,1300.0,1200.0,1400.0,900.0,2000.0,1000.0,1500.0,1300.0,1400.0,1300.0,900.0,2100.0,1600.0,700.0,750.0,800.0,1000.0,1500.0,1500.0,1500.0,1800.0,1300.0,600.0,1400.0,1000.0,600.0,1200.0,800.0,1400.0,600.0,1400.0,600.0,650.0,900.0,750.0,1200.0,500.0,1000.0,900.0,1200.0,1500.0,800.0,800.0,1200.0,600.0,800.0,900.0,800.0,750.0,550.0,1100.0,650.0,600.0,600.0,500.0,750.0,1200.0,800.0,850.0,800.0,1000.0,700.0,600.0,750.0,1200.0,800.0,650.0,1500.0,1000.0,800.0,500.0,500.0,800.0,1200.0,700.0,1400.0,700.0,750.0,1300.0,750.0,700.0,450.0,150.0,350.0,800.0,550.0,800.0,1000.0,600.0,600.0,500.0,600.0,800.0,600.0,1000.0,500.0,600.0,650.0,500.0,900.0,700.0,500.0,400.0,200.0,350.0,400.0,200.0,500.0,600.0,200.0,600.0,750.0,500.0,250.0,500.0,300.0,250.0,600.0,200.0,300.0,300.0,450.0,250.0,800.0,2000.0,1500.0,1100.0,600.0,1600.0,1800.0,1200.0,1000.0,600.0,1600.0,1200.0,600.0,1400.0,1500.0,1000.0,1200.0,800.0,1500.0,1200.0,1500.0,1400.0,500.0,1000.0,400.0,1200.0,1400.0,1300.0,2500.0,2000.0,1100.0,1500.0,600.0,1300.0,1000.0,1000.0,600.0,1000.0,600.0,800.0,850.0,1000.0,650.0,1000.0,700.0,1500.0,550.0,750.0,800.0,1100.0,900.0,700.0,800.0,500.0,700.0,650.0,1100.0,600.0,1200.0,800.0,1000.0,700.0,650.0,800.0,1700.0,1400.0,750.0,1000.0,900.0,900.0,650.0,600.0,600.0,700.0,750.0,700.0,900.0,1500.0,800.0,1000.0,800.0,200.0,1200.0,1100.0,1000.0,750.0,600.0,650.0,600.0,1400.0,500.0,500.0,800.0,650.0,650.0,700.0,1200.0,750.0,600.0,650.0,1700.0,2000.0,700.0,600.0,250.0,1000.0,1500.0,700.0,500.0,900.0,250.0,600.0,600.0,800.0,500.0,1000.0,500.0,500.0,1300.0,250.0,600.0,600.0,750.0,600.0,450.0,1300.0,500.0,400.0,1000.0,500.0,250.0,250.0,800.0,800.0,700.0,450.0,800.0,700.0,650.0,400.0,1500.0,600.0,500.0,800.0,500.0,350.0,700.0,500.0,1200.0,600.0,450.0,600.0,400.0,600.0,400.0,350.0,550.0,600.0,300.0,450.0,250.0,400.0,300.0,450.0,200.0,450.0,250.0,500.0,400.0,450.0,300.0,250.0,500.0,300.0,200.0,400.0,900.0,300.0,400.0,250.0,600.0,500.0,400.0,500.0,400.0,400.0,300.0,200.0,500.0,200.0,400.0,300.0,200.0,500.0,300.0,350.0,400.0,300.0,300.0,400.0,200.0,600.0,500.0,600.0,500.0,200.0,400.0,400.0,300.0,300.0,400.0,600.0,350.0,300.0,600.0,500.0,550.0,200.0,150.0,600.0,300.0,300.0,400.0,450.0,550.0,300.0,200.0,350.0,300.0,400.0,400.0,250.0,200.0,100.0,1300.0,800.0,900.0,900.0,800.0,800.0,300.0,700.0,1100.0,650.0,900.0,800.0,800.0,1300.0,400.0,600.0,400.0,500.0,800.0,600.0,1000.0,200.0,500.0,600.0,900.0,1000.0,400.0,350.0,700.0,150.0,700.0,900.0,800.0,600.0,300.0,200.0,600.0,400.0,500.0,600.0,300.0,200.0,500.0,600.0,250.0,200.0,350.0,500.0,300.0,400.0,300.0,1000.0,300.0,600.0,500.0,600.0,250.0,300.0,550.0,350.0,400.0,400.0,650.0,300.0,500.0,250.0,400.0,400.0,200.0,500.0,300.0,700.0,200.0,1500.0,1800.0,1000.0,2000.0,2100.0,1600.0,1000.0,1400.0,1000.0,1200.0,1200.0,1000.0,1500.0,1000.0,1400.0,1300.0,2000.0,1500.0,1100.0,1600.0,1800.0,1200.0,1000.0,1400.0,1200.0,1200.0,1400.0,1000.0,1200.0,1400.0,2000.0,1300.0,1200.0,1000.0,1400.0,1500.0,1200.0,1400.0,1200.0,1700.0,1500.0,1300.0,1300.0,1500.0,1200.0,1100.0,2100.0,1000.0,1000.0,1400.0,1000.0,1500.0,1300.0,1400.0,1500.0,1800.0,1200.0,1500.0,1200.0,1000.0,1200.0,1000.0,1300.0,1100.0,1600.0,1800.0,1200.0,1200.0,1500.0,1200.0,1200.0,1400.0,1000.0,1200.0,1400.0,1300.0,800.0,1200.0,1000.0,1400.0,1500.0,1000.0,1200.0,1400.0,1200.0,1700.0,1500.0,1300.0,1300.0,1500.0,1100.0,1300.0,1300.0,2000.0,1400.0,2000.0,600.0,1000.0,900.0,1500.0,1200.0,1500.0,1300.0,1000.0,600.0,1500.0,1500.0,1500.0,1500.0,1100.0,750.0,900.0,1700.0,1000.0,700.0,1500.0,1400.0,800.0,1000.0,2000.0,1000.0,1500.0,800.0,1100.0,1000.0,500.0,600.0,600.0,800.0,700.0,700.0,400.0,600.0,600.0,450.0,250.0,900.0,600.0,800.0,600.0,1300.0,800.0,400.0,600.0,600.0,600.0,1000.0,800.0,1000.0,900.0,600.0,500.0,800.0,900.0,800.0,550.0,800.0,900.0,850.0,900.0,300.0,700.0,700.0,600.0,700.0,800.0,800.0,1200.0,600.0,1200.0,650.0,700.0,900.0,450.0,200.0,700.0,650.0,600.0,600.0,600.0,800.0,700.0,650.0,350.0,500.0,700.0,300.0,600.0,500.0,700.0,500.0,800.0,600.0,600.0,450.0,900.0,1600.0,600.0,500.0,500.0,450.0,500.0,450.0,800.0,400.0,800.0,300.0,900.0,200.0,250.0,400.0,250.0,300.0,600.0,400.0,400.0,650.0,500.0,600.0,500.0,600.0,600.0,400.0,800.0,500.0,400.0,300.0,300.0,600.0,200.0,500.0,300.0,150.0,300.0,400.0,600.0,400.0,550.0,750.0,150.0,450.0,650.0,500.0,400.0,400.0,300.0,500.0,400.0,400.0,600.0,600.0,800.0,700.0,250.0,400.0,700.0,250.0,800.0,250.0,250.0,750.0,350.0,600.0,600.0,600.0,200.0,350.0,600.0,1000.0,400.0,700.0,400.0,300.0,500.0,400.0,500.0,650.0,500.0,300.0,500.0,300.0,500.0,1000.0,200.0,750.0,400.0,350.0,800.0,400.0,450.0,300.0,500.0,400.0,600.0,550.0,600.0,650.0,300.0,500.0,150.0,300.0,600.0,250.0,500.0,600.0,500.0,800.0,250.0,600.0,600.0,800.0,750.0,300.0,600.0,600.0,450.0,750.0,450.0,500.0,400.0,200.0,250.0,700.0,500.0,300.0,400.0,800.0,600.0,400.0,300.0,400.0,200.0,800.0,1500.0,800.0,300.0,200.0,450.0,300.0,450.0,500.0,500.0,400.0,400.0,550.0,450.0,1000.0,600.0,300.0,550.0,300.0,650.0,500.0,500.0,1200.0,650.0,400.0,200.0,450.0,300.0,500.0,400.0,600.0,500.0,1600.0,600.0,300.0,800.0,300.0,400.0,40.0,500.0,500.0,600.0,400.0,400.0,300.0,800.0,900.0,600.0,1800.0,300.0,400.0,800.0,500.0,650.0,300.0,700.0,450.0,300.0,500.0,200.0,800.0,500.0,500.0,300.0,300.0,350.0,600.0,800.0,400.0,350.0,600.0,350.0,200.0,700.0,1000.0,1200.0,1500.0,350.0,1300.0,600.0,450.0,1200.0,650.0,400.0,500.0,400.0,400.0,1000.0,600.0,600.0,400.0,250.0,1000.0,250.0,300.0,500.0,500.0,600.0,450.0,600.0,1300.0,400.0,600.0,300.0,800.0,300.0,1000.0,500.0,300.0,400.0,800.0,600.0,300.0,500.0,1000.0,600.0,450.0,1600.0,600.0,400.0,800.0,400.0,1300.0,650.0,800.0,200.0,300.0,700.0,250.0,600.0,700.0,600.0,500.0,500.0,600.0,700.0,600.0,400.0,1100.0,750.0,1500.0,400.0,230.0,800.0,500.0,700.0,1500.0,400.0,300.0,300.0,2500.0,600.0,300.0,500.0,1500.0,900.0,700.0,200.0,600.0,600.0,500.0,900.0,900.0,500.0,400.0,600.0,200.0,500.0,1000.0,1200.0,200.0,400.0,500.0,250.0,700.0,500.0,300.0,250.0,600.0,650.0,650.0,500.0,250.0,1200.0,1200.0,800.0,400.0,500.0,1500.0,150.0,700.0,1000.0,350.0,1000.0,700.0,900.0,750.0,700.0,300.0,650.0,500.0,700.0,400.0,400.0,500.0,800.0,400.0,1000.0,1500.0,300.0,600.0,100.0,1000.0,800.0,700.0,700.0,400.0,350.0,350.0,450.0,200.0,400.0,900.0,450.0,300.0,300.0,300.0,600.0,1000.0,1000.0,550.0,200.0,500.0,1500.0,1000.0,400.0,600.0,900.0,150.0,1400.0,750.0,400.0,900.0,300.0,1200.0,600.0,400.0,500.0,1500.0,450.0,450.0,200.0,1100.0,500.0,1700.0,600.0,400.0,350.0,250.0,600.0,700.0,600.0,400.0,400.0,600.0,750.0,600.0,250.0,2000.0,500.0,1500.0,700.0,1000.0,700.0,1300.0,500.0,500.0,800.0,800.0,500.0,600.0,300.0,700.0,450.0,750.0,350.0,150.0,300.0,1200.0,600.0,1200.0,400.0,300.0,1100.0,700.0,300.0,650.0,700.0,300.0,650.0,400.0,1100.0,900.0,450.0,550.0,400.0,750.0,250.0,1200.0,350.0,400.0,800.0,1000.0,400.0,700.0,1200.0,500.0,1000.0,750.0,550.0,600.0,150.0,1400.0,350.0,700.0,300.0,250.0,400.0,250.0,250.0,450.0,200.0,600.0,600.0,1000.0,200.0,300.0,750.0,250.0,250.0,200.0,600.0,600.0,600.0,600.0,600.0,500.0,150.0,600.0,1000.0,600.0,200.0,800.0,350.0,350.0,650.0,500.0,400.0,400.0,500.0,550.0,300.0,300.0,500.0,1300.0,250.0,500.0,600.0,650.0,150.0,900.0,200.0,700.0,550.0,400.0,800.0,450.0,1400.0,800.0,600.0,150.0,300.0,400.0,200.0,800.0,600.0,300.0,600.0,700.0,250.0,300.0,1000.0,1000.0,1000.0,1400.0,1600.0,300.0,700.0,450.0,900.0,1400.0,800.0,900.0,900.0,1300.0,800.0,1400.0,800.0,650.0,1100.0,400.0,650.0,500.0,800.0,900.0,800.0,850.0,800.0,350.0,1200.0,400.0,650.0,300.0,650.0,200.0,350.0,400.0,150.0,200.0,500.0,400.0,400.0,500.0,600.0,450.0,250.0,150.0,500.0,600.0,300.0,200.0,1000.0,1100.0,400.0,400.0,600.0,500.0,200.0,400.0,650.0,800.0,350.0,700.0,500.0,500.0,250.0,200.0,800.0,350.0,500.0,1500.0,200.0,400.0,600.0,2000.0,500.0,600.0,1100.0,400.0,500.0,250.0,500.0,250.0,300.0,300.0,250.0,400.0,1300.0,600.0,800.0,600.0,600.0,400.0,500.0,800.0,550.0,450.0,450.0,400.0,400.0,300.0,500.0,500.0,400.0,650.0,400.0,1200.0,400.0,1100.0,650.0,300.0,500.0,900.0,350.0,400.0,400.0,300.0,200.0,400.0,250.0,200.0,450.0,300.0,500.0,350.0,200.0,500.0,500.0,200.0,500.0,400.0,400.0,400.0,800.0,700.0,350.0,150.0,200.0,200.0,300.0,400.0,400.0,500.0,400.0,600.0,150.0,700.0,500.0,600.0,200.0,450.0,400.0,400.0,200.0,800.0,450.0,200.0,400.0,200.0,500.0,2000.0,1000.0,500.0,2500.0,1100.0,2000.0,600.0,1100.0,700.0,1000.0,600.0,650.0,800.0,700.0,1000.0,600.0,700.0,1000.0,1400.0,750.0,1000.0,250.0,900.0,1700.0,250.0,250.0,600.0,700.0,800.0,500.0,600.0,250.0,800.0,1500.0,450.0,1300.0,400.0,500.0,1200.0,500.0,750.0,600.0,400.0,600.0,400.0,250.0,300.0,400.0,400.0,200.0,550.0,450.0,400.0,300.0,200.0,400.0,400.0,200.0,600.0,600.0,350.0,200.0,550.0,300.0,400.0,1400.0,900.0,1500.0,2000.0,1000.0,1100.0,1500.0,2100.0,1200.0,600.0,1300.0,1300.0,1400.0,800.0,1800.0,1600.0,1200.0,1600.0,700.0,900.0,1500.0,750.0,1300.0,1500.0,1000.0,1000.0,600.0,1300.0,1500.0,1500.0,1400.0,1800.0,600.0,1200.0,1600.0,1400.0,600.0,1400.0,1000.0,1200.0,800.0,1500.0,1500.0,1200.0,400.0,1000.0,1000.0,1400.0,600.0,1400.0,800.0,1200.0,600.0,1300.0,1200.0,600.0,1300.0,1500.0,1400.0,1200.0,650.0,600.0,550.0,1000.0,1100.0,1000.0,800.0,1000.0,650.0,900.0,600.0,750.0,500.0,1500.0,1500.0,1200.0,800.0,900.0,800.0,550.0,800.0,900.0,800.0,900.0,1700.0,600.0,800.0,750.0,850.0,750.0,800.0,1200.0,1000.0,1200.0,900.0,1000.0,500.0,900.0,750.0,500.0,800.0,700.0,600.0,700.0,1200.0,800.0,600.0,700.0,800.0,650.0,600.0,800.0,800.0,850.0,750.0,1200.0,500.0,600.0,1500.0,750.0,1100.0,1200.0,750.0,1000.0,650.0,1000.0,700.0,700.0,750.0,1200.0,800.0,650.0,800.0,1100.0,650.0,500.0,1500.0,1000.0,450.0,500.0,800.0,1300.0,200.0,750.0,1200.0,600.0,1400.0,800.0,600.0,1000.0,750.0,650.0,700.0,700.0,600.0,650.0,500.0,600.0,600.0,800.0,500.0,1000.0,600.0,600.0,700.0,2000.0,600.0,150.0,250.0,500.0,600.0,800.0,1500.0,700.0,350.0,500.0,800.0,650.0,600.0,550.0,650.0,650.0,700.0,900.0,500.0,600.0,1000.0,800.0,400.0,450.0,1000.0,1300.0,500.0,750.0,700.0,500.0,500.0,700.0,650.0,800.0,1000.0,600.0,700.0,250.0,800.0,500.0,600.0,500.0,600.0,700.0,350.0,450.0,400.0,500.0,600.0,200.0,450.0,250.0,350.0,300.0,450.0,350.0,500.0,300.0,200.0,600.0,400.0,250.0,450.0,600.0,200.0,500.0,500.0,900.0,500.0,250.0,200.0,500.0,300.0,400.0,400.0,600.0,300.0,300.0,400.0,500.0,400.0,400.0,450.0,200.0,200.0,500.0,400.0,500.0,300.0,500.0,300.0,200.0,300.0,600.0,400.0,500.0,400.0,500.0,350.0,300.0,200.0,400.0,300.0,300.0,600.0,150.0,500.0,300.0,400.0,300.0,450.0,250.0,600.0,300.0,600.0,400.0,550.0,200.0,300.0,300.0,350.0,400.0,250.0,800.0,300.0,250.0,350.0,200.0,100.0,1200.0,800.0,1700.0,900.0,1600.0,800.0,700.0,1500.0,1800.0,300.0,800.0,800.0,1000.0,1300.0,900.0,400.0,200.0,1000.0,600.0,600.0,800.0,400.0,500.0,200.0,250.0,400.0,500.0,600.0,200.0,300.0,300.0,300.0,600.0,600.0,1800.0,400.0,250.0,900.0,350.0,300.0,1000.0,1100.0,350.0,600.0,500.0,300.0,400.0,400.0,650.0,500.0,400.0,700.0,400.0,500.0,200.0,300.0,2100.0,1100.0,1300.0,2000.0,1000.0,2000.0,1000.0,1400.0,1700.0,1500.0,1200.0,1500.0,2000.0,1000.0,1800.0,1600.0,1200.0,1600.0,1000.0,1000.0,1500.0,1400.0,1800.0,1400.0,1200.0,1200.0,1000.0,1400.0,1200.0,1200.0,1300.0,1400.0,1200.0,1200.0,1500.0,1000.0,1000.0,1200.0,1500.0,1300.0,1200.0,1400.0,1500.0,1300.0,1200.0,1700.0,1600.0,1400.0,1200.0,2000.0,1500.0,1500.0,1500.0,800.0,1000.0,1500.0,1300.0,1500.0,1300.0,1000.0,600.0,1500.0,2000.0,600.0,1100.0,750.0,900.0,1700.0,1000.0,700.0,1100.0,1500.0,1000.0,1400.0,2000.0,900.0,1000.0,1300.0,1100.0,800.0,1000.0,800.0,1000.0,550.0,700.0,600.0,900.0,650.0,700.0,350.0,600.0,650.0,900.0,600.0,800.0,600.0,1300.0,800.0,500.0,400.0,600.0,600.0,600.0,800.0,1000.0,900.0,600.0,500.0,800.0,900.0,800.0,900.0,850.0,600.0,900.0,300.0,700.0,800.0,600.0,700.0,800.0,800.0,700.0,1200.0,1200.0,650.0,700.0,450.0,200.0,700.0,600.0,600.0,600.0,800.0,650.0,500.0,700.0,400.0,300.0,500.0,600.0,600.0,700.0,500.0,800.0,450.0,250.0,450.0,600.0,900.0,1000.0,700.0,700.0,600.0,600.0,500.0,600.0,500.0,450.0,500.0,450.0,250.0,800.0,300.0,400.0,400.0,400.0,800.0,900.0,200.0,250.0,300.0,600.0,400.0,400.0,650.0,500.0,250.0,600.0,500.0,600.0,600.0,400.0,800.0,450.0,500.0,400.0,300.0,200.0,500.0,300.0,150.0,300.0,600.0,400.0,550.0,150.0,450.0,500.0,400.0,400.0,500.0,400.0,400.0,400.0,600.0,600.0,800.0,250.0,700.0,250.0,300.0,400.0,900.0,700.0,250.0,450.0,300.0,800.0,250.0,250.0,750.0,350.0,600.0,600.0,600.0,200.0,350.0,600.0,400.0,700.0,500.0,600.0,200.0,400.0,300.0,500.0,650.0,500.0,300.0,500.0,350.0,500.0,600.0,200.0,300.0,750.0,800.0,400.0,350.0,800.0,400.0,450.0,400.0,300.0,300.0,500.0,400.0,600.0,550.0,600.0,650.0,300.0,500.0,150.0,300.0,600.0,250.0,650.0,400.0,800.0,200.0,1000.0,250.0,600.0,1200.0,700.0,600.0,800.0,400.0,750.0,400.0,300.0,600.0,450.0,750.0,450.0,500.0,400.0,200.0,100.0,250.0,650.0,500.0,300.0,400.0,500.0,1200.0,400.0,400.0,200.0,800.0,400.0,1500.0,800.0,400.0,300.0,200.0,450.0,400.0,400.0,450.0,1000.0,600.0,700.0,250.0,300.0,200.0,600.0,400.0,650.0,500.0,650.0,650.0,400.0,200.0,450.0,500.0,400.0,600.0,500.0,600.0,300.0,800.0,300.0,400.0,500.0,400.0,600.0,800.0,900.0,600.0,300.0,400.0,800.0,500.0,650.0,300.0,700.0,450.0,300.0,500.0,500.0,200.0,800.0,500.0,300.0,500.0,300.0,600.0,800.0,400.0,350.0,200.0,300.0,700.0,1000.0,1200.0,1500.0,350.0,200.0,1300.0,600.0,1000.0,450.0,1200.0,300.0,350.0,650.0,500.0,400.0,600.0,300.0,600.0,250.0,500.0,800.0,1000.0,600.0,250.0,300.0,500.0,500.0,500.0,600.0,450.0,600.0,1300.0,400.0,300.0,400.0,300.0,1000.0,500.0,800.0,300.0,500.0,200.0,800.0,600.0,300.0,500.0,600.0,450.0,1600.0,600.0,400.0,400.0,1300.0,1000.0,400.0,750.0,700.0,650.0,800.0,1000.0,300.0,700.0,600.0,600.0,1500.0,500.0,700.0,400.0,1100.0,750.0,1500.0,400.0,230.0,500.0,700.0,400.0,300.0,2500.0,1200.0,300.0,250.0,600.0,300.0,900.0,350.0,1500.0,200.0,900.0,700.0,200.0,600.0,600.0,900.0,900.0,500.0,500.0,400.0,600.0,500.0,500.0,1200.0,1000.0,200.0,400.0,500.0,700.0,500.0,180.0,300.0,550.0,400.0,250.0,600.0,650.0,500.0,250.0,300.0,450.0,600.0,1200.0,800.0,800.0,400.0,500.0,1500.0,150.0,700.0,1000.0,1000.0,700.0,900.0,750.0,700.0,500.0,650.0,500.0,700.0,400.0,150.0,400.0,400.0,400.0,400.0,1500.0,300.0,600.0,400.0,400.0,100.0,1200.0,300.0,1000.0,800.0,700.0,350.0,350.0,450.0,200.0,200.0,400.0,400.0,600.0,300.0,300.0,200.0,300.0,500.0,600.0,1000.0,1000.0,550.0,200.0,300.0,500.0,1500.0,1000.0,250.0,400.0,600.0,900.0,150.0,1400.0,750.0,400.0,1000.0,900.0,300.0,1200.0,300.0,600.0,400.0,300.0,1500.0,450.0,450.0,200.0,1100.0,400.0,800.0,1700.0,1500.0,600.0,400.0,600.0,800.0,600.0,400.0,700.0,400.0,1000.0,600.0,700.0,700.0,750.0,600.0,250.0,400.0,150.0,1200.0,400.0,700.0,100.0,1000.0,900.0,700.0,1300.0,500.0,500.0,800.0,550.0,800.0,500.0,600.0,300.0,700.0,750.0,500.0,350.0,300.0,650.0,600.0,1200.0,200.0,400.0,1100.0,700.0,300.0,650.0,700.0,400.0,300.0,650.0,400.0,1100.0,600.0,900.0,450.0,550.0,350.0,400.0,750.0,250.0,1200.0,200.0,500.0,350.0,400.0,800.0,500.0,650.0,1000.0,750.0,400.0,700.0,1200.0,500.0,500.0,1000.0,750.0,550.0,600.0,1400.0,400.0,300.0,1000.0,350.0,700.0,750.0,200.0,400.0,250.0,250.0,600.0,600.0,650.0,1000.0,200.0,800.0,300.0,750.0,600.0,600.0,600.0,600.0,600.0,250.0,550.0,400.0,500.0,400.0,150.0,600.0,1000.0,250.0,600.0,100.0,800.0,450.0,500.0,400.0,650.0,500.0,1300.0,400.0,600.0,650.0,350.0,150.0,200.0,700.0,550.0,400.0,800.0,600.0,450.0,500.0,800.0,600.0,300.0,400.0,900.0,200.0,200.0,800.0,900.0,600.0,300.0,600.0,700.0,250.0,1000.0,1000.0,1000.0,1400.0,2000.0,300.0,450.0,700.0,1100.0,900.0,1400.0,1000.0,800.0,900.0,900.0,1300.0,800.0,600.0,1400.0,800.0,650.0,1100.0,400.0,650.0,500.0,550.0,800.0,900.0,800.0,850.0,800.0,350.0,1200.0,400.0,650.0,600.0,150.0,700.0,300.0,200.0,800.0,150.0,500.0,200.0,500.0,200.0,500.0,400.0,400.0,500.0,250.0,200.0,700.0,450.0,250.0,350.0,400.0,600.0,500.0,300.0,200.0,550.0,1000.0,400.0,400.0,400.0,500.0,600.0,550.0,500.0,300.0,200.0,200.0,400.0,650.0,300.0,250.0,800.0,500.0,700.0,500.0,250.0,800.0,500.0,350.0,400.0,500.0,1500.0,500.0,400.0,550.0,400.0,900.0,400.0,300.0,200.0,450.0,250.0,500.0,500.0,800.0,700.0,150.0,600.0,150.0,400.0,2000.0,400.0,1300.0,600.0,800.0,500.0,600.0,600.0,400.0,500.0,800.0,1100.0,450.0,450.0,400.0,400.0,300.0,500.0,500.0,400.0,400.0,1200.0,400.0,1100.0,650.0,500.0,300.0,500.0,350.0,400.0,300.0,400.0,250.0,300.0,500.0,350.0,200.0,200.0,400.0,400.0,350.0,200.0,200.0,300.0,400.0,400.0,500.0,400.0,250.0,500.0,250.0,700.0,500.0,600.0,200.0,450.0,300.0,400.0,300.0,200.0,800.0,450.0,600.0,200.0,200.0,200.0,700.0,400.0,1600.0,2100.0,1500.0,1500.0,1100.0,1500.0,600.0,1500.0,1400.0,550.0,900.0,500.0,600.0,750.0,650.0,1100.0,1000.0,600.0,650.0,650.0,500.0,800.0,1000.0,750.0,700.0,800.0,650.0,750.0,800.0,400.0,750.0,700.0,650.0,700.0,650.0,500.0,700.0,450.0,350.0,300.0,450.0,600.0,900.0,200.0,400.0,400.0,200.0,500.0,200.0,450.0,600.0,400.0,500.0,200.0,250.0,400.0,500.0,300.0,400.0,550.0,200.0,300.0,400.0,300.0,600.0,1400.0,900.0,2000.0,2000.0,1000.0,1500.0,1200.0,600.0,1300.0,1300.0,1400.0,800.0,1200.0,1800.0,1600.0,700.0,900.0,1500.0,750.0,1300.0,1500.0,1000.0,1000.0,600.0,1300.0,1500.0,1400.0,1800.0,1400.0,600.0,1400.0,1000.0,1200.0,800.0,1000.0,1500.0,500.0,1200.0,400.0,1000.0,1000.0,1400.0,600.0,1400.0,800.0,1200.0,1300.0,2500.0,600.0,1300.0,1100.0,1200.0,650.0,550.0,600.0,2000.0,600.0,1100.0,1000.0,800.0,1000.0,650.0,900.0,600.0,500.0,1500.0,1500.0,800.0,1200.0,900.0,800.0,800.0,900.0,1100.0,800.0,900.0,700.0,1700.0,800.0,1000.0,600.0,750.0,850.0,750.0,1200.0,800.0,1000.0,600.0,1200.0,900.0,1000.0,650.0,500.0,750.0,800.0,700.0,700.0,1200.0,800.0,600.0,700.0,800.0,650.0,600.0,800.0,700.0,800.0,1000.0,750.0,600.0,1200.0,500.0,1500.0,750.0,1100.0,1200.0,1000.0,1000.0,650.0,700.0,750.0,700.0,1200.0,800.0,800.0,1300.0,1500.0,450.0,500.0,800.0,200.0,750.0,600.0,1000.0,1400.0,1400.0,800.0,1000.0,750.0,750.0,700.0,700.0,1000.0,600.0,500.0,250.0,600.0,600.0,700.0,2000.0,600.0,150.0,250.0,500.0,600.0,800.0,1500.0,350.0,900.0,600.0,550.0,650.0,1700.0,250.0,700.0,900.0,250.0,600.0,600.0,1000.0,700.0,800.0,450.0,500.0,1000.0,1300.0,600.0,500.0,250.0,700.0,500.0,500.0,800.0,1000.0,600.0,250.0,800.0,1500.0,800.0,450.0,1300.0,500.0,400.0,500.0,1200.0,500.0,350.0,450.0,600.0,400.0,600.0,400.0,400.0,500.0,600.0,200.0,200.0,450.0,250.0,350.0,300.0,400.0,500.0,400.0,200.0,600.0,400.0,250.0,200.0,550.0,200.0,500.0,500.0,400.0,250.0,500.0,300.0,400.0,400.0,600.0,300.0,300.0,200.0,200.0,500.0,200.0,300.0,400.0,500.0,400.0,300.0,200.0,600.0,400.0,600.0,300.0,600.0,350.0,300.0,450.0,200.0,600.0,300.0,600.0,550.0,300.0,250.0,800.0,400.0,350.0,200.0,1600.0,1300.0,1200.0,1100.0,800.0,600.0,1200.0,900.0,1000.0,550.0,800.0,900.0,600.0,800.0,600.0,700.0,300.0,800.0,700.0,400.0,800.0,1100.0,650.0,500.0,1000.0,550.0,650.0,700.0,600.0,250.0,1300.0,300.0,600.0,600.0,1000.0,500.0,900.0,600.0,900.0,800.0,400.0,200.0,1000.0,400.0,600.0,450.0,600.0,350.0,500.0,1000.0,500.0,350.0,200.0,400.0,500.0,500.0,1000.0,700.0,300.0,250.0,500.0,150.0,600.0,500.0,600.0,500.0,300.0,600.0,200.0,300.0,400.0,500.0,300.0,200.0,300.0,300.0,600.0,600.0,600.0,450.0,200.0,400.0,250.0,900.0,500.0,600.0,350.0,300.0,200.0,150.0,250.0,1000.0,400.0,350.0,600.0,600.0,500.0,300.0,400.0,150.0,300.0,550.0,400.0,300.0,400.0,400.0,650.0,500.0,400.0,700.0,400.0,600.0,500.0,250.0,200.0,300.0,1000.0,2000.0,2100.0,1500.0,1100.0,1600.0,1400.0,2000.0,1800.0,1200.0,1600.0,1000.0,1000.0,1500.0,1400.0,1800.0,1400.0,1200.0,1000.0,1200.0,1000.0,1400.0,1200.0,1300.0,1100.0,2000.0,1200.0,1200.0,1000.0,1500.0,1000.0,1000.0,1200.0,1500.0,1300.0,1400.0,1400.0,1500.0,1700.0,1300.0,1500.0,1300.0,1200.0,1100.0,1200.0,1100.0,1000.0,1000.0,1600.0,1100.0,1000.0,1500.0,1400.0,1000.0,1400.0,1500.0,2100.0,1300.0,1400.0,1800.0,1200.0,1500.0,1000.0,1800.0,1200.0,1000.0,1200.0,1400.0,1200.0,1300.0,1100.0,1000.0,1500.0,800.0,1200.0,1200.0,1000.0,1200.0,1000.0,1000.0,1200.0,1500.0,1300.0,1400.0,1500.0,1800.0,1300.0,1500.0,1300.0,1200.0,1100.0,1200.0,1100.0,1300.0,1000.0,1000.0,1600.0,2200.0,1200.0,1400.0,1000.0,1500.0,1600.0,1200.0,1800.0,1500.0,1500.0,2100.0,3000.0,1200.0,1700.0,750.0,3000.0,1500.0,500.0,2500.0,1500.0,3400.0,2000.0,1200.0,800.0,1700.0,1200.0,2000.0,1300.0,1300.0,1600.0,3000.0,1000.0,1000.0,650.0,1400.0,1900.0,800.0,1000.0,1000.0,500.0,1200.0,650.0,2800.0,1600.0,4100.0,3400.0,1300.0,1700.0,1800.0,1100.0,750.0,1200.0,750.0,600.0,1400.0,1100.0,1000.0,1200.0,1100.0,800.0,900.0,1700.0,1000.0,600.0,2500.0,650.0,400.0,900.0,700.0,450.0,700.0,800.0,750.0,650.0,500.0,500.0,400.0,650.0,500.0,600.0,800.0,1000.0,500.0,700.0,800.0,900.0,350.0,1300.0,1100.0,750.0,750.0,300.0,1000.0,750.0,1000.0,500.0,1100.0,600.0,2000.0,500.0,500.0,450.0,400.0,500.0,200.0,550.0,300.0,250.0,500.0,500.0,350.0,650.0,500.0,200.0,750.0,650.0,750.0,400.0,400.0,200.0,800.0,600.0,450.0,400.0,800.0,250.0,500.0,500.0,600.0,400.0,250.0,650.0,1300.0,1600.0,1200.0,500.0,300.0,450.0,750.0,1300.0,500.0,150.0,200.0,350.0,600.0,500.0,500.0,1500.0,400.0,400.0,250.0,800.0,900.0,1600.0,300.0,550.0,1300.0,400.0,900.0,1100.0,400.0,400.0,700.0,700.0,200.0,700.0,500.0,300.0,300.0,400.0,600.0,250.0,350.0,400.0,400.0,500.0,3000.0,700.0,700.0,400.0,1500.0,450.0,300.0,500.0,800.0,180.0,150.0,500.0,750.0,400.0,700.0,500.0,750.0,1200.0,1300.0,1300.0,300.0,850.0,500.0,600.0,1000.0,700.0,1000.0,300.0,800.0,950.0,300.0,800.0,900.0,600.0,800.0,350.0,500.0,1000.0,500.0,300.0,1400.0,1500.0,750.0,550.0,2000.0,550.0,1000.0,600.0,250.0,1400.0,200.0,1500.0,700.0,400.0,400.0,350.0,200.0,450.0,1000.0,700.0,300.0,350.0,400.0,250.0,400.0,2000.0,400.0,750.0,700.0,300.0,700.0,1200.0,800.0,600.0,1000.0,500.0,700.0,300.0,600.0,1200.0,800.0,600.0,650.0,500.0,400.0,2100.0,400.0,2000.0,300.0,600.0,600.0,1000.0,200.0,800.0,600.0,1000.0,1500.0,150.0,400.0,400.0,1200.0,700.0,1200.0,800.0,650.0,400.0,1700.0,600.0,1700.0,800.0,700.0,1500.0,1300.0,300.0,2100.0,600.0,600.0,1700.0,750.0,2100.0,700.0,1500.0,700.0,1700.0,1400.0,650.0,800.0,1000.0,600.0,1000.0,2000.0,750.0,1000.0,1000.0,1400.0,1200.0,850.0,1500.0,300.0,850.0,1000.0,1800.0,550.0,800.0,300.0,500.0,1800.0,1300.0,800.0,700.0,400.0,550.0,800.0,1000.0,550.0,600.0,1000.0,450.0,500.0,1300.0,1000.0,1200.0,1300.0,700.0,250.0,500.0,1300.0,1000.0,1000.0,1500.0,800.0,900.0,1700.0,1100.0,1400.0,550.0,400.0,600.0,750.0,400.0,900.0,500.0,800.0,450.0,800.0,500.0,800.0,150.0,1200.0,500.0,500.0,650.0,400.0,450.0,500.0,200.0,800.0,500.0,1100.0,500.0,200.0,500.0,300.0,450.0,350.0,100.0,300.0,250.0,550.0,500.0,400.0,600.0,1800.0,1600.0,1600.0,600.0,1400.0,300.0,400.0,300.0,400.0,550.0,800.0,800.0,2000.0,1000.0,550.0,400.0,1250.0,400.0,300.0,300.0,700.0,450.0,500.0,1000.0,500.0,450.0,300.0,350.0,400.0,800.0,400.0,400.0,250.0,450.0,300.0,150.0,150.0,250.0,180.0,400.0,500.0,200.0,300.0,200.0,300.0,300.0,500.0,350.0,600.0,900.0,1300.0,1100.0,750.0,700.0,500.0,200.0,300.0,400.0,2200.0,3000.0,1800.0,2500.0,3000.0,3000.0,1500.0,1200.0,1300.0,2100.0,1700.0,1600.0,1500.0,2200.0,1400.0,1500.0,1000.0,1000.0,1500.0,1500.0,1500.0,1300.0,1200.0,1600.0,1000.0,1100.0,600.0,1000.0,1200.0,1200.0,1800.0,2500.0,2000.0,600.0,400.0,350.0,500.0,1700.0,1800.0,1500.0,1500.0,1500.0,2000.0,800.0,2800.0,700.0,1100.0,1500.0,2100.0,1500.0,2000.0,3000.0,2500.0,3500.0,1700.0,1700.0,1500.0,1200.0,1500.0,1300.0,1200.0,700.0,800.0,1600.0,1000.0,1500.0,800.0,2000.0,1500.0,2500.0,2100.0,1000.0,1900.0,1700.0,2000.0,1100.0,1300.0,600.0,900.0,1200.0,1700.0,1400.0,1300.0,1000.0,600.0,2500.0,1400.0,200.0,1500.0,550.0,750.0,1000.0,1500.0,3000.0,1500.0,3000.0,1100.0,650.0,1200.0,2500.0,2000.0,600.0,1400.0,1100.0,3200.0,650.0,750.0,850.0,1800.0,500.0,2500.0,1000.0,1500.0,1000.0,1200.0,3400.0,2000.0,1000.0,1400.0,3500.0,700.0,1600.0,1200.0,400.0,900.0,1500.0,1200.0,800.0,1500.0,1200.0,4000.0,500.0,1300.0,700.0,4000.0,4000.0,1200.0,800.0,600.0,1100.0,1100.0,1000.0,1700.0,2000.0,1200.0,800.0,2000.0,3000.0,2000.0,800.0,2000.0,3500.0,1000.0,1300.0,700.0,1000.0,500.0,800.0,2800.0,2500.0,800.0,500.0,3000.0,750.0,800.0,650.0,1800.0,950.0,1500.0,3000.0,750.0,750.0,1500.0,1000.0,1500.0,550.0,500.0,700.0,500.0,600.0,700.0,800.0,700.0,1200.0,1000.0,300.0,700.0,1300.0,1000.0,500.0,1600.0,500.0,1600.0,3000.0,900.0,450.0,1000.0,650.0,550.0,650.0,1000.0,1000.0,2000.0,350.0,400.0,300.0,3000.0,1200.0,3000.0,400.0,500.0,650.0,800.0,2500.0,700.0,1400.0,500.0,600.0,500.0,800.0,600.0,850.0,700.0,500.0,1900.0,800.0,1000.0,500.0,1300.0,1500.0,250.0,1000.0,1000.0,700.0,500.0,3000.0,600.0,500.0,800.0,600.0,500.0,800.0,1200.0,500.0,550.0,800.0,800.0,1200.0,800.0,600.0,350.0,800.0,700.0,600.0,2500.0,800.0,600.0,1000.0,550.0,250.0,700.0,400.0,300.0,500.0,200.0,300.0,150.0,450.0,300.0,500.0,300.0,300.0,150.0,300.0,450.0,500.0,150.0,300.0,600.0,400.0,250.0,350.0,400.0,200.0,400.0,250.0,400.0,500.0,300.0,400.0,500.0,500.0,400.0,200.0,400.0,350.0,250.0,400.0,500.0,250.0,300.0,300.0,300.0,450.0,300.0,100.0,500.0,1300.0,2800.0,3000.0,2500.0,1600.0,1100.0,1100.0,4100.0,1300.0,3000.0,600.0,2000.0,2000.0,1000.0,1300.0,1100.0,750.0,3400.0,750.0,1800.0,3000.0,1300.0,700.0,1500.0,1700.0,300.0,600.0,1200.0,2300.0,1000.0,750.0,3000.0,2000.0,1000.0,500.0,3000.0,1300.0,750.0,850.0,450.0,700.0,1000.0,600.0,750.0,1800.0,400.0,650.0,500.0,750.0,400.0,500.0,400.0,450.0,150.0,200.0,2200.0,200.0,150.0,700.0,2400.0,350.0,400.0,400.0,1100.0,600.0,200.0,2000.0,1100.0,450.0,600.0,300.0,150.0,750.0,600.0,350.0,1200.0,1300.0,1800.0,1200.0,2100.0,1700.0,1000.0,1000.0,1300.0,1200.0,1800.0,1200.0,2000.0,1500.0,2500.0,1700.0,1200.0,1300.0,1500.0,2500.0,1900.0,1700.0,1000.0,1500.0,1100.0,1200.0,1400.0,1100.0,1000.0,1000.0,1600.0,1200.0,1200.0,1500.0,4000.0,1100.0,1100.0,1000.0,1700.0,2000.0,2000.0,2000.0,3500.0,1300.0,1800.0,1500.0,1500.0,600.0,1000.0,1000.0,1000.0,3000.0,1200.0,1300.0,1500.0,800.0,1300.0,3000.0,3000.0,2000.0,1000.0,3400.0,1200.0,1300.0,2200.0,1100.0,1200.0,2000.0,1700.0,1500.0,950.0,1000.0,1200.0,2400.0,800.0,4100.0,1500.0,1400.0,3000.0,1200.0,600.0,800.0,600.0,900.0,500.0,600.0,500.0,700.0,700.0,400.0,350.0,500.0,400.0,800.0,1000.0,400.0,800.0,600.0,650.0,500.0,500.0,650.0,200.0,120.0,350.0,400.0,450.0,400.0,600.0,400.0,750.0,300.0,250.0,500.0,400.0,600.0,500.0,400.0,600.0,400.0,250.0,400.0,450.0,250.0,300.0,300.0,300.0,300.0,700.0,750.0,500.0,400.0,500.0,400.0,300.0,200.0,350.0,600.0,500.0,150.0,250.0,800.0,400.0,500.0,700.0,350.0,150.0,450.0,700.0,750.0,500.0,600.0,300.0,500.0,250.0,100.0,450.0,800.0,600.0,650.0,300.0,550.0,450.0,1400.0,300.0,250.0,600.0,800.0,500.0,1200.0,2000.0,1100.0,1200.0,150.0,900.0,700.0,500.0,150.0,500.0,200.0,300.0,800.0,250.0,350.0,650.0,1000.0,1300.0,450.0,800.0,900.0,200.0,300.0,700.0,150.0,150.0,300.0,500.0,800.0,300.0,400.0,100.0,300.0,450.0,500.0,400.0,300.0,450.0,500.0,400.0,500.0,500.0,600.0,1100.0,1000.0,300.0,400.0,1500.0,500.0,600.0,400.0,750.0,400.0,800.0,400.0,600.0,300.0,300.0,600.0,300.0,1000.0,350.0,700.0,300.0,750.0,400.0,800.0,150.0,750.0,400.0,600.0,400.0,500.0,400.0,400.0,400.0,700.0,900.0,300.0,650.0,600.0,200.0,500.0,700.0,400.0,150.0,450.0,600.0,800.0,400.0,1000.0,1100.0,1200.0,200.0,550.0,200.0,500.0,500.0,500.0,350.0,800.0,500.0,650.0,200.0,600.0,300.0,400.0,700.0,500.0,350.0,600.0,450.0,1700.0,650.0,950.0,400.0,500.0,1100.0,600.0,600.0,650.0,400.0,150.0,600.0,1000.0,600.0,450.0,500.0,1700.0,1500.0,600.0,100.0,600.0,800.0,1200.0,500.0,750.0,800.0,900.0,500.0,500.0,1000.0,700.0,1000.0,850.0,900.0,300.0,1100.0,900.0,1200.0,1200.0,800.0,1400.0,600.0,1000.0,900.0,750.0,750.0,800.0,800.0,1000.0,300.0,500.0,700.0,1500.0,1400.0,650.0,1800.0,600.0,400.0,400.0,250.0,700.0,200.0,250.0,250.0,300.0,500.0,300.0,400.0,400.0,400.0,100.0,250.0,200.0,450.0,400.0,800.0,400.0,400.0,1250.0,800.0,200.0,600.0,450.0,500.0,500.0,1100.0,2600.0,2000.0,1800.0,2000.0,1300.0,2500.0,1200.0,1700.0,1400.0,700.0,1000.0,1400.0,1500.0,800.0,1000.0,1400.0,950.0,500.0,600.0,1100.0,1000.0,1500.0,500.0,600.0,1200.0,100.0,1500.0,650.0,700.0,500.0,500.0,2500.0,1500.0,700.0,1500.0,600.0,400.0,1100.0,750.0,1100.0,600.0,150.0,2000.0,400.0,500.0,600.0,800.0,600.0,250.0,150.0,250.0,300.0,250.0,300.0,200.0,200.0,350.0,150.0,300.0,400.0,800.0,400.0,300.0,350.0,250.0,600.0,400.0,600.0,200.0,500.0,200.0,250.0,200.0,300.0,500.0,300.0,400.0,300.0,500.0,300.0,100.0,300.0,300.0,550.0,400.0,500.0,800.0,500.0,150.0,500.0,1200.0,1200.0,1200.0,2400.0,1000.0,800.0,4100.0,1500.0,2000.0,900.0,5000.0,800.0,1400.0,3000.0,3000.0,1500.0,1000.0,1000.0,4000.0,2200.0,1800.0,4000.0,1200.0,700.0,800.0,700.0,600.0,2200.0,2500.0,450.0,650.0,3700.0,700.0,600.0,750.0,600.0,800.0,300.0,200.0,300.0,200.0,200.0,250.0,1650.0,1100.0,1300.0,400.0,1200.0,1200.0,600.0,600.0,800.0,700.0,1400.0,850.0,300.0,900.0,650.0,1100.0,800.0,450.0,700.0,400.0,600.0,300.0,600.0,400.0,600.0,900.0,500.0,450.0,450.0,600.0,750.0,300.0,450.0,1200.0,2600.0,1800.0,1200.0,1400.0,1400.0,1100.0,1500.0,1500.0,1100.0,2000.0,2000.0,3000.0,1500.0,2200.0,1650.0,1200.0,1100.0,1200.0,1400.0,1400.0,1100.0,1500.0,1100.0,2000.0,3000.0,2500.0,1650.0,1300.0,1400.0,2500.0,1400.0,1500.0,1500.0,1600.0,1300.0,1400.0,1100.0,1300.0,1200.0,2700.0,1000.0,1600.0,1500.0,1500.0,1700.0,1300.0,750.0,1000.0,1000.0,1200.0,600.0,700.0,750.0,1200.0,600.0,400.0,600.0,700.0,300.0,700.0,400.0,650.0,300.0,600.0,500.0,500.0,600.0,300.0,400.0,700.0,600.0,450.0,450.0,250.0,500.0,700.0,300.0,600.0,850.0,500.0,500.0,650.0,400.0,400.0,500.0,650.0,400.0,800.0,300.0,400.0,400.0,450.0,1000.0,800.0,500.0,400.0,300.0,250.0,350.0,400.0,400.0,300.0,700.0,150.0,600.0,800.0,250.0,650.0,250.0,500.0,350.0,800.0,200.0,1400.0,500.0,1100.0,350.0,650.0,400.0,1400.0,700.0,300.0,800.0,600.0,900.0,600.0,300.0,450.0,300.0,300.0,800.0,600.0,800.0,400.0,200.0,300.0,1100.0,450.0,400.0,450.0,400.0,200.0,500.0,200.0,700.0,650.0,600.0,400.0,1000.0,300.0,400.0,800.0,600.0,800.0,400.0,150.0,200.0,1000.0,1000.0,500.0,300.0,600.0,600.0,400.0,500.0,550.0,1400.0,300.0,300.0,500.0,300.0,350.0,1300.0,250.0,450.0,400.0,600.0,600.0,400.0,1000.0,600.0,1000.0,300.0,300.0,800.0,600.0,400.0,700.0,700.0,400.0,1400.0,900.0,750.0,750.0,400.0,500.0,500.0,750.0,200.0,800.0,300.0,600.0,300.0,1500.0,1500.0,450.0,700.0,1000.0,500.0,350.0,1000.0,1200.0,300.0,600.0,200.0,600.0,400.0,800.0,250.0,150.0,1000.0,800.0,350.0,250.0,550.0,800.0,400.0,650.0,200.0,400.0,300.0,600.0,600.0,200.0,300.0,1100.0,500.0,600.0,500.0,400.0,550.0,500.0,400.0,400.0,450.0,300.0,650.0,450.0,800.0,600.0,450.0,800.0,750.0,400.0,750.0,300.0,600.0,650.0,600.0,250.0,800.0,250.0,700.0,250.0,400.0,500.0,1000.0,350.0,700.0,900.0,300.0,200.0,400.0,350.0,500.0,800.0,500.0,800.0,300.0,700.0,650.0,750.0,150.0,750.0,600.0,500.0,700.0,300.0,300.0,250.0,450.0,1000.0,300.0,700.0,300.0,400.0,500.0,700.0,800.0,500.0,300.0,750.0,300.0,800.0,200.0,450.0,900.0,600.0,300.0,450.0,650.0,600.0,750.0,500.0,750.0,750.0,500.0,1200.0,600.0,350.0,400.0,750.0,400.0,600.0,650.0,800.0,500.0,600.0,500.0,200.0,750.0,200.0,250.0,800.0,600.0,1500.0,150.0,750.0,150.0,500.0,450.0,400.0,750.0,500.0,300.0,450.0,1000.0,500.0,850.0,800.0,400.0,500.0,250.0,400.0,600.0,1700.0,400.0,1000.0,1000.0,1100.0,500.0,400.0,1400.0,400.0,200.0,250.0,500.0,500.0,500.0,300.0,350.0,300.0,300.0,700.0,300.0,400.0,600.0,500.0,400.0,400.0,400.0,550.0,400.0,1100.0,1400.0,2500.0,1500.0,1600.0,1300.0,1400.0,1100.0,1500.0,1300.0,1300.0,1500.0,1800.0,650.0,1200.0,2700.0,800.0,1600.0,1000.0,600.0,1000.0,600.0,1600.0,1100.0,900.0,1000.0,800.0,750.0,800.0,800.0,1500.0,1500.0,1000.0,600.0,2500.0,1300.0,500.0,1400.0,800.0,2000.0,1100.0,700.0,1100.0,850.0,1700.0,650.0,1500.0,800.0,750.0,750.0,800.0,800.0,800.0,850.0,800.0,1000.0,600.0,800.0,650.0,1300.0,1000.0,900.0,750.0,400.0,900.0,700.0,700.0,4500.0,800.0,600.0,1000.0,800.0,600.0,800.0,400.0,1100.0,650.0,750.0,450.0,500.0,300.0,500.0,1000.0,750.0,1200.0,650.0,650.0,700.0,500.0,500.0,400.0,1000.0,1000.0,450.0,750.0,2500.0,600.0,600.0,800.0,800.0,1000.0,400.0,550.0,1000.0,1200.0,500.0,600.0,400.0,650.0,800.0,700.0,750.0,600.0,700.0,250.0,600.0,1000.0,800.0,600.0,200.0,450.0,150.0,400.0,450.0,200.0,300.0,300.0,250.0,400.0,300.0,500.0,600.0,400.0,350.0,350.0,600.0,350.0,400.0,300.0,250.0,400.0,300.0,300.0,200.0,500.0,400.0,350.0,400.0,200.0,200.0,250.0,150.0,400.0,450.0,250.0,300.0,700.0,400.0,400.0,500.0,300.0,400.0,150.0,500.0,300.0,500.0,300.0,250.0,200.0,200.0,600.0,500.0,350.0,450.0,400.0,400.0,300.0,300.0,600.0,450.0,1200.0,1000.0,700.0,600.0,300.0,750.0,1500.0,600.0,600.0,800.0,800.0,800.0,700.0,750.0,750.0,800.0,500.0,250.0,300.0,550.0,400.0,600.0,500.0,500.0,400.0,400.0,500.0,500.0,850.0,300.0,600.0,500.0,500.0,600.0,900.0,600.0,400.0,450.0,350.0,400.0,450.0,1200.0,250.0,750.0,600.0,150.0,350.0,500.0,500.0,500.0,350.0,450.0,550.0,350.0,650.0,300.0,450.0,600.0,500.0,150.0,500.0,250.0,300.0,750.0,300.0,800.0,600.0,1400.0,1800.0,4500.0,1100.0,1500.0,1300.0,1500.0,1200.0,1600.0,1000.0,1500.0,1300.0,1100.0,1200.0,2500.0,1000.0,1200.0,1200.0,1500.0,1500.0,1500.0,2200.0,2100.0,3000.0,3000.0,1500.0,1600.0,3000.0,800.0,1800.0,1200.0,2800.0,1700.0,1400.0,1600.0,1500.0,2500.0,750.0,500.0,1000.0,1500.0,3400.0,2000.0,1200.0,800.0,1700.0,1600.0,2000.0,1300.0,2200.0,1200.0,1000.0,1200.0,650.0,1400.0,1900.0,1000.0,1000.0,500.0,1200.0,650.0,1300.0,1700.0,1200.0,1300.0,1000.0,1100.0,750.0,1200.0,1700.0,2500.0,450.0,500.0,800.0,700.0,1100.0,800.0,900.0,1000.0,600.0,600.0,650.0,1400.0,750.0,700.0,400.0,900.0,700.0,700.0,800.0,750.0,800.0,500.0,1000.0,1000.0,400.0,650.0,1200.0,500.0,500.0,600.0,400.0,1000.0,500.0,600.0,800.0,350.0,1300.0,1100.0,750.0,1000.0,800.0,650.0,500.0,600.0,1200.0,500.0,300.0,200.0,500.0,450.0,400.0,600.0,800.0,300.0,500.0,300.0,650.0,600.0,200.0,400.0,400.0,350.0,750.0,500.0,800.0,500.0,300.0,800.0,800.0,1000.0,500.0,750.0,400.0,550.0,400.0,750.0,950.0,400.0,600.0,400.0,800.0,150.0,1500.0,450.0,200.0,250.0,300.0,750.0,400.0,800.0,250.0,700.0,150.0,800.0,650.0,400.0,1200.0,900.0,1200.0,300.0,1100.0,400.0,500.0,600.0,1400.0,650.0,900.0,400.0,1300.0,500.0,700.0,800.0,300.0,800.0,800.0,750.0,1500.0,400.0,700.0,350.0,850.0,1600.0,500.0,400.0,650.0,800.0,1700.0,500.0,1200.0,1300.0,500.0,500.0,700.0,400.0,350.0,400.0,600.0,1600.0,650.0,700.0,400.0,550.0,500.0,300.0,1000.0,1500.0,650.0,1300.0,600.0,1200.0,600.0,1100.0,500.0,1500.0,400.0,700.0,900.0,400.0,600.0,500.0,400.0,500.0,500.0,800.0,600.0,1600.0,400.0,250.0,3000.0,350.0,250.0,250.0,1700.0,900.0,350.0,400.0,600.0,300.0,200.0,800.0,200.0,300.0,550.0,750.0,600.0,450.0,600.0,100.0,350.0,600.0,1300.0,180.0,1700.0,500.0,2100.0,700.0,300.0,500.0,2000.0,1000.0,1500.0,300.0,150.0,800.0,1500.0,700.0,750.0,400.0,1300.0,600.0,400.0,1000.0,700.0,500.0,800.0,1300.0,500.0,450.0,500.0,750.0,500.0,400.0,1300.0,600.0,700.0,500.0,700.0,750.0,500.0,1000.0,1200.0,500.0,2100.0,1000.0,500.0,1900.0,400.0,450.0,300.0,1400.0,300.0,600.0,2000.0,400.0,1000.0,650.0,950.0,1000.0,500.0,300.0,1400.0,800.0,1200.0,1000.0,1000.0,150.0,700.0,700.0,700.0,750.0,500.0,1500.0,300.0,700.0,700.0,800.0,450.0,1200.0,1800.0,500.0,800.0,200.0,1500.0,500.0,200.0,700.0,700.0,400.0,500.0,400.0,450.0,1000.0,400.0,1400.0,800.0,600.0,700.0,350.0,1500.0,1500.0,200.0,500.0,300.0,600.0,400.0,700.0,300.0,1800.0,800.0,1800.0,1000.0,800.0,2000.0,1200.0,300.0,500.0,300.0,600.0,1200.0,1000.0,700.0,400.0,250.0,200.0,250.0,200.0,1700.0,300.0,1000.0,350.0,400.0,650.0,300.0,800.0,1000.0,800.0,750.0,2000.0,1700.0,850.0,1000.0,850.0,650.0,500.0,600.0,400.0,1200.0,800.0,350.0,300.0,1500.0,550.0,300.0,700.0,300.0,700.0,300.0,800.0,750.0,1000.0,550.0,2000.0,700.0,300.0,400.0,800.0,550.0,250.0,600.0,300.0,1700.0,500.0,1200.0,1300.0,700.0,1300.0,1000.0,1200.0,1000.0,1400.0,800.0,700.0,2100.0,800.0,900.0,550.0,400.0,750.0,400.0,500.0,900.0,500.0,800.0,500.0,800.0,600.0,800.0,150.0,750.0,600.0,1200.0,1300.0,600.0,500.0,650.0,500.0,400.0,500.0,200.0,800.0,350.0,1000.0,500.0,1100.0,500.0,500.0,200.0,500.0,300.0,450.0,100.0,600.0,500.0,1600.0,600.0,1600.0,450.0,500.0,800.0,900.0,300.0,800.0,2000.0,1000.0,600.0,550.0,400.0,1250.0,400.0,1400.0,700.0,300.0,300.0,700.0,500.0,300.0,400.0,2000.0,1000.0,700.0,400.0,450.0,300.0,350.0,400.0,300.0,400.0,400.0,250.0,450.0,400.0,300.0,150.0,250.0,200.0,180.0,400.0,150.0,500.0,400.0,200.0,300.0,300.0,500.0,350.0,600.0,1300.0,800.0,200.0,1100.0,750.0,500.0,2100.0,1800.0,1500.0,1700.0,2800.0,2100.0,3000.0,1200.0,1500.0,1500.0,1700.0,200.0,1500.0,1000.0,3000.0,1500.0,2500.0,2000.0,1500.0,600.0,2000.0,3000.0,1000.0,2800.0,3000.0,1800.0,500.0,1000.0,1600.0,3000.0,3000.0,3000.0,2500.0,800.0,800.0,1500.0,750.0,350.0,700.0,2500.0,2500.0,1000.0,700.0,450.0,500.0,400.0,500.0,200.0,250.0,1800.0,1500.0,1500.0,2500.0,2000.0,3000.0,2200.0,3000.0,800.0,700.0,1100.0,1500.0,1500.0,2000.0,1500.0,2500.0,3500.0,1700.0,1700.0,1500.0,1200.0,1200.0,1300.0,1500.0,1300.0,2800.0,2100.0,700.0,1700.0,1600.0,1000.0,3000.0,800.0,2000.0,1500.0,1000.0,1900.0,1700.0,2000.0,1100.0,1300.0,2200.0,1400.0,1500.0,600.0,900.0,1200.0,2500.0,1600.0,1400.0,1300.0,1500.0,1000.0,1000.0,600.0,2500.0,4000.0,550.0,750.0,1300.0,1500.0,3000.0,500.0,1000.0,1100.0,650.0,1200.0,1500.0,1400.0,1500.0,1100.0,600.0,1300.0,1000.0,1300.0,650.0,850.0,750.0,1800.0,1000.0,1500.0,750.0,1000.0,1200.0,3400.0,700.0,1800.0,2000.0,3000.0,1000.0,1400.0,3500.0,700.0,1600.0,400.0,900.0,1500.0,1200.0,1200.0,800.0,1200.0,4000.0,500.0,1300.0,700.0,4000.0,1200.0,800.0,600.0,1200.0,1100.0,1100.0,1000.0,1700.0,2000.0,550.0,2000.0,650.0,3000.0,1600.0,800.0,2000.0,2000.0,3500.0,1300.0,700.0,1000.0,750.0,800.0,1800.0,800.0,650.0,800.0,2000.0,2200.0,950.0,800.0,3000.0,750.0,1500.0,1000.0,1100.0,550.0,700.0,500.0,1000.0,600.0,700.0,800.0,2000.0,700.0,1200.0,300.0,700.0,500.0,1000.0,1000.0,450.0,1000.0,650.0,550.0,650.0,1200.0,1200.0,1000.0,2000.0,1500.0,350.0,300.0,400.0,400.0,1800.0,500.0,500.0,2500.0,650.0,800.0,1400.0,500.0,600.0,500.0,800.0,600.0,850.0,700.0,400.0,2400.0,1400.0,1900.0,1000.0,500.0,1300.0,250.0,1000.0,600.0,700.0,500.0,3000.0,600.0,500.0,800.0,600.0,500.0,800.0,1200.0,500.0,800.0,1200.0,800.0,600.0,800.0,2000.0,600.0,800.0,600.0,600.0,550.0,400.0,250.0,400.0,300.0,500.0,200.0,150.0,300.0,300.0,500.0,300.0,300.0,150.0,250.0,200.0,450.0,150.0,300.0,600.0,400.0,350.0,200.0,250.0,400.0,250.0,400.0,300.0,400.0,500.0,500.0,500.0,400.0,500.0,350.0,400.0,500.0,300.0,300.0,300.0,300.0,450.0,300.0,100.0,500.0,1300.0,800.0,1600.0,2500.0,1100.0,1100.0,750.0,700.0,1300.0,1700.0,600.0,1000.0,1200.0,550.0,600.0,500.0,800.0,650.0,200.0,700.0,650.0,200.0,750.0,1300.0,500.0,200.0,1000.0,650.0,300.0,400.0,500.0,500.0,300.0,300.0,500.0,300.0,250.0,700.0,400.0,350.0,300.0,1100.0,500.0,400.0,250.0,800.0,600.0,700.0,600.0,300.0,1300.0,2000.0,2000.0,1700.0,1500.0,1000.0,1500.0,2800.0,3000.0,1000.0,3000.0,1500.0,1500.0,2500.0,2000.0,3000.0,3000.0,1500.0,1500.0,1500.0,2500.0,1700.0,1700.0,1200.0,1300.0,1300.0,1700.0,2000.0,1500.0,1900.0,1300.0,1000.0,1300.0,1500.0,3000.0,1100.0,1200.0,1400.0,1100.0,1000.0,1000.0,1600.0,1200.0,1200.0,1100.0,1100.0,1000.0,2000.0,2000.0,1500.0,1100.0,600.0,1000.0,1000.0,2000.0,1500.0,2500.0,2400.0,1400.0,1300.0,2500.0,1200.0,1300.0,1300.0,1200.0,1500.0,1000.0,1500.0,2000.0,1800.0,1000.0,3000.0,1500.0,2000.0,1500.0,2500.0,1700.0,1200.0,1200.0,1300.0,2100.0,1700.0,1900.0,1700.0,1000.0,1500.0,1300.0,1000.0,1100.0,1200.0,1400.0,1100.0,1300.0,1000.0,1000.0,1000.0,1600.0,1200.0,1200.0,4000.0,1200.0,1100.0,1200.0,1100.0,1000.0,1700.0,2000.0,2000.0,3500.0,1300.0,1800.0,1100.0,600.0,1000.0,1200.0,1000.0,1800.0,1400.0,1300.0,800.0,1300.0,2500.0,1400.0,1100.0,1800.0,900.0,900.0,1200.0,700.0,650.0,800.0,600.0,600.0,800.0,1000.0,500.0,900.0,800.0,1100.0,700.0,900.0,700.0,250.0,400.0,600.0,500.0,650.0,650.0,300.0,350.0,400.0,300.0,450.0,400.0,800.0,500.0,600.0,300.0,600.0,1400.0,500.0,600.0,500.0,400.0,850.0,500.0,800.0,250.0,300.0,300.0,500.0,400.0,300.0,500.0,100.0,600.0,700.0,750.0,400.0,750.0,450.0,500.0,400.0,600.0,1700.0,800.0,200.0,300.0,500.0,600.0,300.0,700.0,400.0,650.0,500.0,500.0,300.0,1200.0,700.0,250.0,400.0,300.0,200.0,900.0,350.0,450.0,700.0,500.0,650.0,700.0,800.0,150.0,400.0,500.0,800.0,700.0,300.0,650.0,300.0,450.0,400.0,400.0,500.0,500.0,600.0,1000.0,400.0,900.0,1250.0,650.0,500.0,300.0,600.0,600.0,800.0,1000.0,600.0,400.0,400.0,1100.0,800.0,800.0,400.0,600.0,300.0,700.0,700.0,700.0,100.0,700.0,1100.0,400.0,900.0,900.0,400.0,350.0,500.0,400.0,200.0,600.0,150.0,800.0,350.0,200.0,1100.0,1400.0,450.0,450.0,400.0,700.0,800.0,250.0,600.0,650.0,400.0,700.0,400.0,400.0,300.0,600.0,500.0,600.0,900.0,700.0,400.0,500.0,400.0,300.0,200.0,400.0,500.0,400.0,300.0,400.0,200.0,500.0,350.0,1400.0,900.0,1200.0,1400.0,1200.0,600.0,500.0,1000.0,800.0,700.0,800.0,1000.0,700.0,700.0,650.0,1100.0,500.0,500.0,400.0,800.0,600.0,700.0,400.0,600.0,400.0,800.0,800.0,1400.0,600.0,750.0,600.0,700.0,650.0,1400.0,800.0,1000.0,500.0,1100.0,900.0,700.0,300.0,650.0,800.0,1100.0,750.0,1800.0,850.0,700.0,800.0,900.0,700.0,400.0,900.0,700.0,650.0,700.0,250.0,650.0,400.0,600.0,400.0,600.0,700.0,300.0,350.0,500.0,400.0,400.0,500.0,300.0,600.0,500.0,300.0,300.0,500.0,500.0,450.0,350.0,300.0,400.0,400.0,400.0,250.0,400.0,400.0,400.0,600.0,200.0,400.0,300.0,300.0,350.0,400.0,400.0,300.0,350.0,1400.0,1200.0,1400.0,1200.0,1400.0,1100.0,1200.0,1400.0,1400.0,1200.0,1000.0,1400.0,1100.0,1800.0,1200.0,3000.0,3500.0,2200.0,1400.0,1500.0,1600.0,1900.0,1400.0,1700.0,1500.0,1200.0,1300.0,600.0,750.0,800.0,1000.0,1200.0,1200.0,1500.0,1700.0,1000.0,1100.0,700.0,450.0,700.0,500.0,800.0,900.0,1000.0,1000.0,1600.0,200.0,700.0,500.0,1000.0,700.0,800.0,650.0,400.0,400.0,700.0,700.0,450.0,800.0,500.0,800.0,750.0,600.0,700.0,500.0,500.0,200.0,600.0,500.0,500.0,600.0,500.0,500.0,300.0,200.0,800.0,450.0,450.0,300.0,400.0,400.0,150.0,200.0,400.0,600.0,300.0,750.0,600.0,250.0,400.0,200.0,300.0,400.0,400.0,300.0,600.0,700.0,250.0,700.0,400.0,500.0,400.0,650.0,350.0,1000.0,300.0,450.0,400.0,600.0,1000.0,500.0,500.0,800.0,1000.0,350.0,800.0,800.0,1000.0,600.0,400.0,500.0,800.0,400.0,650.0,850.0,700.0,300.0,300.0,950.0,800.0,500.0,350.0,600.0,350.0,600.0,250.0,800.0,600.0,400.0,1500.0,600.0,200.0,600.0,600.0,300.0,300.0,500.0,200.0,700.0,800.0,600.0,300.0,250.0,600.0,700.0,750.0,800.0,300.0,500.0,500.0,500.0,1200.0,750.0,300.0,300.0,500.0,1200.0,400.0,1200.0,300.0,800.0,1200.0,1600.0,1100.0,400.0,250.0,500.0,650.0,600.0,400.0,900.0,500.0,100.0,700.0,500.0,400.0,300.0,500.0,600.0,1700.0,500.0,600.0,400.0,800.0,1200.0,800.0,1500.0,600.0,1300.0,400.0,750.0,350.0,450.0,500.0,500.0,1500.0,500.0,650.0,150.0,800.0,1400.0,500.0,350.0,350.0,400.0,600.0,500.0,300.0,650.0,400.0,550.0,450.0,600.0,400.0,500.0,300.0,1200.0,1500.0,1800.0,800.0,400.0,200.0,800.0,900.0,1100.0,600.0,500.0,500.0,500.0,450.0,800.0,250.0,600.0,1600.0,600.0,300.0,350.0,400.0,800.0,800.0,550.0,550.0,900.0,350.0,400.0,600.0,400.0,450.0,200.0,200.0,300.0,1500.0,550.0,200.0,750.0,450.0,600.0,500.0,650.0,300.0,300.0,600.0,800.0,1400.0,600.0,200.0,500.0,500.0,800.0,600.0,1000.0,600.0,400.0,350.0,350.0,700.0,400.0,500.0,400.0,500.0,700.0,300.0,800.0,500.0,1200.0,250.0,500.0,400.0,400.0,300.0,600.0,700.0,1200.0,450.0,200.0,600.0,1000.0,300.0,500.0,150.0,700.0,250.0,1500.0,700.0,300.0,1000.0,450.0,200.0,500.0,750.0,500.0,450.0,500.0,1400.0,1200.0,400.0,300.0,550.0,500.0,500.0,150.0,400.0,450.0,450.0,400.0,300.0,1200.0,750.0,300.0,300.0,1000.0,450.0,250.0,200.0,300.0,250.0,1900.0,750.0,400.0,200.0,500.0,1200.0,150.0,1500.0,900.0,400.0,800.0,700.0,700.0,600.0,800.0,2000.0,500.0,350.0,700.0,800.0,300.0,400.0,400.0,200.0,200.0,600.0,500.0,500.0,1700.0,1500.0,1600.0,400.0,1400.0,900.0,700.0,800.0,800.0,900.0,1500.0,650.0,700.0,500.0,800.0,300.0,600.0,350.0,600.0,400.0,200.0,700.0,150.0,500.0,400.0,700.0,400.0,450.0,250.0,1100.0,400.0,300.0,200.0,500.0,500.0,300.0,500.0,500.0,500.0,500.0,1500.0,600.0,600.0,500.0,400.0,400.0,1200.0,700.0,200.0,400.0,200.0,250.0,300.0,200.0,1200.0,400.0,800.0,900.0,1000.0,200.0,700.0,400.0,300.0,400.0,400.0,400.0,300.0,300.0,450.0,800.0,400.0,500.0,400.0,400.0,400.0,800.0,800.0,750.0,300.0,500.0,300.0,600.0,350.0,400.0,300.0,200.0,300.0,200.0,200.0,300.0,500.0,450.0,600.0,1800.0,3500.0,4000.0,1000.0,1000.0,2200.0,1400.0,2000.0,700.0,6000.0,3500.0,2400.0,900.0,1500.0,700.0,450.0,800.0,300.0,600.0,550.0,400.0,750.0,1900.0,3000.0,500.0,200.0,400.0,250.0,400.0,350.0,150.0,300.0,400.0,400.0,700.0,500.0,500.0,400.0,400.0,500.0,400.0,450.0,250.0,600.0,600.0,850.0,700.0,500.0,750.0,500.0,800.0,500.0,600.0,750.0,650.0,600.0,500.0,400.0,700.0,500.0,500.0,600.0,500.0,500.0,800.0,400.0,350.0,300.0,150.0,250.0,200.0,150.0,200.0,550.0,250.0,450.0,300.0,500.0,350.0,150.0,450.0,350.0,450.0,500.0,400.0,200.0,250.0,400.0,350.0,1600.0,1000.0,800.0,1500.0,1800.0,1400.0,2000.0,1200.0,1500.0,1900.0,1500.0,1500.0,1200.0,1600.0,1400.0,1500.0,2500.0,1300.0,1000.0,1400.0,1700.0,1700.0,900.0,1500.0,1500.0,1200.0,1300.0,1400.0,700.0,1300.0,1600.0,1000.0,1000.0,1200.0,1100.0,1000.0,3000.0,1500.0,600.0,2000.0,800.0,1700.0,750.0,1200.0,600.0,800.0,800.0,1200.0,1600.0,800.0,200.0,1000.0,1100.0,900.0,700.0,1500.0,700.0,1100.0,1300.0,1500.0,1500.0,450.0,650.0,500.0,1000.0,1000.0,1800.0,1500.0,700.0,800.0,650.0,1100.0,1200.0,1200.0,1500.0,800.0,500.0,1400.0,1800.0,1500.0,700.0,1800.0,800.0,500.0,1200.0,1700.0,2000.0,1300.0,1600.0,800.0,500.0,450.0,300.0,1000.0,800.0,300.0,800.0,600.0,800.0,300.0,600.0,3000.0,1000.0,600.0,400.0,350.0,300.0,400.0,700.0,400.0,400.0,200.0,300.0,700.0,150.0,600.0,600.0,300.0,600.0,400.0,500.0,250.0,1800.0,1300.0,350.0,400.0,500.0,350.0,600.0,300.0,500.0,450.0,500.0,250.0,1100.0,600.0,1200.0,500.0,500.0,300.0,250.0,500.0,200.0,600.0,1500.0,1800.0,1000.0,1800.0,2400.0,3000.0,1400.0,2000.0,1900.0,1500.0,1400.0,1300.0,1400.0,1300.0,1300.0,1400.0,1000.0,1500.0,2000.0,1700.0,1600.0,1100.0,1100.0,1500.0,1500.0,1800.0,1500.0,1100.0,1400.0,1800.0,1200.0,1300.0,1600.0,1000.0,1300.0,1300.0,1000.0,1800.0,1000.0,1400.0,1800.0,900.0,1000.0,1400.0,2000.0,1200.0,1500.0,1500.0,2500.0,1300.0,1500.0,1300.0,1400.0,1700.0,800.0,1100.0,1100.0,1500.0,1500.0,1800.0,1100.0,1400.0,1500.0,1200.0,1700.0,2000.0,1300.0,1000.0,1300.0,1200.0,1600.0,800.0,1800.0,750.0,1000.0,600.0,900.0,600.0,2000.0,1200.0,1700.0,1500.0,1100.0,1000.0,1000.0,600.0,600.0,500.0,600.0,500.0,700.0,500.0,700.0,350.0,500.0,400.0,500.0,450.0,500.0,450.0,400.0,750.0,400.0,400.0,300.0,850.0,700.0,250.0,400.0,500.0,450.0,1100.0,250.0,1000.0,350.0,600.0,300.0,250.0,400.0,400.0,800.0,250.0,500.0,400.0,150.0,650.0,500.0,200.0,600.0,350.0,750.0,450.0,450.0,500.0,800.0,300.0,600.0,500.0,400.0,600.0,800.0,600.0,600.0,1400.0,700.0,2000.0,1700.0,1200.0,350.0,500.0,600.0,600.0,1100.0,600.0,450.0,400.0,300.0,800.0,600.0,400.0,1000.0,650.0,600.0,800.0,700.0,500.0,400.0,150.0,250.0,200.0,350.0,400.0,1000.0,300.0,450.0,500.0,1100.0,500.0,1500.0,300.0,1200.0,500.0,500.0,300.0,400.0,250.0,300.0,300.0,500.0,900.0,350.0,600.0,800.0,1100.0,300.0,400.0,600.0,700.0,800.0,800.0,1400.0,600.0,120.0,1000.0,400.0,250.0,400.0,400.0,150.0,100.0,800.0,900.0,500.0,150.0,1000.0,400.0,750.0,150.0,150.0,200.0,350.0,600.0,300.0,150.0,900.0,300.0,100.0,350.0,600.0,600.0,1500.0,500.0,1100.0,200.0,400.0,600.0,750.0,800.0,250.0,500.0,500.0,600.0,200.0,500.0,400.0,500.0,600.0,250.0,200.0,500.0,100.0,500.0,600.0,350.0,250.0,200.0,500.0,400.0,700.0,250.0,250.0,300.0,100.0,250.0,200.0,450.0,300.0,400.0,1650.0,1100.0,1600.0,400.0,600.0,800.0,700.0,1800.0,700.0,750.0,900.0,1100.0,450.0,800.0,900.0,800.0,1000.0,600.0,700.0,700.0,600.0,350.0,500.0,900.0,1000.0,600.0,600.0,1200.0,400.0,300.0,400.0,400.0,400.0,350.0,600.0,450.0,300.0,300.0,450.0,750.0,450.0,800.0,600.0,600.0,350.0,300.0,500.0,500.0,1200.0,800.0,750.0,750.0,600.0,500.0,800.0,250.0,400.0,400.0,500.0,600.0,200.0,400.0,2600.0,2000.0,1800.0,2000.0,1200.0,1300.0,2500.0,1700.0,1400.0,1000.0,1000.0,1500.0,1400.0,800.0,150.0,1400.0,1400.0,1200.0,1200.0,600.0,500.0,1500.0,1100.0,1500.0,1500.0,250.0,1100.0,650.0,1000.0,700.0,500.0,100.0,500.0,600.0,500.0,300.0,1100.0,850.0,2500.0,250.0,600.0,1500.0,150.0,700.0,1100.0,200.0,600.0,350.0,450.0,200.0,150.0,600.0,600.0,200.0,250.0,300.0,300.0,400.0,350.0,2000.0,200.0,250.0,400.0,600.0,1000.0,200.0,500.0,400.0,250.0,500.0,200.0,300.0,500.0,200.0,300.0,300.0,300.0,400.0,400.0,500.0,450.0,800.0,550.0,500.0,150.0,300.0,500.0,1200.0,1650.0,1000.0,2600.0,1800.0,1400.0,1400.0,1200.0,1500.0,1500.0,1100.0,1100.0,800.0,2000.0,1200.0,1650.0,1100.0,1800.0,800.0,900.0,1200.0,800.0,1400.0,1400.0,1400.0,1200.0,1500.0,1100.0,1100.0,800.0,2000.0,1200.0,1500.0,500.0,3400.0,2000.0,1900.0,1800.0,1500.0,2200.0,2100.0,3000.0,1200.0,1700.0,1400.0,2500.0,750.0,3000.0,1500.0,1000.0,1500.0,1500.0,2000.0,1200.0,800.0,1200.0,1700.0,1600.0,1300.0,1600.0,3000.0,1000.0,1200.0,1000.0,650.0,1400.0,800.0,1000.0,1000.0,500.0,1200.0,650.0,2800.0,1600.0,1300.0,1700.0,1300.0,1800.0,1600.0,1000.0,1100.0,750.0,1200.0,800.0,400.0,400.0,600.0,1100.0,900.0,1700.0,1000.0,600.0,600.0,2500.0,650.0,1400.0,700.0,900.0,450.0,700.0,800.0,750.0,650.0,500.0,500.0,1000.0,1200.0,650.0,500.0,800.0,1000.0,500.0,700.0,800.0,350.0,1300.0,750.0,1100.0,750.0,1000.0,750.0,1000.0,600.0,500.0,450.0,300.0,500.0,500.0,650.0,200.0,350.0,500.0,500.0,200.0,650.0,300.0,400.0,600.0,750.0,500.0,550.0,500.0,1200.0,150.0,250.0,600.0,600.0,800.0,750.0,400.0,450.0,300.0,400.0,800.0,650.0,900.0,500.0,600.0,1300.0,400.0,800.0,400.0,550.0,750.0,1400.0,1600.0,400.0,400.0,350.0,500.0,1500.0,300.0,1300.0,400.0,600.0,600.0,300.0,1100.0,1300.0,250.0,850.0,300.0,500.0,400.0,400.0,1700.0,1200.0,1500.0,200.0,400.0,1600.0,800.0,700.0,1200.0,300.0,300.0,500.0,250.0,450.0,700.0,600.0,400.0,700.0,700.0,600.0,400.0,500.0,450.0,550.0,500.0,1000.0,400.0,1000.0,700.0,400.0,750.0,700.0,400.0,300.0,800.0,1300.0,650.0,400.0,750.0,1500.0,350.0,800.0,1000.0,1400.0,500.0,800.0,500.0,1300.0,700.0,600.0,600.0,450.0,500.0,1500.0,800.0,180.0,2100.0,400.0,300.0,400.0,1700.0,400.0,150.0,1000.0,3000.0,200.0,1700.0,1000.0,200.0,1000.0,300.0,600.0,1300.0,2000.0,1300.0,650.0,950.0,200.0,300.0,700.0,800.0,300.0,400.0,600.0,500.0,1400.0,400.0,700.0,300.0,400.0,500.0,600.0,700.0,250.0,200.0,700.0,1500.0,750.0,800.0,900.0,700.0,2000.0,1500.0,1500.0,700.0,1000.0,500.0,350.0,1000.0,1000.0,1000.0,250.0,1000.0,700.0,1900.0,800.0,550.0,2100.0,600.0,750.0,1400.0,1000.0,1200.0,300.0,350.0,300.0,2000.0,300.0,500.0,400.0,1200.0,750.0,700.0,800.0,2000.0,1800.0,850.0,1500.0,200.0,600.0,400.0,800.0,300.0,600.0,1800.0,850.0,1800.0,800.0,500.0,1000.0,750.0,1200.0,650.0,700.0,800.0,100.0,800.0,600.0,1000.0,650.0,500.0,1300.0,700.0,400.0,200.0,1000.0,800.0,300.0,500.0,1700.0,250.0,1200.0,400.0,1200.0,1000.0,1500.0,1600.0,700.0,2100.0,800.0,900.0,1700.0,1400.0,600.0,400.0,750.0,500.0,900.0,450.0,500.0,150.0,450.0,600.0,1200.0,500.0,500.0,550.0,400.0,450.0,500.0,200.0,800.0,800.0,800.0,1000.0,500.0,1100.0,200.0,800.0,500.0,550.0,300.0,450.0,350.0,300.0,250.0,1300.0,600.0,500.0,400.0,600.0,1600.0,1300.0,550.0,800.0,2000.0,400.0,400.0,150.0,400.0,500.0,500.0,350.0,600.0,800.0,1000.0,600.0,550.0,1250.0,400.0,1400.0,300.0,700.0,450.0,300.0,500.0,1000.0,500.0,450.0,300.0,400.0,300.0,800.0,250.0,450.0,400.0,900.0,150.0,250.0,180.0,400.0,500.0,200.0,300.0,300.0,300.0,1300.0,750.0,1100.0,300.0,2000.0,700.0,350.0,400.0,300.0,300.0,400.0,2000.0,1500.0,800.0,3500.0,1700.0,800.0,2000.0,600.0,1200.0,1400.0,550.0,3000.0,500.0,400.0,3400.0,1000.0,800.0,4000.0,1000.0,2000.0,3500.0,1000.0,800.0,550.0,700.0,1000.0,2000.0,600.0,1900.0,250.0,500.0,600.0,300.0,200.0,500.0,400.0,500.0,100.0,500.0,1700.0,1800.0,1500.0,1500.0,2500.0,2000.0,3000.0,2200.0,3000.0,2800.0,700.0,1500.0,1100.0,2100.0,1500.0,1500.0,2000.0,3000.0,2500.0,1700.0,1500.0,1200.0,1200.0,1300.0,1500.0,1300.0,2100.0,1200.0,1600.0,800.0,1700.0,1600.0,1000.0,3000.0,1500.0,1500.0,700.0,1500.0,2500.0,1000.0,2100.0,1900.0,1100.0,1300.0,1700.0,2200.0,1400.0,1500.0,900.0,1700.0,1300.0,1000.0,1000.0,600.0,2500.0,1400.0,200.0,1500.0,4000.0,750.0,1500.0,3000.0,1500.0,1000.0,1100.0,650.0,1200.0,2500.0,1500.0,1500.0,2000.0,1000.0,1400.0,1500.0,1100.0,1300.0,650.0,750.0,850.0,1800.0,1000.0,1500.0,1000.0,1200.0,2000.0,1400.0,3500.0,700.0,1600.0,1500.0,1200.0,1200.0,1500.0,1200.0,4000.0,700.0,1300.0,1200.0,800.0,600.0,1100.0,1100.0,900.0,2000.0,1200.0,1700.0,1600.0,800.0,2000.0,3000.0,2000.0,1200.0,1000.0,700.0,800.0,500.0,2800.0,1800.0,650.0,3000.0,750.0,650.0,1800.0,950.0,3000.0,750.0,500.0,750.0,1500.0,1000.0,1100.0,500.0,600.0,800.0,1200.0,1000.0,700.0,300.0,1300.0,1000.0,500.0,1600.0,500.0,3000.0,1000.0,1000.0,400.0,550.0,1200.0,650.0,1200.0,1000.0,350.0,400.0,3000.0,1200.0,3000.0,400.0,500.0,1800.0,2500.0,650.0,800.0,2500.0,700.0,1400.0,800.0,500.0,800.0,600.0,850.0,700.0,500.0,800.0,1000.0,500.0,1300.0,1500.0,1000.0,700.0,500.0,3000.0,600.0,800.0,600.0,500.0,800.0,1200.0,500.0,550.0,800.0,800.0,1200.0,350.0,650.0,800.0,2000.0,700.0,600.0,2500.0,800.0,600.0,1000.0,600.0,550.0,400.0,250.0,700.0,400.0,500.0,200.0,300.0,150.0,450.0,300.0,500.0,300.0,300.0,150.0,300.0,450.0,500.0,300.0,400.0,250.0,400.0,250.0,350.0,300.0,400.0,500.0,500.0,400.0,200.0,500.0,400.0,350.0,250.0,250.0,300.0,300.0,450.0,600.0,1300.0,2800.0,2500.0,1600.0,1100.0,1300.0,600.0,600.0,1300.0,1000.0,750.0,1100.0,1800.0,3000.0,750.0,1300.0,1700.0,500.0,600.0,1200.0,1000.0,2000.0,750.0,3000.0,1300.0,750.0,800.0,2000.0,850.0,700.0,700.0,600.0,750.0,700.0,1800.0,300.0,1600.0,150.0,900.0,450.0,1000.0,400.0,450.0,300.0,150.0,2200.0,200.0,200.0,500.0,1000.0,2400.0,150.0,350.0,400.0,400.0,400.0,1000.0,600.0,450.0,1100.0,450.0,300.0,800.0,150.0,300.0,300.0,600.0,2000.0,1700.0,1500.0,1500.0,1700.0,1200.0,3000.0,1000.0,1000.0,1000.0,2000.0,2500.0,3000.0,3000.0,1500.0,1500.0,2000.0,1500.0,2500.0,1700.0,1200.0,1300.0,1300.0,1700.0,1500.0,1500.0,2500.0,1900.0,1300.0,1300.0,1000.0,1500.0,1100.0,1200.0,1000.0,1400.0,1100.0,1000.0,1600.0,1200.0,1200.0,1500.0,1100.0,1100.0,2000.0,2000.0,1200.0,2800.0,3000.0,1500.0,1100.0,600.0,1000.0,1000.0,3000.0,1200.0,2500.0,1500.0,1300.0,1300.0,1000.0,2200.0,2400.0,1500.0,2000.0,1400.0,1600.0,1300.0,1800.0,1100.0,1500.0,1500.0,500.0,700.0,1900.0,1000.0,1400.0,1500.0,1200.0,2500.0,1500.0,1500.0,1100.0,1500.0,1000.0,700.0,800.0,500.0,600.0,800.0,600.0,500.0,200.0,600.0,800.0,400.0,600.0,500.0,1000.0,500.0,400.0,650.0,500.0,450.0,200.0,450.0,400.0,300.0,400.0,500.0,200.0,500.0,500.0,400.0,400.0,400.0,600.0,300.0,600.0,250.0,400.0,650.0,450.0,600.0,400.0,950.0,650.0,500.0,200.0,400.0,200.0,600.0,350.0,600.0,1200.0,800.0,150.0,500.0,1500.0,300.0,500.0,400.0,700.0,800.0,400.0,400.0,100.0,800.0,600.0,300.0,100.0,600.0,500.0,400.0,500.0,450.0,1200.0,600.0,700.0,800.0,200.0,600.0,500.0,250.0,200.0,450.0,450.0,500.0,400.0,800.0,800.0,1400.0,600.0,300.0,500.0,200.0,400.0,250.0,900.0,300.0,200.0,500.0,750.0,600.0,400.0,500.0,300.0,350.0,400.0,350.0,450.0,200.0,700.0,400.0,800.0,900.0,750.0,400.0,600.0,700.0,650.0,1000.0,500.0,300.0,200.0,500.0,300.0,800.0,800.0,150.0,500.0,400.0,300.0,600.0,300.0,600.0,750.0,300.0,500.0,400.0,750.0,450.0,400.0,800.0,450.0,750.0,600.0,1300.0,400.0,1400.0,1200.0,800.0,1300.0,1600.0,1800.0,500.0,450.0,400.0,600.0,600.0,1500.0,700.0,600.0,800.0,1500.0,600.0,250.0,1500.0,800.0,850.0,500.0,1800.0,1000.0,1100.0,500.0,900.0,1500.0,600.0,500.0,1000.0,1500.0,500.0,700.0,250.0,500.0,1000.0,700.0,550.0,1100.0,1200.0,600.0,600.0,500.0,1500.0,1700.0,900.0,600.0,400.0,1200.0,800.0,1400.0,1400.0,800.0,300.0,400.0,1400.0,1700.0,500.0,1000.0,1500.0,1000.0,550.0,200.0,700.0,300.0,400.0,500.0,600.0,500.0,700.0,500.0,1500.0,500.0,500.0,400.0,800.0,300.0,400.0,500.0,250.0,600.0,800.0,750.0,500.0,300.0,700.0,500.0,400.0,200.0,800.0,500.0,700.0,450.0,150.0,800.0,550.0,600.0,550.0,300.0,600.0,300.0,100.0,150.0,600.0,330.0,600.0,600.0,400.0,400.0,500.0,400.0,750.0,600.0,200.0,500.0,300.0,200.0,800.0,300.0,500.0,400.0,400.0,350.0,400.0,500.0,500.0,300.0,200.0,500.0,250.0,500.0,600.0,600.0,900.0,300.0,1400.0,1500.0,1500.0,1600.0,1400.0,1500.0,1900.0,1600.0,1400.0,1300.0,1300.0,1800.0,1400.0,600.0,1100.0,1500.0,1500.0,1500.0,2000.0,600.0,700.0,700.0,800.0,800.0,500.0,500.0,850.0,800.0,1200.0,900.0,700.0,800.0,1000.0,600.0,800.0,600.0,700.0,400.0,200.0,800.0,900.0,600.0,600.0,800.0,700.0,500.0,400.0,1000.0,1200.0,1900.0,550.0,500.0,550.0,600.0,500.0,450.0,800.0,300.0,150.0,500.0,500.0,400.0,450.0,200.0,600.0,100.0,250.0,300.0,400.0,500.0,250.0,300.0,200.0,350.0,400.0,400.0,500.0,250.0,600.0,300.0,500.0,400.0,750.0,300.0,300.0,1000.0,1800.0,1700.0,1800.0,1400.0,1500.0,750.0,1200.0,800.0,2000.0,1200.0,950.0,2000.0,600.0,2500.0,400.0,700.0,600.0,750.0,1500.0,1500.0,1100.0,1200.0,600.0,900.0,400.0,500.0,650.0,500.0,1500.0,800.0,1800.0,450.0,1400.0,600.0,500.0,200.0,800.0,300.0,500.0,300.0,550.0,400.0,800.0,500.0,200.0,1000.0,400.0,250.0,500.0,300.0,400.0,600.0,2500.0,200.0,500.0,450.0,800.0,350.0,200.0,700.0,330.0,200.0,400.0,600.0,250.0,400.0,200.0,500.0,450.0,500.0,400.0,800.0,550.0,400.0,400.0,600.0,1000.0,450.0,400.0,800.0,1500.0,1400.0,1400.0,1600.0,1400.0,1500.0,1900.0,1500.0,1300.0,1500.0,1200.0,900.0,1000.0,1700.0,1500.0,1500.0,1800.0,1400.0,2500.0,1500.0,1400.0,1800.0,1400.0,1400.0,1500.0,1900.0,1300.0,1800.0,1200.0,900.0,1700.0,1800.0,1400.0,1500.0,1100.0,700.0,900.0,550.0,600.0,1400.0,500.0,900.0,1100.0,700.0,2000.0,600.0,600.0,1000.0,900.0,700.0,350.0,400.0,650.0,400.0,400.0,700.0,1000.0,800.0,500.0,300.0,400.0,750.0,600.0,250.0,400.0,700.0,600.0,400.0,400.0,400.0,200.0,300.0,400.0,250.0,500.0,500.0,700.0,500.0,400.0,300.0,600.0,800.0,450.0,800.0,350.0,450.0,750.0,550.0,200.0,800.0,600.0,750.0,450.0,400.0,300.0,500.0,400.0,800.0,650.0,1000.0,600.0,500.0,400.0,500.0,500.0,300.0,350.0,600.0,550.0,600.0,1100.0,900.0,300.0,250.0,350.0,150.0,800.0,200.0,400.0,400.0,200.0,750.0,450.0,200.0,900.0,550.0,500.0,300.0,500.0,250.0,600.0,900.0,1000.0,1700.0,1200.0,2000.0,400.0,400.0,400.0,1400.0,450.0,300.0,600.0,400.0,600.0,500.0,650.0,300.0,600.0,500.0,300.0,500.0,300.0,300.0,450.0,1000.0,850.0,2000.0,300.0,700.0,300.0,750.0,500.0,400.0,400.0,300.0,250.0,400.0,300.0,500.0,400.0,1500.0,300.0,400.0,700.0,400.0,500.0,1500.0,400.0,1400.0,400.0,500.0,500.0,1800.0,450.0,400.0,1500.0,1600.0,1500.0,1500.0,900.0,500.0,200.0,600.0,500.0,400.0,1600.0,1000.0,550.0,250.0,600.0,500.0,550.0,500.0,1400.0,800.0,300.0,600.0,1200.0,400.0,600.0,400.0,500.0,1500.0,500.0,450.0,800.0,150.0,1000.0,600.0,300.0,650.0,300.0,200.0,500.0,700.0,300.0,450.0,1500.0,400.0,150.0,300.0,800.0,700.0,700.0,900.0,200.0,350.0,900.0,1200.0,750.0,700.0,700.0,500.0,200.0,600.0,2000.0,700.0,800.0,200.0,300.0,1200.0,400.0,500.0,750.0,1000.0,800.0,1400.0,300.0,800.0,800.0,800.0,350.0,500.0,350.0,400.0,400.0,350.0,1000.0,1400.0,750.0,1100.0,800.0,600.0,350.0,1100.0,750.0,900.0,400.0,700.0,1700.0,600.0,600.0,1200.0,800.0,350.0,1000.0,300.0,500.0,700.0,500.0,650.0,700.0,300.0,300.0,500.0,600.0,400.0,400.0,400.0,450.0,450.0,1500.0,1200.0,800.0,400.0,500.0,1100.0,500.0,800.0,800.0,600.0,400.0,600.0,300.0,750.0,800.0,500.0,900.0,700.0,600.0,700.0,1000.0,500.0,1700.0,500.0,1000.0,450.0,800.0,900.0,550.0,600.0,400.0,400.0,500.0,700.0,150.0,500.0,400.0,600.0,1500.0,450.0,500.0,450.0,400.0,1000.0,200.0,300.0,300.0,150.0,800.0,250.0,500.0,1500.0,400.0,600.0,400.0,400.0,200.0,250.0,300.0,300.0,500.0,1000.0,2000.0,2500.0,2400.0,2500.0,1600.0,1600.0,1400.0,1600.0,1700.0,1700.0,1700.0,1100.0,2000.0,1000.0,1500.0,1900.0,1500.0,1600.0,1800.0,1800.0,1700.0,1200.0,1500.0,2000.0,1000.0,1500.0,900.0,550.0,1600.0,2500.0,650.0,800.0,800.0,800.0,1700.0,1400.0,1000.0,1800.0,2000.0,1400.0,800.0,750.0,1500.0,2000.0,700.0,1000.0,850.0,1200.0,900.0,1400.0,700.0,800.0,1200.0,1500.0,750.0,1700.0,2000.0,800.0,550.0,1400.0,2000.0,1500.0,900.0,1100.0,700.0,2500.0,1100.0,900.0,400.0,1000.0,3000.0,1000.0,700.0,800.0,1450.0,300.0,2000.0,800.0,1000.0,1400.0,700.0,600.0,750.0,1500.0,1500.0,1500.0,1000.0,700.0,2000.0,900.0,2500.0,800.0,600.0,900.0,2100.0,800.0,400.0,1200.0,600.0,1200.0,800.0,700.0,1000.0,1500.0,600.0,3000.0,300.0,300.0,350.0,400.0,500.0,800.0,800.0,700.0,1700.0,750.0,400.0,1200.0,500.0,2000.0,350.0,1500.0,600.0,750.0,2000.0,400.0,3000.0,650.0,500.0,800.0,1900.0,450.0,1200.0,750.0,1000.0,800.0,2000.0,700.0,1200.0,600.0,700.0,400.0,700.0,1800.0,700.0,700.0,250.0,700.0,600.0,600.0,800.0,150.0,650.0,550.0,1100.0,1600.0,900.0,500.0,350.0,450.0,500.0,600.0,700.0,600.0,500.0,200.0,600.0,350.0,400.0,300.0,350.0,600.0,400.0,500.0,300.0,350.0,400.0,300.0,400.0,450.0,250.0,500.0,300.0,400.0,500.0,400.0,200.0,200.0,400.0,400.0,300.0,300.0,600.0,400.0,350.0,400.0,400.0,350.0,400.0,400.0,400.0,600.0,450.0,300.0,300.0,400.0,200.0,300.0,550.0,350.0,500.0,600.0,550.0,400.0,450.0,500.0,300.0,400.0,400.0,450.0,500.0,500.0,600.0,300.0,500.0,400.0,400.0,450.0,400.0,400.0,350.0,700.0,500.0,500.0,300.0,400.0,1500.0,2500.0,1000.0,800.0,500.0,500.0,300.0,500.0,600.0,1800.0,400.0,300.0,1700.0,1200.0,1600.0,2400.0,2500.0,1700.0,1000.0,1900.0,1500.0,1000.0,1500.0,1600.0,1700.0,1800.0,1200.0,1500.0,1400.0,1450.0,1500.0,1500.0,2100.0,1700.0,1200.0,2000.0,1800.0,800.0,2500.0,1600.0,1900.0,1700.0,2400.0,2500.0,1700.0,1100.0,1000.0,1500.0,1800.0,1000.0,1200.0,1500.0,1600.0,1700.0,1800.0,1200.0,1200.0,1500.0,1400.0,1450.0,1500.0,1500.0,1200.0,2000.0,1200.0,800.0,2500.0],\"type\":\"box\"}],                        {\"height\":800,\"template\":{\"data\":{\"barpolar\":[{\"marker\":{\"line\":{\"color\":\"#E5ECF6\",\"width\":0.5},\"pattern\":{\"fillmode\":\"overlay\",\"size\":10,\"solidity\":0.2}},\"type\":\"barpolar\"}],\"bar\":[{\"error_x\":{\"color\":\"#2a3f5f\"},\"error_y\":{\"color\":\"#2a3f5f\"},\"marker\":{\"line\":{\"color\":\"#E5ECF6\",\"width\":0.5},\"pattern\":{\"fillmode\":\"overlay\",\"size\":10,\"solidity\":0.2}},\"type\":\"bar\"}],\"carpet\":[{\"aaxis\":{\"endlinecolor\":\"#2a3f5f\",\"gridcolor\":\"white\",\"linecolor\":\"white\",\"minorgridcolor\":\"white\",\"startlinecolor\":\"#2a3f5f\"},\"baxis\":{\"endlinecolor\":\"#2a3f5f\",\"gridcolor\":\"white\",\"linecolor\":\"white\",\"minorgridcolor\":\"white\",\"startlinecolor\":\"#2a3f5f\"},\"type\":\"carpet\"}],\"choropleth\":[{\"colorbar\":{\"outlinewidth\":0,\"ticks\":\"\"},\"type\":\"choropleth\"}],\"contourcarpet\":[{\"colorbar\":{\"outlinewidth\":0,\"ticks\":\"\"},\"type\":\"contourcarpet\"}],\"contour\":[{\"colorbar\":{\"outlinewidth\":0,\"ticks\":\"\"},\"colorscale\":[[0.0,\"#0d0887\"],[0.1111111111111111,\"#46039f\"],[0.2222222222222222,\"#7201a8\"],[0.3333333333333333,\"#9c179e\"],[0.4444444444444444,\"#bd3786\"],[0.5555555555555556,\"#d8576b\"],[0.6666666666666666,\"#ed7953\"],[0.7777777777777778,\"#fb9f3a\"],[0.8888888888888888,\"#fdca26\"],[1.0,\"#f0f921\"]],\"type\":\"contour\"}],\"heatmapgl\":[{\"colorbar\":{\"outlinewidth\":0,\"ticks\":\"\"},\"colorscale\":[[0.0,\"#0d0887\"],[0.1111111111111111,\"#46039f\"],[0.2222222222222222,\"#7201a8\"],[0.3333333333333333,\"#9c179e\"],[0.4444444444444444,\"#bd3786\"],[0.5555555555555556,\"#d8576b\"],[0.6666666666666666,\"#ed7953\"],[0.7777777777777778,\"#fb9f3a\"],[0.8888888888888888,\"#fdca26\"],[1.0,\"#f0f921\"]],\"type\":\"heatmapgl\"}],\"heatmap\":[{\"colorbar\":{\"outlinewidth\":0,\"ticks\":\"\"},\"colorscale\":[[0.0,\"#0d0887\"],[0.1111111111111111,\"#46039f\"],[0.2222222222222222,\"#7201a8\"],[0.3333333333333333,\"#9c179e\"],[0.4444444444444444,\"#bd3786\"],[0.5555555555555556,\"#d8576b\"],[0.6666666666666666,\"#ed7953\"],[0.7777777777777778,\"#fb9f3a\"],[0.8888888888888888,\"#fdca26\"],[1.0,\"#f0f921\"]],\"type\":\"heatmap\"}],\"histogram2dcontour\":[{\"colorbar\":{\"outlinewidth\":0,\"ticks\":\"\"},\"colorscale\":[[0.0,\"#0d0887\"],[0.1111111111111111,\"#46039f\"],[0.2222222222222222,\"#7201a8\"],[0.3333333333333333,\"#9c179e\"],[0.4444444444444444,\"#bd3786\"],[0.5555555555555556,\"#d8576b\"],[0.6666666666666666,\"#ed7953\"],[0.7777777777777778,\"#fb9f3a\"],[0.8888888888888888,\"#fdca26\"],[1.0,\"#f0f921\"]],\"type\":\"histogram2dcontour\"}],\"histogram2d\":[{\"colorbar\":{\"outlinewidth\":0,\"ticks\":\"\"},\"colorscale\":[[0.0,\"#0d0887\"],[0.1111111111111111,\"#46039f\"],[0.2222222222222222,\"#7201a8\"],[0.3333333333333333,\"#9c179e\"],[0.4444444444444444,\"#bd3786\"],[0.5555555555555556,\"#d8576b\"],[0.6666666666666666,\"#ed7953\"],[0.7777777777777778,\"#fb9f3a\"],[0.8888888888888888,\"#fdca26\"],[1.0,\"#f0f921\"]],\"type\":\"histogram2d\"}],\"histogram\":[{\"marker\":{\"pattern\":{\"fillmode\":\"overlay\",\"size\":10,\"solidity\":0.2}},\"type\":\"histogram\"}],\"mesh3d\":[{\"colorbar\":{\"outlinewidth\":0,\"ticks\":\"\"},\"type\":\"mesh3d\"}],\"parcoords\":[{\"line\":{\"colorbar\":{\"outlinewidth\":0,\"ticks\":\"\"}},\"type\":\"parcoords\"}],\"pie\":[{\"automargin\":true,\"type\":\"pie\"}],\"scatter3d\":[{\"line\":{\"colorbar\":{\"outlinewidth\":0,\"ticks\":\"\"}},\"marker\":{\"colorbar\":{\"outlinewidth\":0,\"ticks\":\"\"}},\"type\":\"scatter3d\"}],\"scattercarpet\":[{\"marker\":{\"colorbar\":{\"outlinewidth\":0,\"ticks\":\"\"}},\"type\":\"scattercarpet\"}],\"scattergeo\":[{\"marker\":{\"colorbar\":{\"outlinewidth\":0,\"ticks\":\"\"}},\"type\":\"scattergeo\"}],\"scattergl\":[{\"marker\":{\"colorbar\":{\"outlinewidth\":0,\"ticks\":\"\"}},\"type\":\"scattergl\"}],\"scattermapbox\":[{\"marker\":{\"colorbar\":{\"outlinewidth\":0,\"ticks\":\"\"}},\"type\":\"scattermapbox\"}],\"scatterpolargl\":[{\"marker\":{\"colorbar\":{\"outlinewidth\":0,\"ticks\":\"\"}},\"type\":\"scatterpolargl\"}],\"scatterpolar\":[{\"marker\":{\"colorbar\":{\"outlinewidth\":0,\"ticks\":\"\"}},\"type\":\"scatterpolar\"}],\"scatter\":[{\"fillpattern\":{\"fillmode\":\"overlay\",\"size\":10,\"solidity\":0.2},\"type\":\"scatter\"}],\"scatterternary\":[{\"marker\":{\"colorbar\":{\"outlinewidth\":0,\"ticks\":\"\"}},\"type\":\"scatterternary\"}],\"surface\":[{\"colorbar\":{\"outlinewidth\":0,\"ticks\":\"\"},\"colorscale\":[[0.0,\"#0d0887\"],[0.1111111111111111,\"#46039f\"],[0.2222222222222222,\"#7201a8\"],[0.3333333333333333,\"#9c179e\"],[0.4444444444444444,\"#bd3786\"],[0.5555555555555556,\"#d8576b\"],[0.6666666666666666,\"#ed7953\"],[0.7777777777777778,\"#fb9f3a\"],[0.8888888888888888,\"#fdca26\"],[1.0,\"#f0f921\"]],\"type\":\"surface\"}],\"table\":[{\"cells\":{\"fill\":{\"color\":\"#EBF0F8\"},\"line\":{\"color\":\"white\"}},\"header\":{\"fill\":{\"color\":\"#C8D4E3\"},\"line\":{\"color\":\"white\"}},\"type\":\"table\"}]},\"layout\":{\"annotationdefaults\":{\"arrowcolor\":\"#2a3f5f\",\"arrowhead\":0,\"arrowwidth\":1},\"autotypenumbers\":\"strict\",\"coloraxis\":{\"colorbar\":{\"outlinewidth\":0,\"ticks\":\"\"}},\"colorscale\":{\"diverging\":[[0,\"#8e0152\"],[0.1,\"#c51b7d\"],[0.2,\"#de77ae\"],[0.3,\"#f1b6da\"],[0.4,\"#fde0ef\"],[0.5,\"#f7f7f7\"],[0.6,\"#e6f5d0\"],[0.7,\"#b8e186\"],[0.8,\"#7fbc41\"],[0.9,\"#4d9221\"],[1,\"#276419\"]],\"sequential\":[[0.0,\"#0d0887\"],[0.1111111111111111,\"#46039f\"],[0.2222222222222222,\"#7201a8\"],[0.3333333333333333,\"#9c179e\"],[0.4444444444444444,\"#bd3786\"],[0.5555555555555556,\"#d8576b\"],[0.6666666666666666,\"#ed7953\"],[0.7777777777777778,\"#fb9f3a\"],[0.8888888888888888,\"#fdca26\"],[1.0,\"#f0f921\"]],\"sequentialminus\":[[0.0,\"#0d0887\"],[0.1111111111111111,\"#46039f\"],[0.2222222222222222,\"#7201a8\"],[0.3333333333333333,\"#9c179e\"],[0.4444444444444444,\"#bd3786\"],[0.5555555555555556,\"#d8576b\"],[0.6666666666666666,\"#ed7953\"],[0.7777777777777778,\"#fb9f3a\"],[0.8888888888888888,\"#fdca26\"],[1.0,\"#f0f921\"]]},\"colorway\":[\"#636efa\",\"#EF553B\",\"#00cc96\",\"#ab63fa\",\"#FFA15A\",\"#19d3f3\",\"#FF6692\",\"#B6E880\",\"#FF97FF\",\"#FECB52\"],\"font\":{\"color\":\"#2a3f5f\"},\"geo\":{\"bgcolor\":\"white\",\"lakecolor\":\"white\",\"landcolor\":\"#E5ECF6\",\"showlakes\":true,\"showland\":true,\"subunitcolor\":\"white\"},\"hoverlabel\":{\"align\":\"left\"},\"hovermode\":\"closest\",\"mapbox\":{\"style\":\"light\"},\"paper_bgcolor\":\"white\",\"plot_bgcolor\":\"#E5ECF6\",\"polar\":{\"angularaxis\":{\"gridcolor\":\"white\",\"linecolor\":\"white\",\"ticks\":\"\"},\"bgcolor\":\"#E5ECF6\",\"radialaxis\":{\"gridcolor\":\"white\",\"linecolor\":\"white\",\"ticks\":\"\"}},\"scene\":{\"xaxis\":{\"backgroundcolor\":\"#E5ECF6\",\"gridcolor\":\"white\",\"gridwidth\":2,\"linecolor\":\"white\",\"showbackground\":true,\"ticks\":\"\",\"zerolinecolor\":\"white\"},\"yaxis\":{\"backgroundcolor\":\"#E5ECF6\",\"gridcolor\":\"white\",\"gridwidth\":2,\"linecolor\":\"white\",\"showbackground\":true,\"ticks\":\"\",\"zerolinecolor\":\"white\"},\"zaxis\":{\"backgroundcolor\":\"#E5ECF6\",\"gridcolor\":\"white\",\"gridwidth\":2,\"linecolor\":\"white\",\"showbackground\":true,\"ticks\":\"\",\"zerolinecolor\":\"white\"}},\"shapedefaults\":{\"line\":{\"color\":\"#2a3f5f\"}},\"ternary\":{\"aaxis\":{\"gridcolor\":\"white\",\"linecolor\":\"white\",\"ticks\":\"\"},\"baxis\":{\"gridcolor\":\"white\",\"linecolor\":\"white\",\"ticks\":\"\"},\"bgcolor\":\"#E5ECF6\",\"caxis\":{\"gridcolor\":\"white\",\"linecolor\":\"white\",\"ticks\":\"\"}},\"title\":{\"x\":0.05},\"xaxis\":{\"automargin\":true,\"gridcolor\":\"white\",\"linecolor\":\"white\",\"ticks\":\"\",\"title\":{\"standoff\":15},\"zerolinecolor\":\"white\",\"zerolinewidth\":2},\"yaxis\":{\"automargin\":true,\"gridcolor\":\"white\",\"linecolor\":\"white\",\"ticks\":\"\",\"title\":{\"standoff\":15},\"zerolinecolor\":\"white\",\"zerolinewidth\":2}}},\"title\":{\"text\":\"Box plot of approximate cost\"},\"width\":800,\"yaxis\":{\"title\":{\"text\":\"Price\"}}},                        {\"responsive\": true}                    ).then(function(){\n",
       "                            \n",
       "var gd = document.getElementById('1c54f44f-6ec5-47d0-bcfd-e9f5838b153d');\n",
       "var x = new MutationObserver(function (mutations, observer) {{\n",
       "        var display = window.getComputedStyle(gd).display;\n",
       "        if (!display || display === 'none') {{\n",
       "            console.log([gd, 'removed!']);\n",
       "            Plotly.purge(gd);\n",
       "            observer.disconnect();\n",
       "        }}\n",
       "}});\n",
       "\n",
       "// Listen for the removal of the full notebook cells\n",
       "var notebookContainer = gd.closest('#notebook-container');\n",
       "if (notebookContainer) {{\n",
       "    x.observe(notebookContainer, {childList: true});\n",
       "}}\n",
       "\n",
       "// Listen for the clearing of the current output cell\n",
       "var outputEl = gd.closest('.output');\n",
       "if (outputEl) {{\n",
       "    x.observe(outputEl, {childList: true});\n",
       "}}\n",
       "\n",
       "                        })                };                });            </script>        </div>"
      ]
     },
     "metadata": {},
     "output_type": "display_data"
    }
   ],
   "source": [
    "trace0=go.Box(y=df['cost'],name=\"accepting online orders\",\n",
    "              marker = dict(\n",
    "        color = 'rgb(113, 10, 100)',\n",
    "    ))\n",
    "data=[trace0]\n",
    "layout=go.Layout(title=\"Box plot of approximate cost\",width=800,height=800,yaxis=dict(title=\"Price\"))\n",
    "fig=go.Figure(data=data,layout=layout)\n",
    "py.iplot(fig)"
   ]
  },
  {
   "cell_type": "code",
   "execution_count": 47,
   "id": "c3ad3af6",
   "metadata": {
    "execution": {
     "iopub.execute_input": "2022-11-05T10:16:01.439297Z",
     "iopub.status.busy": "2022-11-05T10:16:01.438940Z",
     "iopub.status.idle": "2022-11-05T10:16:01.975390Z",
     "shell.execute_reply": "2022-11-05T10:16:01.974470Z"
    },
    "papermill": {
     "duration": 0.573761,
     "end_time": "2022-11-05T10:16:01.977569",
     "exception": false,
     "start_time": "2022-11-05T10:16:01.403808",
     "status": "completed"
    },
    "tags": []
   },
   "outputs": [
    {
     "data": {
      "image/png": "[encoded data removed]",
      "text/plain": [
       "<Figure size 576x576 with 1 Axes>"
      ]
     },
     "metadata": {
      "needs_background": "light"
     },
     "output_type": "display_data"
    }
   ],
   "source": [
    "plt.figure(figsize=(8,8))\n",
    "sns.distplot(df['cost'])\n",
    "plt.show()"
   ]
  },
  {
   "cell_type": "code",
   "execution_count": 48,
   "id": "d78e34f1",
   "metadata": {
    "execution": {
     "iopub.execute_input": "2022-11-05T10:16:02.023933Z",
     "iopub.status.busy": "2022-11-05T10:16:02.023310Z",
     "iopub.status.idle": "2022-11-05T10:16:02.219972Z",
     "shell.execute_reply": "2022-11-05T10:16:02.218996Z"
    },
    "papermill": {
     "duration": 0.222561,
     "end_time": "2022-11-05T10:16:02.222484",
     "exception": false,
     "start_time": "2022-11-05T10:16:01.999923",
     "status": "completed"
    },
    "tags": []
   },
   "outputs": [],
   "source": [
    "#re=regular expression (use for splitting words)\n",
    "\n",
    "import re\n",
    "\n",
    "df.index=range(df.shape[0])\n",
    "likes=[]\n",
    "for i in range(df.shape[0]):\n",
    "    array_split=re.split(',',df['dish_liked'][i])\n",
    "    for item in array_split:\n",
    "        likes.append(item)"
   ]
  },
  {
   "cell_type": "code",
   "execution_count": 49,
   "id": "efa2bf71",
   "metadata": {
    "execution": {
     "iopub.execute_input": "2022-11-05T10:16:02.268301Z",
     "iopub.status.busy": "2022-11-05T10:16:02.268003Z",
     "iopub.status.idle": "2022-11-05T10:16:02.272711Z",
     "shell.execute_reply": "2022-11-05T10:16:02.271589Z"
    },
    "papermill": {
     "duration": 0.02994,
     "end_time": "2022-11-05T10:16:02.275108",
     "exception": false,
     "start_time": "2022-11-05T10:16:02.245168",
     "status": "completed"
    },
    "tags": []
   },
   "outputs": [],
   "source": [
    "df.index=range(df.shape[0])"
   ]
  },
  {
   "cell_type": "code",
   "execution_count": 50,
   "id": "6a5f1c59",
   "metadata": {
    "execution": {
     "iopub.execute_input": "2022-11-05T10:16:02.320963Z",
     "iopub.status.busy": "2022-11-05T10:16:02.320672Z",
     "iopub.status.idle": "2022-11-05T10:16:02.327025Z",
     "shell.execute_reply": "2022-11-05T10:16:02.326017Z"
    },
    "papermill": {
     "duration": 0.03177,
     "end_time": "2022-11-05T10:16:02.329282",
     "exception": false,
     "start_time": "2022-11-05T10:16:02.297512",
     "status": "completed"
    },
    "tags": []
   },
   "outputs": [
    {
     "data": {
      "text/plain": [
       "RangeIndex(start=0, stop=23248, step=1)"
      ]
     },
     "execution_count": 50,
     "metadata": {},
     "output_type": "execute_result"
    }
   ],
   "source": [
    "df.index"
   ]
  },
  {
   "cell_type": "code",
   "execution_count": 51,
   "id": "afbff66e",
   "metadata": {
    "execution": {
     "iopub.execute_input": "2022-11-05T10:16:02.374972Z",
     "iopub.status.busy": "2022-11-05T10:16:02.374683Z",
     "iopub.status.idle": "2022-11-05T10:16:02.402636Z",
     "shell.execute_reply": "2022-11-05T10:16:02.401541Z"
    },
    "papermill": {
     "duration": 0.053541,
     "end_time": "2022-11-05T10:16:02.404910",
     "exception": false,
     "start_time": "2022-11-05T10:16:02.351369",
     "status": "completed"
    },
    "tags": []
   },
   "outputs": [
    {
     "name": "stdout",
     "output_type": "stream",
     "text": [
      "Count of Most liked dishes in Bangalore\n"
     ]
    },
    {
     "data": {
      "text/plain": [
       " Pasta              2692\n",
       " Pizza              1915\n",
       " Cocktails          1880\n",
       " Burgers            1736\n",
       " Mocktails          1623\n",
       " Biryani            1307\n",
       " Sandwiches         1287\n",
       "Burgers             1256\n",
       " Coffee             1184\n",
       " Nachos             1170\n",
       " Fish               1116\n",
       " Paratha            1107\n",
       " Salads             1055\n",
       " Chicken Biryani    1004\n",
       "Cocktails            891\n",
       " Fries               876\n",
       " Noodles             854\n",
       " Beer                835\n",
       " Mutton Biryani      832\n",
       " Tea                 819\n",
       "Coffee               801\n",
       " Sandwich            788\n",
       " Butter Chicken      782\n",
       " Thali               770\n",
       "Biryani              749\n",
       "Pizza                747\n",
       " Roti                729\n",
       " Brownie             726\n",
       " Salad               677\n",
       " Hot Chocolate       672\n",
       "dtype: int64"
      ]
     },
     "execution_count": 51,
     "metadata": {},
     "output_type": "execute_result"
    }
   ],
   "source": [
    "print(\"Count of Most liked dishes in Bangalore\")\n",
    "favourite_food = pd.Series(likes).value_counts()\n",
    "favourite_food.head(30)"
   ]
  },
  {
   "cell_type": "code",
   "execution_count": 52,
   "id": "7c705375",
   "metadata": {
    "execution": {
     "iopub.execute_input": "2022-11-05T10:16:02.451931Z",
     "iopub.status.busy": "2022-11-05T10:16:02.451661Z",
     "iopub.status.idle": "2022-11-05T10:16:02.886026Z",
     "shell.execute_reply": "2022-11-05T10:16:02.885056Z"
    },
    "papermill": {
     "duration": 0.460185,
     "end_time": "2022-11-05T10:16:02.888488",
     "exception": false,
     "start_time": "2022-11-05T10:16:02.428303",
     "status": "completed"
    },
    "tags": []
   },
   "outputs": [
    {
     "data": {
      "image/png": "[encoded data removed]",
      "text/plain": [
       "<Figure size 1296x720 with 1 Axes>"
      ]
     },
     "metadata": {
      "needs_background": "light"
     },
     "output_type": "display_data"
    }
   ],
   "source": [
    "ax = favourite_food.nlargest(n=20, keep='first').plot(kind='bar',figsize=(18,10),title = 'Top 30 Favourite Food counts ')\n",
    "\n",
    "for i in ax.patches:\n",
    "    ax.annotate(str(i.get_height()), (i.get_x() * 1.005, i.get_height() * 1.005))"
   ]
  },
  {
   "cell_type": "code",
   "execution_count": 53,
   "id": "367dff97",
   "metadata": {
    "execution": {
     "iopub.execute_input": "2022-11-05T10:16:02.936464Z",
     "iopub.status.busy": "2022-11-05T10:16:02.935614Z",
     "iopub.status.idle": "2022-11-05T10:16:03.461577Z",
     "shell.execute_reply": "2022-11-05T10:16:03.460493Z"
    },
    "papermill": {
     "duration": 0.551828,
     "end_time": "2022-11-05T10:16:03.463621",
     "exception": false,
     "start_time": "2022-11-05T10:16:02.911793",
     "status": "completed"
    },
    "tags": []
   },
   "outputs": [
    {
     "data": {
      "text/plain": [
       "Text(0.5, 0, 'count')"
      ]
     },
     "execution_count": 53,
     "metadata": {},
     "output_type": "execute_result"
    },
    {
     "data": {
      "image/png": "[encoded data removed]",
      "text/plain": [
       "<Figure size 1080x504 with 1 Axes>"
      ]
     },
     "metadata": {
      "needs_background": "light"
     },
     "output_type": "display_data"
    }
   ],
   "source": [
    "plt.figure(figsize=(15,7))\n",
    "rest=df['rest_type'].value_counts()[:20]\n",
    "sns.barplot(rest,rest.index)\n",
    "plt.title(\"Restaurant types\")\n",
    "plt.xlabel(\"count\")"
   ]
  },
  {
   "cell_type": "code",
   "execution_count": 54,
   "id": "5b35a6aa",
   "metadata": {
    "execution": {
     "iopub.execute_input": "2022-11-05T10:16:03.512037Z",
     "iopub.status.busy": "2022-11-05T10:16:03.511642Z",
     "iopub.status.idle": "2022-11-05T10:16:03.849457Z",
     "shell.execute_reply": "2022-11-05T10:16:03.848467Z"
    },
    "papermill": {
     "duration": 0.364613,
     "end_time": "2022-11-05T10:16:03.851695",
     "exception": false,
     "start_time": "2022-11-05T10:16:03.487082",
     "status": "completed"
    },
    "tags": []
   },
   "outputs": [
    {
     "data": {
      "image/png": "[encoded data removed]",
      "text/plain": [
       "<Figure size 1080x504 with 1 Axes>"
      ]
     },
     "metadata": {
      "needs_background": "light"
     },
     "output_type": "display_data"
    }
   ],
   "source": [
    "plt.figure(figsize=(15,7))\n",
    "chains=df['name'].value_counts()[:20]\n",
    "sns.barplot(x=chains,y=chains.index,palette='Set1')\n",
    "plt.title(\"Most famous restaurant chains in Bangaluru\",size=20,pad=20)\n",
    "plt.xlabel(\"Number of outlets\",size=15)\n",
    "plt.show()"
   ]
  },
  {
   "cell_type": "code",
   "execution_count": 55,
   "id": "f8a25844",
   "metadata": {
    "execution": {
     "iopub.execute_input": "2022-11-05T10:16:03.902916Z",
     "iopub.status.busy": "2022-11-05T10:16:03.901886Z",
     "iopub.status.idle": "2022-11-05T10:16:03.922504Z",
     "shell.execute_reply": "2022-11-05T10:16:03.921421Z"
    },
    "papermill": {
     "duration": 0.048358,
     "end_time": "2022-11-05T10:16:03.925094",
     "exception": false,
     "start_time": "2022-11-05T10:16:03.876736",
     "status": "completed"
    },
    "tags": []
   },
   "outputs": [
    {
     "data": {
      "text/html": [
       "<div>\n",
       "<style scoped>\n",
       "    .dataframe tbody tr th:only-of-type {\n",
       "        vertical-align: middle;\n",
       "    }\n",
       "\n",
       "    .dataframe tbody tr th {\n",
       "        vertical-align: top;\n",
       "    }\n",
       "\n",
       "    .dataframe thead th {\n",
       "        text-align: right;\n",
       "    }\n",
       "</style>\n",
       "<table border=\"1\" class=\"dataframe\">\n",
       "  <thead>\n",
       "    <tr style=\"text-align: right;\">\n",
       "      <th></th>\n",
       "      <th>address</th>\n",
       "      <th>name</th>\n",
       "      <th>online_order</th>\n",
       "      <th>book_table</th>\n",
       "      <th>rate</th>\n",
       "      <th>votes</th>\n",
       "      <th>location</th>\n",
       "      <th>rest_type</th>\n",
       "      <th>dish_liked</th>\n",
       "      <th>cuisines</th>\n",
       "      <th>cost</th>\n",
       "      <th>reviews_list</th>\n",
       "      <th>menu_item</th>\n",
       "      <th>type</th>\n",
       "      <th>city</th>\n",
       "    </tr>\n",
       "  </thead>\n",
       "  <tbody>\n",
       "    <tr>\n",
       "      <th>0</th>\n",
       "      <td>942, 21st Main Road, 2nd Stage, Banashankari, ...</td>\n",
       "      <td>Jalsa</td>\n",
       "      <td>Yes</td>\n",
       "      <td>Yes</td>\n",
       "      <td>4.1</td>\n",
       "      <td>775</td>\n",
       "      <td>Banashankari</td>\n",
       "      <td>Casual Dining</td>\n",
       "      <td>Pasta, Lunch Buffet, Masala Papad, Paneer Laja...</td>\n",
       "      <td>North Indian, Mughlai, Chinese</td>\n",
       "      <td>800.0</td>\n",
       "      <td>[('Rated 4.0', 'RATED\\n  A beautiful place to ...</td>\n",
       "      <td>[]</td>\n",
       "      <td>Buffet</td>\n",
       "      <td>Banashankari</td>\n",
       "    </tr>\n",
       "    <tr>\n",
       "      <th>1</th>\n",
       "      <td>2nd Floor, 80 Feet Road, Near Big Bazaar, 6th ...</td>\n",
       "      <td>Spice Elephant</td>\n",
       "      <td>Yes</td>\n",
       "      <td>No</td>\n",
       "      <td>4.1</td>\n",
       "      <td>787</td>\n",
       "      <td>Banashankari</td>\n",
       "      <td>Casual Dining</td>\n",
       "      <td>Momos, Lunch Buffet, Chocolate Nirvana, Thai G...</td>\n",
       "      <td>Chinese, North Indian, Thai</td>\n",
       "      <td>800.0</td>\n",
       "      <td>[('Rated 4.0', 'RATED\\n  Had been here for din...</td>\n",
       "      <td>[]</td>\n",
       "      <td>Buffet</td>\n",
       "      <td>Banashankari</td>\n",
       "    </tr>\n",
       "    <tr>\n",
       "      <th>2</th>\n",
       "      <td>1112, Next to KIMS Medical College, 17th Cross...</td>\n",
       "      <td>San Churro Cafe</td>\n",
       "      <td>Yes</td>\n",
       "      <td>No</td>\n",
       "      <td>3.8</td>\n",
       "      <td>918</td>\n",
       "      <td>Banashankari</td>\n",
       "      <td>Cafe, Casual Dining</td>\n",
       "      <td>Churros, Cannelloni, Minestrone Soup, Hot Choc...</td>\n",
       "      <td>Cafe, Mexican, Italian</td>\n",
       "      <td>800.0</td>\n",
       "      <td>[('Rated 3.0', \"RATED\\n  Ambience is not that ...</td>\n",
       "      <td>[]</td>\n",
       "      <td>Buffet</td>\n",
       "      <td>Banashankari</td>\n",
       "    </tr>\n",
       "    <tr>\n",
       "      <th>3</th>\n",
       "      <td>1st Floor, Annakuteera, 3rd Stage, Banashankar...</td>\n",
       "      <td>Addhuri Udupi Bhojana</td>\n",
       "      <td>No</td>\n",
       "      <td>No</td>\n",
       "      <td>3.7</td>\n",
       "      <td>88</td>\n",
       "      <td>Banashankari</td>\n",
       "      <td>Quick Bites</td>\n",
       "      <td>Masala Dosa</td>\n",
       "      <td>South Indian, North Indian</td>\n",
       "      <td>300.0</td>\n",
       "      <td>[('Rated 4.0', \"RATED\\n  Great food and proper...</td>\n",
       "      <td>[]</td>\n",
       "      <td>Buffet</td>\n",
       "      <td>Banashankari</td>\n",
       "    </tr>\n",
       "    <tr>\n",
       "      <th>4</th>\n",
       "      <td>10, 3rd Floor, Lakshmi Associates, Gandhi Baza...</td>\n",
       "      <td>Grand Village</td>\n",
       "      <td>No</td>\n",
       "      <td>No</td>\n",
       "      <td>3.8</td>\n",
       "      <td>166</td>\n",
       "      <td>Basavanagudi</td>\n",
       "      <td>Casual Dining</td>\n",
       "      <td>Panipuri, Gol Gappe</td>\n",
       "      <td>North Indian, Rajasthani</td>\n",
       "      <td>600.0</td>\n",
       "      <td>[('Rated 4.0', 'RATED\\n  Very good restaurant ...</td>\n",
       "      <td>[]</td>\n",
       "      <td>Buffet</td>\n",
       "      <td>Banashankari</td>\n",
       "    </tr>\n",
       "  </tbody>\n",
       "</table>\n",
       "</div>"
      ],
      "text/plain": [
       "                                             address                   name  \\\n",
       "0  942, 21st Main Road, 2nd Stage, Banashankari, ...                  Jalsa   \n",
       "1  2nd Floor, 80 Feet Road, Near Big Bazaar, 6th ...         Spice Elephant   \n",
       "2  1112, Next to KIMS Medical College, 17th Cross...        San Churro Cafe   \n",
       "3  1st Floor, Annakuteera, 3rd Stage, Banashankar...  Addhuri Udupi Bhojana   \n",
       "4  10, 3rd Floor, Lakshmi Associates, Gandhi Baza...          Grand Village   \n",
       "\n",
       "  online_order book_table  rate  votes      location            rest_type  \\\n",
       "0          Yes        Yes   4.1    775  Banashankari        Casual Dining   \n",
       "1          Yes         No   4.1    787  Banashankari        Casual Dining   \n",
       "2          Yes         No   3.8    918  Banashankari  Cafe, Casual Dining   \n",
       "3           No         No   3.7     88  Banashankari          Quick Bites   \n",
       "4           No         No   3.8    166  Basavanagudi        Casual Dining   \n",
       "\n",
       "                                          dish_liked  \\\n",
       "0  Pasta, Lunch Buffet, Masala Papad, Paneer Laja...   \n",
       "1  Momos, Lunch Buffet, Chocolate Nirvana, Thai G...   \n",
       "2  Churros, Cannelloni, Minestrone Soup, Hot Choc...   \n",
       "3                                        Masala Dosa   \n",
       "4                                Panipuri, Gol Gappe   \n",
       "\n",
       "                         cuisines   cost  \\\n",
       "0  North Indian, Mughlai, Chinese  800.0   \n",
       "1     Chinese, North Indian, Thai  800.0   \n",
       "2          Cafe, Mexican, Italian  800.0   \n",
       "3      South Indian, North Indian  300.0   \n",
       "4        North Indian, Rajasthani  600.0   \n",
       "\n",
       "                                        reviews_list menu_item    type  \\\n",
       "0  [('Rated 4.0', 'RATED\\n  A beautiful place to ...        []  Buffet   \n",
       "1  [('Rated 4.0', 'RATED\\n  Had been here for din...        []  Buffet   \n",
       "2  [('Rated 3.0', \"RATED\\n  Ambience is not that ...        []  Buffet   \n",
       "3  [('Rated 4.0', \"RATED\\n  Great food and proper...        []  Buffet   \n",
       "4  [('Rated 4.0', 'RATED\\n  Very good restaurant ...        []  Buffet   \n",
       "\n",
       "           city  \n",
       "0  Banashankari  \n",
       "1  Banashankari  \n",
       "2  Banashankari  \n",
       "3  Banashankari  \n",
       "4  Banashankari  "
      ]
     },
     "execution_count": 55,
     "metadata": {},
     "output_type": "execute_result"
    }
   ],
   "source": [
    "df.head()"
   ]
  },
  {
   "cell_type": "code",
   "execution_count": 56,
   "id": "1440bc36",
   "metadata": {
    "execution": {
     "iopub.execute_input": "2022-11-05T10:16:03.975824Z",
     "iopub.status.busy": "2022-11-05T10:16:03.975499Z",
     "iopub.status.idle": "2022-11-05T10:16:03.988445Z",
     "shell.execute_reply": "2022-11-05T10:16:03.987510Z"
    },
    "papermill": {
     "duration": 0.040457,
     "end_time": "2022-11-05T10:16:03.990434",
     "exception": false,
     "start_time": "2022-11-05T10:16:03.949977",
     "status": "completed"
    },
    "tags": []
   },
   "outputs": [],
   "source": [
    "df.online_order[df.online_order == 'Yes'] = 1 \n",
    "df.online_order[df.online_order == 'No'] = 0"
   ]
  },
  {
   "cell_type": "code",
   "execution_count": 57,
   "id": "9642b23c",
   "metadata": {
    "execution": {
     "iopub.execute_input": "2022-11-05T10:16:04.039565Z",
     "iopub.status.busy": "2022-11-05T10:16:04.038610Z",
     "iopub.status.idle": "2022-11-05T10:16:04.047251Z",
     "shell.execute_reply": "2022-11-05T10:16:04.046305Z"
    },
    "papermill": {
     "duration": 0.035236,
     "end_time": "2022-11-05T10:16:04.049316",
     "exception": false,
     "start_time": "2022-11-05T10:16:04.014080",
     "status": "completed"
    },
    "tags": []
   },
   "outputs": [
    {
     "data": {
      "text/plain": [
       "1    16378\n",
       "0     6870\n",
       "Name: online_order, dtype: int64"
      ]
     },
     "execution_count": 57,
     "metadata": {},
     "output_type": "execute_result"
    }
   ],
   "source": [
    "df.online_order.value_counts()"
   ]
  },
  {
   "cell_type": "code",
   "execution_count": 58,
   "id": "220aa0ef",
   "metadata": {
    "execution": {
     "iopub.execute_input": "2022-11-05T10:16:04.098252Z",
     "iopub.status.busy": "2022-11-05T10:16:04.097608Z",
     "iopub.status.idle": "2022-11-05T10:16:04.105403Z",
     "shell.execute_reply": "2022-11-05T10:16:04.104597Z"
    },
    "papermill": {
     "duration": 0.034657,
     "end_time": "2022-11-05T10:16:04.107478",
     "exception": false,
     "start_time": "2022-11-05T10:16:04.072821",
     "status": "completed"
    },
    "tags": []
   },
   "outputs": [],
   "source": [
    "df.online_order = pd.to_numeric(df.online_order)"
   ]
  },
  {
   "cell_type": "code",
   "execution_count": 59,
   "id": "dcaa351d",
   "metadata": {
    "execution": {
     "iopub.execute_input": "2022-11-05T10:16:04.156218Z",
     "iopub.status.busy": "2022-11-05T10:16:04.155946Z",
     "iopub.status.idle": "2022-11-05T10:16:04.169155Z",
     "shell.execute_reply": "2022-11-05T10:16:04.168211Z"
    },
    "papermill": {
     "duration": 0.040241,
     "end_time": "2022-11-05T10:16:04.171165",
     "exception": false,
     "start_time": "2022-11-05T10:16:04.130924",
     "status": "completed"
    },
    "tags": []
   },
   "outputs": [],
   "source": [
    "df.book_table[df.book_table == 'Yes'] = 1 \n",
    "df.book_table[df.book_table == 'No'] = 0"
   ]
  },
  {
   "cell_type": "code",
   "execution_count": 60,
   "id": "a875082c",
   "metadata": {
    "execution": {
     "iopub.execute_input": "2022-11-05T10:16:04.219910Z",
     "iopub.status.busy": "2022-11-05T10:16:04.219259Z",
     "iopub.status.idle": "2022-11-05T10:16:04.229130Z",
     "shell.execute_reply": "2022-11-05T10:16:04.228274Z"
    },
    "papermill": {
     "duration": 0.036646,
     "end_time": "2022-11-05T10:16:04.231387",
     "exception": false,
     "start_time": "2022-11-05T10:16:04.194741",
     "status": "completed"
    },
    "tags": []
   },
   "outputs": [],
   "source": [
    "df.book_table = pd.to_numeric(df.book_table)"
   ]
  },
  {
   "cell_type": "code",
   "execution_count": 61,
   "id": "b5a5ac38",
   "metadata": {
    "execution": {
     "iopub.execute_input": "2022-11-05T10:16:04.280362Z",
     "iopub.status.busy": "2022-11-05T10:16:04.280054Z",
     "iopub.status.idle": "2022-11-05T10:16:04.288339Z",
     "shell.execute_reply": "2022-11-05T10:16:04.287370Z"
    },
    "papermill": {
     "duration": 0.035331,
     "end_time": "2022-11-05T10:16:04.290387",
     "exception": false,
     "start_time": "2022-11-05T10:16:04.255056",
     "status": "completed"
    },
    "tags": []
   },
   "outputs": [
    {
     "data": {
      "text/plain": [
       "0    17191\n",
       "1     6057\n",
       "Name: book_table, dtype: int64"
      ]
     },
     "execution_count": 61,
     "metadata": {},
     "output_type": "execute_result"
    }
   ],
   "source": [
    "df.book_table.value_counts()"
   ]
  },
  {
   "cell_type": "code",
   "execution_count": 62,
   "id": "d29c8864",
   "metadata": {
    "execution": {
     "iopub.execute_input": "2022-11-05T10:16:04.340107Z",
     "iopub.status.busy": "2022-11-05T10:16:04.339322Z",
     "iopub.status.idle": "2022-11-05T10:16:04.344375Z",
     "shell.execute_reply": "2022-11-05T10:16:04.343507Z"
    },
    "papermill": {
     "duration": 0.032276,
     "end_time": "2022-11-05T10:16:04.346471",
     "exception": false,
     "start_time": "2022-11-05T10:16:04.314195",
     "status": "completed"
    },
    "tags": []
   },
   "outputs": [],
   "source": [
    "from sklearn.preprocessing import LabelEncoder\n",
    "le = LabelEncoder()"
   ]
  },
  {
   "cell_type": "code",
   "execution_count": 63,
   "id": "f0d537d1",
   "metadata": {
    "execution": {
     "iopub.execute_input": "2022-11-05T10:16:04.395369Z",
     "iopub.status.busy": "2022-11-05T10:16:04.394734Z",
     "iopub.status.idle": "2022-11-05T10:16:04.448821Z",
     "shell.execute_reply": "2022-11-05T10:16:04.447803Z"
    },
    "papermill": {
     "duration": 0.080802,
     "end_time": "2022-11-05T10:16:04.450863",
     "exception": false,
     "start_time": "2022-11-05T10:16:04.370061",
     "status": "completed"
    },
    "tags": []
   },
   "outputs": [],
   "source": [
    "df.location = le.fit_transform(df.location)\n",
    "df.rest_type = le.fit_transform(df.rest_type)\n",
    "df.cuisines = le.fit_transform(df.cuisines)\n",
    "df.menu_item = le.fit_transform(df.menu_item)"
   ]
  },
  {
   "cell_type": "code",
   "execution_count": 64,
   "id": "771c4221",
   "metadata": {
    "execution": {
     "iopub.execute_input": "2022-11-05T10:16:04.501264Z",
     "iopub.status.busy": "2022-11-05T10:16:04.499656Z",
     "iopub.status.idle": "2022-11-05T10:16:04.516720Z",
     "shell.execute_reply": "2022-11-05T10:16:04.515720Z"
    },
    "papermill": {
     "duration": 0.043999,
     "end_time": "2022-11-05T10:16:04.518879",
     "exception": false,
     "start_time": "2022-11-05T10:16:04.474880",
     "status": "completed"
    },
    "tags": []
   },
   "outputs": [
    {
     "data": {
      "text/html": [
       "<div>\n",
       "<style scoped>\n",
       "    .dataframe tbody tr th:only-of-type {\n",
       "        vertical-align: middle;\n",
       "    }\n",
       "\n",
       "    .dataframe tbody tr th {\n",
       "        vertical-align: top;\n",
       "    }\n",
       "\n",
       "    .dataframe thead th {\n",
       "        text-align: right;\n",
       "    }\n",
       "</style>\n",
       "<table border=\"1\" class=\"dataframe\">\n",
       "  <thead>\n",
       "    <tr style=\"text-align: right;\">\n",
       "      <th></th>\n",
       "      <th>address</th>\n",
       "      <th>name</th>\n",
       "      <th>online_order</th>\n",
       "      <th>book_table</th>\n",
       "      <th>rate</th>\n",
       "      <th>votes</th>\n",
       "      <th>location</th>\n",
       "      <th>rest_type</th>\n",
       "      <th>dish_liked</th>\n",
       "      <th>cuisines</th>\n",
       "      <th>cost</th>\n",
       "      <th>reviews_list</th>\n",
       "      <th>menu_item</th>\n",
       "      <th>type</th>\n",
       "      <th>city</th>\n",
       "    </tr>\n",
       "  </thead>\n",
       "  <tbody>\n",
       "    <tr>\n",
       "      <th>0</th>\n",
       "      <td>942, 21st Main Road, 2nd Stage, Banashankari, ...</td>\n",
       "      <td>Jalsa</td>\n",
       "      <td>1</td>\n",
       "      <td>1</td>\n",
       "      <td>4.1</td>\n",
       "      <td>775</td>\n",
       "      <td>1</td>\n",
       "      <td>20</td>\n",
       "      <td>Pasta, Lunch Buffet, Masala Papad, Paneer Laja...</td>\n",
       "      <td>1386</td>\n",
       "      <td>800.0</td>\n",
       "      <td>[('Rated 4.0', 'RATED\\n  A beautiful place to ...</td>\n",
       "      <td>5047</td>\n",
       "      <td>Buffet</td>\n",
       "      <td>Banashankari</td>\n",
       "    </tr>\n",
       "    <tr>\n",
       "      <th>1</th>\n",
       "      <td>2nd Floor, 80 Feet Road, Near Big Bazaar, 6th ...</td>\n",
       "      <td>Spice Elephant</td>\n",
       "      <td>1</td>\n",
       "      <td>0</td>\n",
       "      <td>4.1</td>\n",
       "      <td>787</td>\n",
       "      <td>1</td>\n",
       "      <td>20</td>\n",
       "      <td>Momos, Lunch Buffet, Chocolate Nirvana, Thai G...</td>\n",
       "      <td>594</td>\n",
       "      <td>800.0</td>\n",
       "      <td>[('Rated 4.0', 'RATED\\n  Had been here for din...</td>\n",
       "      <td>5047</td>\n",
       "      <td>Buffet</td>\n",
       "      <td>Banashankari</td>\n",
       "    </tr>\n",
       "    <tr>\n",
       "      <th>2</th>\n",
       "      <td>1112, Next to KIMS Medical College, 17th Cross...</td>\n",
       "      <td>San Churro Cafe</td>\n",
       "      <td>1</td>\n",
       "      <td>0</td>\n",
       "      <td>3.8</td>\n",
       "      <td>918</td>\n",
       "      <td>1</td>\n",
       "      <td>16</td>\n",
       "      <td>Churros, Cannelloni, Minestrone Soup, Hot Choc...</td>\n",
       "      <td>484</td>\n",
       "      <td>800.0</td>\n",
       "      <td>[('Rated 3.0', \"RATED\\n  Ambience is not that ...</td>\n",
       "      <td>5047</td>\n",
       "      <td>Buffet</td>\n",
       "      <td>Banashankari</td>\n",
       "    </tr>\n",
       "    <tr>\n",
       "      <th>3</th>\n",
       "      <td>1st Floor, Annakuteera, 3rd Stage, Banashankar...</td>\n",
       "      <td>Addhuri Udupi Bhojana</td>\n",
       "      <td>0</td>\n",
       "      <td>0</td>\n",
       "      <td>3.7</td>\n",
       "      <td>88</td>\n",
       "      <td>1</td>\n",
       "      <td>62</td>\n",
       "      <td>Masala Dosa</td>\n",
       "      <td>1587</td>\n",
       "      <td>300.0</td>\n",
       "      <td>[('Rated 4.0', \"RATED\\n  Great food and proper...</td>\n",
       "      <td>5047</td>\n",
       "      <td>Buffet</td>\n",
       "      <td>Banashankari</td>\n",
       "    </tr>\n",
       "    <tr>\n",
       "      <th>4</th>\n",
       "      <td>10, 3rd Floor, Lakshmi Associates, Gandhi Baza...</td>\n",
       "      <td>Grand Village</td>\n",
       "      <td>0</td>\n",
       "      <td>0</td>\n",
       "      <td>3.8</td>\n",
       "      <td>166</td>\n",
       "      <td>4</td>\n",
       "      <td>20</td>\n",
       "      <td>Panipuri, Gol Gappe</td>\n",
       "      <td>1406</td>\n",
       "      <td>600.0</td>\n",
       "      <td>[('Rated 4.0', 'RATED\\n  Very good restaurant ...</td>\n",
       "      <td>5047</td>\n",
       "      <td>Buffet</td>\n",
       "      <td>Banashankari</td>\n",
       "    </tr>\n",
       "  </tbody>\n",
       "</table>\n",
       "</div>"
      ],
      "text/plain": [
       "                                             address                   name  \\\n",
       "0  942, 21st Main Road, 2nd Stage, Banashankari, ...                  Jalsa   \n",
       "1  2nd Floor, 80 Feet Road, Near Big Bazaar, 6th ...         Spice Elephant   \n",
       "2  1112, Next to KIMS Medical College, 17th Cross...        San Churro Cafe   \n",
       "3  1st Floor, Annakuteera, 3rd Stage, Banashankar...  Addhuri Udupi Bhojana   \n",
       "4  10, 3rd Floor, Lakshmi Associates, Gandhi Baza...          Grand Village   \n",
       "\n",
       "   online_order  book_table  rate  votes  location  rest_type  \\\n",
       "0             1           1   4.1    775         1         20   \n",
       "1             1           0   4.1    787         1         20   \n",
       "2             1           0   3.8    918         1         16   \n",
       "3             0           0   3.7     88         1         62   \n",
       "4             0           0   3.8    166         4         20   \n",
       "\n",
       "                                          dish_liked  cuisines   cost  \\\n",
       "0  Pasta, Lunch Buffet, Masala Papad, Paneer Laja...      1386  800.0   \n",
       "1  Momos, Lunch Buffet, Chocolate Nirvana, Thai G...       594  800.0   \n",
       "2  Churros, Cannelloni, Minestrone Soup, Hot Choc...       484  800.0   \n",
       "3                                        Masala Dosa      1587  300.0   \n",
       "4                                Panipuri, Gol Gappe      1406  600.0   \n",
       "\n",
       "                                        reviews_list  menu_item    type  \\\n",
       "0  [('Rated 4.0', 'RATED\\n  A beautiful place to ...       5047  Buffet   \n",
       "1  [('Rated 4.0', 'RATED\\n  Had been here for din...       5047  Buffet   \n",
       "2  [('Rated 3.0', \"RATED\\n  Ambience is not that ...       5047  Buffet   \n",
       "3  [('Rated 4.0', \"RATED\\n  Great food and proper...       5047  Buffet   \n",
       "4  [('Rated 4.0', 'RATED\\n  Very good restaurant ...       5047  Buffet   \n",
       "\n",
       "           city  \n",
       "0  Banashankari  \n",
       "1  Banashankari  \n",
       "2  Banashankari  \n",
       "3  Banashankari  \n",
       "4  Banashankari  "
      ]
     },
     "execution_count": 64,
     "metadata": {},
     "output_type": "execute_result"
    }
   ],
   "source": [
    "df.head()"
   ]
  },
  {
   "cell_type": "code",
   "execution_count": 65,
   "id": "b2f985ab",
   "metadata": {
    "execution": {
     "iopub.execute_input": "2022-11-05T10:16:04.569938Z",
     "iopub.status.busy": "2022-11-05T10:16:04.568478Z",
     "iopub.status.idle": "2022-11-05T10:16:04.642952Z",
     "shell.execute_reply": "2022-11-05T10:16:04.642067Z"
    },
    "papermill": {
     "duration": 0.101971,
     "end_time": "2022-11-05T10:16:04.645307",
     "exception": false,
     "start_time": "2022-11-05T10:16:04.543336",
     "status": "completed"
    },
    "tags": []
   },
   "outputs": [],
   "source": [
    "my_data=df.iloc[:,[2,3,4,5,6,7,9,10,12]]\n",
    "my_data.to_csv('Zomato_df.csv') "
   ]
  },
  {
   "cell_type": "code",
   "execution_count": 66,
   "id": "173d97f1",
   "metadata": {
    "execution": {
     "iopub.execute_input": "2022-11-05T10:16:04.695647Z",
     "iopub.status.busy": "2022-11-05T10:16:04.695264Z",
     "iopub.status.idle": "2022-11-05T10:16:04.709836Z",
     "shell.execute_reply": "2022-11-05T10:16:04.708815Z"
    },
    "papermill": {
     "duration": 0.042267,
     "end_time": "2022-11-05T10:16:04.712101",
     "exception": false,
     "start_time": "2022-11-05T10:16:04.669834",
     "status": "completed"
    },
    "tags": []
   },
   "outputs": [
    {
     "data": {
      "text/html": [
       "<div>\n",
       "<style scoped>\n",
       "    .dataframe tbody tr th:only-of-type {\n",
       "        vertical-align: middle;\n",
       "    }\n",
       "\n",
       "    .dataframe tbody tr th {\n",
       "        vertical-align: top;\n",
       "    }\n",
       "\n",
       "    .dataframe thead th {\n",
       "        text-align: right;\n",
       "    }\n",
       "</style>\n",
       "<table border=\"1\" class=\"dataframe\">\n",
       "  <thead>\n",
       "    <tr style=\"text-align: right;\">\n",
       "      <th></th>\n",
       "      <th>online_order</th>\n",
       "      <th>book_table</th>\n",
       "      <th>votes</th>\n",
       "      <th>location</th>\n",
       "      <th>rest_type</th>\n",
       "      <th>cuisines</th>\n",
       "      <th>cost</th>\n",
       "      <th>menu_item</th>\n",
       "    </tr>\n",
       "  </thead>\n",
       "  <tbody>\n",
       "    <tr>\n",
       "      <th>0</th>\n",
       "      <td>1</td>\n",
       "      <td>1</td>\n",
       "      <td>775</td>\n",
       "      <td>1</td>\n",
       "      <td>20</td>\n",
       "      <td>1386</td>\n",
       "      <td>800.0</td>\n",
       "      <td>5047</td>\n",
       "    </tr>\n",
       "    <tr>\n",
       "      <th>1</th>\n",
       "      <td>1</td>\n",
       "      <td>0</td>\n",
       "      <td>787</td>\n",
       "      <td>1</td>\n",
       "      <td>20</td>\n",
       "      <td>594</td>\n",
       "      <td>800.0</td>\n",
       "      <td>5047</td>\n",
       "    </tr>\n",
       "    <tr>\n",
       "      <th>2</th>\n",
       "      <td>1</td>\n",
       "      <td>0</td>\n",
       "      <td>918</td>\n",
       "      <td>1</td>\n",
       "      <td>16</td>\n",
       "      <td>484</td>\n",
       "      <td>800.0</td>\n",
       "      <td>5047</td>\n",
       "    </tr>\n",
       "    <tr>\n",
       "      <th>3</th>\n",
       "      <td>0</td>\n",
       "      <td>0</td>\n",
       "      <td>88</td>\n",
       "      <td>1</td>\n",
       "      <td>62</td>\n",
       "      <td>1587</td>\n",
       "      <td>300.0</td>\n",
       "      <td>5047</td>\n",
       "    </tr>\n",
       "    <tr>\n",
       "      <th>4</th>\n",
       "      <td>0</td>\n",
       "      <td>0</td>\n",
       "      <td>166</td>\n",
       "      <td>4</td>\n",
       "      <td>20</td>\n",
       "      <td>1406</td>\n",
       "      <td>600.0</td>\n",
       "      <td>5047</td>\n",
       "    </tr>\n",
       "  </tbody>\n",
       "</table>\n",
       "</div>"
      ],
      "text/plain": [
       "   online_order  book_table  votes  location  rest_type  cuisines   cost  \\\n",
       "0             1           1    775         1         20      1386  800.0   \n",
       "1             1           0    787         1         20       594  800.0   \n",
       "2             1           0    918         1         16       484  800.0   \n",
       "3             0           0     88         1         62      1587  300.0   \n",
       "4             0           0    166         4         20      1406  600.0   \n",
       "\n",
       "   menu_item  \n",
       "0       5047  \n",
       "1       5047  \n",
       "2       5047  \n",
       "3       5047  \n",
       "4       5047  "
      ]
     },
     "execution_count": 66,
     "metadata": {},
     "output_type": "execute_result"
    }
   ],
   "source": [
    "x = df.iloc[:,[2,3,5,6,7,9,10,12]]\n",
    "x.head()"
   ]
  },
  {
   "cell_type": "code",
   "execution_count": 67,
   "id": "562529da",
   "metadata": {
    "execution": {
     "iopub.execute_input": "2022-11-05T10:16:04.762970Z",
     "iopub.status.busy": "2022-11-05T10:16:04.762081Z",
     "iopub.status.idle": "2022-11-05T10:16:04.770701Z",
     "shell.execute_reply": "2022-11-05T10:16:04.769594Z"
    },
    "papermill": {
     "duration": 0.036224,
     "end_time": "2022-11-05T10:16:04.772847",
     "exception": false,
     "start_time": "2022-11-05T10:16:04.736623",
     "status": "completed"
    },
    "tags": []
   },
   "outputs": [
    {
     "data": {
      "text/plain": [
       "0        4.1\n",
       "1        4.1\n",
       "2        3.8\n",
       "3        3.7\n",
       "4        3.8\n",
       "        ... \n",
       "23243    3.8\n",
       "23244    3.9\n",
       "23245    2.8\n",
       "23246    2.5\n",
       "23247    4.3\n",
       "Name: rate, Length: 23248, dtype: float64"
      ]
     },
     "execution_count": 67,
     "metadata": {},
     "output_type": "execute_result"
    }
   ],
   "source": [
    "y = df['rate']\n",
    "y"
   ]
  },
  {
   "cell_type": "code",
   "execution_count": 68,
   "id": "675040f8",
   "metadata": {
    "execution": {
     "iopub.execute_input": "2022-11-05T10:16:04.827686Z",
     "iopub.status.busy": "2022-11-05T10:16:04.826164Z",
     "iopub.status.idle": "2022-11-05T10:16:04.836386Z",
     "shell.execute_reply": "2022-11-05T10:16:04.835572Z"
    },
    "papermill": {
     "duration": 0.039842,
     "end_time": "2022-11-05T10:16:04.838343",
     "exception": false,
     "start_time": "2022-11-05T10:16:04.798501",
     "status": "completed"
    },
    "tags": []
   },
   "outputs": [],
   "source": [
    "x_train,x_test,y_train,y_test=train_test_split(x,y,test_size=.3,random_state=10)"
   ]
  },
  {
   "cell_type": "code",
   "execution_count": 69,
   "id": "6a54539b",
   "metadata": {
    "execution": {
     "iopub.execute_input": "2022-11-05T10:16:04.889706Z",
     "iopub.status.busy": "2022-11-05T10:16:04.888740Z",
     "iopub.status.idle": "2022-11-05T10:16:04.911086Z",
     "shell.execute_reply": "2022-11-05T10:16:04.910185Z"
    },
    "papermill": {
     "duration": 0.051591,
     "end_time": "2022-11-05T10:16:04.914620",
     "exception": false,
     "start_time": "2022-11-05T10:16:04.863029",
     "status": "completed"
    },
    "tags": []
   },
   "outputs": [
    {
     "data": {
      "text/plain": [
       "LinearRegression()"
      ]
     },
     "execution_count": 69,
     "metadata": {},
     "output_type": "execute_result"
    }
   ],
   "source": [
    "lr_model=LinearRegression()\n",
    "lr_model.fit(x_train,y_train)"
   ]
  },
  {
   "cell_type": "code",
   "execution_count": 70,
   "id": "63f0a0cf",
   "metadata": {
    "execution": {
     "iopub.execute_input": "2022-11-05T10:16:05.038433Z",
     "iopub.status.busy": "2022-11-05T10:16:05.038070Z",
     "iopub.status.idle": "2022-11-05T10:16:05.056116Z",
     "shell.execute_reply": "2022-11-05T10:16:05.054600Z"
    },
    "papermill": {
     "duration": 0.082107,
     "end_time": "2022-11-05T10:16:05.060458",
     "exception": false,
     "start_time": "2022-11-05T10:16:04.978351",
     "status": "completed"
    },
    "tags": []
   },
   "outputs": [
    {
     "data": {
      "text/plain": [
       "0.22818828522967027"
      ]
     },
     "execution_count": 70,
     "metadata": {},
     "output_type": "execute_result"
    }
   ],
   "source": [
    "from sklearn.metrics import r2_score\n",
    "y_pred=lr_model.predict(x_test)\n",
    "r2_score(y_test,y_pred)"
   ]
  },
  {
   "cell_type": "code",
   "execution_count": 71,
   "id": "4cb18c8c",
   "metadata": {
    "execution": {
     "iopub.execute_input": "2022-11-05T10:16:05.187477Z",
     "iopub.status.busy": "2022-11-05T10:16:05.187147Z",
     "iopub.status.idle": "2022-11-05T10:16:28.980406Z",
     "shell.execute_reply": "2022-11-05T10:16:28.979450Z"
    },
    "papermill": {
     "duration": 23.853698,
     "end_time": "2022-11-05T10:16:28.982568",
     "exception": false,
     "start_time": "2022-11-05T10:16:05.128870",
     "status": "completed"
    },
    "tags": []
   },
   "outputs": [
    {
     "data": {
      "text/plain": [
       "0.8809706960047533"
      ]
     },
     "execution_count": 71,
     "metadata": {},
     "output_type": "execute_result"
    }
   ],
   "source": [
    "from sklearn.ensemble import RandomForestRegressor\n",
    "RF_Model=RandomForestRegressor(n_estimators=650,random_state=245,min_samples_leaf=.0001)\n",
    "RF_Model.fit(x_train,y_train)\n",
    "y_predict=RF_Model.predict(x_test)\n",
    "r2_score(y_test,y_predict)"
   ]
  },
  {
   "cell_type": "code",
   "execution_count": 72,
   "id": "679194ac",
   "metadata": {
    "execution": {
     "iopub.execute_input": "2022-11-05T10:16:29.032166Z",
     "iopub.status.busy": "2022-11-05T10:16:29.031263Z",
     "iopub.status.idle": "2022-11-05T10:16:31.514231Z",
     "shell.execute_reply": "2022-11-05T10:16:31.513263Z"
    },
    "papermill": {
     "duration": 2.510217,
     "end_time": "2022-11-05T10:16:31.516778",
     "exception": false,
     "start_time": "2022-11-05T10:16:29.006561",
     "status": "completed"
    },
    "tags": []
   },
   "outputs": [
    {
     "data": {
      "text/plain": [
       "0.9327728478941354"
      ]
     },
     "execution_count": 72,
     "metadata": {},
     "output_type": "execute_result"
    }
   ],
   "source": [
    "#Preparing Extra Tree Regression\n",
    "from sklearn.ensemble import  ExtraTreesRegressor\n",
    "ET_Model=ExtraTreesRegressor(n_estimators = 120)\n",
    "ET_Model.fit(x_train,y_train)\n",
    "y_predict=ET_Model.predict(x_test)\n",
    "\n",
    "\n",
    "from sklearn.metrics import r2_score\n",
    "r2_score(y_test,y_predict)"
   ]
  },
  {
   "cell_type": "code",
   "execution_count": 73,
   "id": "f741d0c7",
   "metadata": {
    "execution": {
     "iopub.execute_input": "2022-11-05T10:16:31.566193Z",
     "iopub.status.busy": "2022-11-05T10:16:31.565888Z",
     "iopub.status.idle": "2022-11-05T10:16:31.843318Z",
     "shell.execute_reply": "2022-11-05T10:16:31.842323Z"
    },
    "papermill": {
     "duration": 0.304918,
     "end_time": "2022-11-05T10:16:31.845867",
     "exception": false,
     "start_time": "2022-11-05T10:16:31.540949",
     "status": "completed"
    },
    "tags": []
   },
   "outputs": [],
   "source": [
    "import pickle \n",
    "# Saving model to disk\n",
    "pickle.dump(ET_Model, open('model.pkl','wb'))\n",
    "model=pickle.load(open('model.pkl','rb'))"
   ]
  }
 ],
 "metadata": {
  "kernelspec": {
   "display_name": "Python 3",
   "language": "python",
   "name": "python3"
  },
  "language_info": {
   "codemirror_mode": {
    "name": "ipython",
    "version": 3
   },
   "file_extension": ".py",
   "mimetype": "text/x-python",
   "name": "python",
   "nbconvert_exporter": "python",
   "pygments_lexer": "ipython3",
   "version": "3.7.12"
  },
  "papermill": {
   "default_parameters": {},
   "duration": 64.265785,
   "end_time": "2022-11-05T10:16:32.991919",
   "environment_variables": {},
   "exception": null,
   "input_path": "__notebook__.ipynb",
   "output_path": "__notebook__.ipynb",
   "parameters": {},
   "start_time": "2022-11-05T10:15:28.726134",
   "version": "2.3.4"
  }
 },
 "nbformat": 4,
 "nbformat_minor": 5
}
